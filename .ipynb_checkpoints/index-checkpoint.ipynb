{
 "cells": [
  {
   "cell_type": "code",
   "execution_count": 13,
   "id": "667860f7",
   "metadata": {},
   "outputs": [],
   "source": [
    "import json\n",
    "\n",
    "json_file = \"moringa_scraper/moringa_text_corpus.json\"\n",
    "\n",
    "\n",
    "with open(json_file, \"r\") as f:  # open scraped file\n",
    "    json_corpus = json.load(f)\n",
    "\n",
    "\n",
    "all_text_lists = []  # scraped links\n",
    "\n",
    "\n",
    "for link, text_list in json_corpus.items():\n",
    "    all_text_lists += text_list\n",
    "\n",
    "\n",
    "corpus = \"\".join(all_text_lists)\n",
    "\n",
    "\n",
    "with open(\"moringa.txt\", \"w\") as file:\n",
    "    file.write(corpus[:1000])"
   ]
  }
 ],
 "metadata": {
  "kernelspec": {
   "display_name": "saturn (Python 3)",
   "language": "python",
   "name": "python3"
  },
  "language_info": {
   "codemirror_mode": {
    "name": "ipython",
    "version": 3
   },
   "file_extension": ".py",
   "mimetype": "text/x-python",
   "name": "python",
   "nbconvert_exporter": "python",
   "pygments_lexer": "ipython3",
   "version": "3.10.6"
  }
 },
 "nbformat": 4,
 "nbformat_minor": 5
}
