{
 "cells": [
  {
   "cell_type": "code",
   "execution_count": null,
   "id": "499e4365-e4ce-4c4a-ae6f-69511c77284d",
   "metadata": {},
   "outputs": [],
   "source": [
    "import json\n",
    "import textwrap\n",
    "\n",
    "json_file = \"moringa_scraper/moringa_text_corpus.json\"\n",
    "\n",
    "with open(json_file, \"r\") as f:\n",
    "    json_corpus = json.load(f)\n",
    "\n",
    "all_text_lists = []\n",
    "\n",
    "i = 0\n",
    "\n",
    "for link, text_list in json_corpus.items():\n",
    "    if \"blog\" in link or \"apply\" in link:\n",
    "        continue\n",
    "    print(i,link)\n",
    "    all_text_lists += text_list\n",
    "    i += 1\n",
    "\n",
    "# all_text_lists= [text for text in all_text_lists if len(text.split(\" \")) > 4]\n",
    "\n",
    "corpus = \"\\n\".join(all_text_lists)\n",
    "\n",
    "corpus = textwrap.fill(corpus, width=138)\n",
    "\n",
    "with open(\"moringa.txt\", \"w\") as file:\n",
    "    file.write(corpus)\n"
   ]
  },
  {
   "cell_type": "code",
   "execution_count": null,
   "id": "28ff3f6d-455d-419d-9ce4-9fe6b9bbd5fe",
   "metadata": {},
   "outputs": [],
   "source": [
    "import os\n",
    "\n",
    "members = [\"FREDRICK\", \"Peninah\", \"Kelvin\", \"Angela\", \"Samuel\", \"Dennis\", \"Mark\"]\n",
    "\n",
    "for member in members:\n",
    "    directory_name = f\"__chunk_{member}__\"\n",
    "    os.makedirs(directory_name, exist_ok=True)"
   ]
  },
  {
   "cell_type": "code",
   "execution_count": null,
   "id": "5a1a9400-6703-405d-ab68-aa4bf82800a7",
   "metadata": {},
   "outputs": [],
   "source": [
    "max_words = len(corpus)\n",
    "chunk_len = max_words // len(members)\n",
    "\n",
    "i = 0\n",
    "j = i + chunk_len\n",
    "\n",
    "for member in members:\n",
    "    directory_name = f\"__chunk_{member}__\"\n",
    "\n",
    "    with open(f\"{directory_name}/chunk.txt\", \"w\") as f:\n",
    "        f.write(corpus[i:j])\n",
    "    i += chunk_len\n",
    "    j = i + chunk_len\n",
    "    "
   ]
  }
 ],
 "metadata": {
  "kernelspec": {
   "display_name": "saturn (Python 3)",
   "language": "python",
   "name": "python3"
  },
  "language_info": {
   "codemirror_mode": {
    "name": "ipython",
    "version": 3
   },
   "file_extension": ".py",
   "mimetype": "text/x-python",
   "name": "python",
   "nbconvert_exporter": "python",
   "pygments_lexer": "ipython3",
   "version": "3.10.6"
  }
 },
 "nbformat": 4,
 "nbformat_minor": 5
}
