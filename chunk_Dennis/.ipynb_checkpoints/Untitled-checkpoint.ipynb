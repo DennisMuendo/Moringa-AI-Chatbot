{
 "cells": [
  {
   "cell_type": "code",
   "execution_count": 1,
   "metadata": {},
   "outputs": [
    {
     "name": "stderr",
     "output_type": "stream",
     "text": [
      "C:\\Users\\Dennis\\anaconda3\\envs\\learn-env\\lib\\site-packages\\scipy\\__init__.py:173: UserWarning: A NumPy version >=1.19.5 and <1.27.0 is required for this version of SciPy (detected version 1.19.0)\n",
      "  warnings.warn(f\"A NumPy version >={np_minversion} and <{np_maxversion}\"\n"
     ]
    }
   ],
   "source": [
    "import json\n",
    "import matplotlib.pyplot as plt\n",
    "import numpy as np\n",
    "import pandas as pd\n",
    "import re\n",
    "import sklearn\n",
    "import seaborn as sns\n",
    "# Natural Language Processing (NLP)\n",
    "import nltk\n",
    "from nltk.tokenize import word_tokenize\n",
    "from nltk.corpus import stopwords\n",
    "from nltk.stem import WordNetLemmatizer\n",
    "\n",
    "# Text Vectorization and Machine Learning\n",
    "from sklearn.feature_extraction.text import TfidfVectorizer, CountVectorizer\n",
    "from sklearn.model_selection import train_test_split, GridSearchCV\n",
    "from sklearn.metrics import (\n",
    "    classification_report, accuracy_score, confusion_matrix,\n",
    "    f1_score, precision_score, recall_score,\n",
    "    roc_auc_score, roc_curve, auc, precision_recall_curve, average_precision_score\n",
    ")\n",
    "from xgboost import XGBClassifier"
   ]
  },
  {
   "cell_type": "code",
   "execution_count": 2,
   "metadata": {},
   "outputs": [
    {
     "name": "stderr",
     "output_type": "stream",
     "text": [
      "[nltk_data] Downloading package punkt to\n",
      "[nltk_data]     C:\\Users\\Dennis\\AppData\\Roaming\\nltk_data...\n",
      "[nltk_data]   Package punkt is already up-to-date!\n",
      "[nltk_data] Downloading package stopwords to\n",
      "[nltk_data]     C:\\Users\\Dennis\\AppData\\Roaming\\nltk_data...\n",
      "[nltk_data]   Package stopwords is already up-to-date!\n",
      "[nltk_data] Downloading package wordnet to\n",
      "[nltk_data]     C:\\Users\\Dennis\\AppData\\Roaming\\nltk_data...\n",
      "[nltk_data]   Package wordnet is already up-to-date!\n"
     ]
    },
    {
     "data": {
      "text/plain": [
       "True"
      ]
     },
     "execution_count": 2,
     "metadata": {},
     "output_type": "execute_result"
    }
   ],
   "source": [
    "nltk.download('punkt')\n",
    "nltk.download('stopwords')\n",
    "nltk.download('wordnet')"
   ]
  },
  {
   "cell_type": "code",
   "execution_count": 3,
   "metadata": {},
   "outputs": [],
   "source": [
    "with open('../Final_Intents.json', 'r') as file:\n",
    "    data = json.load(file)"
   ]
  },
  {
   "cell_type": "code",
   "execution_count": null,
   "metadata": {},
   "outputs": [],
   "source": [
    "df = pd."
   ]
  },
  {
   "cell_type": "code",
   "execution_count": 4,
   "metadata": {},
   "outputs": [],
   "source": [
    "# Function to pair each question with its corresponding response\n",
    "def pair_questions_responses(data):\n",
    "    paired_data = []\n",
    "    for item in data:\n",
    "        tag = item.get('tag', 'Unknown')\n",
    "        questions = item.get('questions', [])\n",
    "        responses = item.get('responses', [])\n",
    "\n",
    "        for question, response in zip(questions, responses):\n",
    "            paired_data.append({'tag': tag, 'question': question, 'response': response})\n",
    "\n",
    "    return paired_data"
   ]
  },
  {
   "cell_type": "code",
   "execution_count": 5,
   "metadata": {},
   "outputs": [
    {
     "data": {
      "text/html": [
       "<div>\n",
       "<style scoped>\n",
       "    .dataframe tbody tr th:only-of-type {\n",
       "        vertical-align: middle;\n",
       "    }\n",
       "\n",
       "    .dataframe tbody tr th {\n",
       "        vertical-align: top;\n",
       "    }\n",
       "\n",
       "    .dataframe thead th {\n",
       "        text-align: right;\n",
       "    }\n",
       "</style>\n",
       "<table border=\"1\" class=\"dataframe\">\n",
       "  <thead>\n",
       "    <tr style=\"text-align: right;\">\n",
       "      <th></th>\n",
       "      <th>tag</th>\n",
       "      <th>question</th>\n",
       "      <th>response</th>\n",
       "    </tr>\n",
       "  </thead>\n",
       "  <tbody>\n",
       "    <tr>\n",
       "      <th>0</th>\n",
       "      <td>cloud_computing</td>\n",
       "      <td>What is the fundamental starting point for und...</td>\n",
       "      <td>The fundamental starting point for understandi...</td>\n",
       "    </tr>\n",
       "    <tr>\n",
       "      <th>1</th>\n",
       "      <td>cloud_computing</td>\n",
       "      <td>How does Moringa School introduce the concept ...</td>\n",
       "      <td>Moringa School introduces the concept of Cloud...</td>\n",
       "    </tr>\n",
       "    <tr>\n",
       "      <th>2</th>\n",
       "      <td>cloud_computing</td>\n",
       "      <td>Why is Cloud Computing considered essential in...</td>\n",
       "      <td>Cloud Computing is considered essential in the...</td>\n",
       "    </tr>\n",
       "    <tr>\n",
       "      <th>3</th>\n",
       "      <td>cloud_computing</td>\n",
       "      <td>Can you provide an overview of the Cloud Compu...</td>\n",
       "      <td>The Cloud Computing program at Moringa School ...</td>\n",
       "    </tr>\n",
       "    <tr>\n",
       "      <th>4</th>\n",
       "      <td>cloud_computing</td>\n",
       "      <td>What are the eligibility requirements for the ...</td>\n",
       "      <td>To be eligible for the Cloud Computing program...</td>\n",
       "    </tr>\n",
       "  </tbody>\n",
       "</table>\n",
       "</div>"
      ],
      "text/plain": [
       "               tag                                           question  \\\n",
       "0  cloud_computing  What is the fundamental starting point for und...   \n",
       "1  cloud_computing  How does Moringa School introduce the concept ...   \n",
       "2  cloud_computing  Why is Cloud Computing considered essential in...   \n",
       "3  cloud_computing  Can you provide an overview of the Cloud Compu...   \n",
       "4  cloud_computing  What are the eligibility requirements for the ...   \n",
       "\n",
       "                                            response  \n",
       "0  The fundamental starting point for understandi...  \n",
       "1  Moringa School introduces the concept of Cloud...  \n",
       "2  Cloud Computing is considered essential in the...  \n",
       "3  The Cloud Computing program at Moringa School ...  \n",
       "4  To be eligible for the Cloud Computing program...  "
      ]
     },
     "execution_count": 5,
     "metadata": {},
     "output_type": "execute_result"
    }
   ],
   "source": [
    "# Convert the JSON data into a DataFrame\n",
    "paired_data = pair_questions_responses(data)\n",
    "df = pd.DataFrame(paired_data)\n",
    "df.head ()"
   ]
  },
  {
   "cell_type": "code",
   "execution_count": 8,
   "metadata": {},
   "outputs": [
    {
     "data": {
      "text/html": [
       "<div>\n",
       "<style scoped>\n",
       "    .dataframe tbody tr th:only-of-type {\n",
       "        vertical-align: middle;\n",
       "    }\n",
       "\n",
       "    .dataframe tbody tr th {\n",
       "        vertical-align: top;\n",
       "    }\n",
       "\n",
       "    .dataframe thead th {\n",
       "        text-align: right;\n",
       "    }\n",
       "</style>\n",
       "<table border=\"1\" class=\"dataframe\">\n",
       "  <thead>\n",
       "    <tr style=\"text-align: right;\">\n",
       "      <th></th>\n",
       "      <th>tag</th>\n",
       "      <th>question</th>\n",
       "      <th>response</th>\n",
       "    </tr>\n",
       "  </thead>\n",
       "  <tbody>\n",
       "    <tr>\n",
       "      <th>0</th>\n",
       "      <td>cloud_computing</td>\n",
       "      <td>what is the fundamental starting point for und...</td>\n",
       "      <td>the fundamental starting point for understandi...</td>\n",
       "    </tr>\n",
       "    <tr>\n",
       "      <th>1</th>\n",
       "      <td>cloud_computing</td>\n",
       "      <td>how does moringa school introduce the concept ...</td>\n",
       "      <td>moringa school introduces the concept of cloud...</td>\n",
       "    </tr>\n",
       "    <tr>\n",
       "      <th>2</th>\n",
       "      <td>cloud_computing</td>\n",
       "      <td>why is cloud computing considered essential in...</td>\n",
       "      <td>cloud computing is considered essential in the...</td>\n",
       "    </tr>\n",
       "    <tr>\n",
       "      <th>3</th>\n",
       "      <td>cloud_computing</td>\n",
       "      <td>can you provide an overview of the cloud compu...</td>\n",
       "      <td>the cloud computing program at moringa school ...</td>\n",
       "    </tr>\n",
       "    <tr>\n",
       "      <th>4</th>\n",
       "      <td>cloud_computing</td>\n",
       "      <td>what are the eligibility requirements for the ...</td>\n",
       "      <td>to be eligible for the cloud computing program...</td>\n",
       "    </tr>\n",
       "  </tbody>\n",
       "</table>\n",
       "</div>"
      ],
      "text/plain": [
       "               tag                                           question  \\\n",
       "0  cloud_computing  what is the fundamental starting point for und...   \n",
       "1  cloud_computing  how does moringa school introduce the concept ...   \n",
       "2  cloud_computing  why is cloud computing considered essential in...   \n",
       "3  cloud_computing  can you provide an overview of the cloud compu...   \n",
       "4  cloud_computing  what are the eligibility requirements for the ...   \n",
       "\n",
       "                                            response  \n",
       "0  the fundamental starting point for understandi...  \n",
       "1  moringa school introduces the concept of cloud...  \n",
       "2  cloud computing is considered essential in the...  \n",
       "3  the cloud computing program at moringa school ...  \n",
       "4  to be eligible for the cloud computing program...  "
      ]
     },
     "execution_count": 8,
     "metadata": {},
     "output_type": "execute_result"
    }
   ],
   "source": [
    "# Text Cleaning\n",
    "# Remove any unnecessary characters, symbols, or special characters.\n",
    "# Convert text to lowercase to ensure uniformity.\n",
    "df['question'] = df['question'].str.lower().replace('[^a-zA-Z0-9]', ' ', regex=True)\n",
    "df['response'] = df['response'].str.lower().replace('[^a-zA-Z0-9]', ' ', regex=True)\n",
    "\n",
    "# Display the cleaned DataFrame\n",
    "df.head()"
   ]
  },
  {
   "cell_type": "code",
   "execution_count": null,
   "metadata": {},
   "outputs": [],
   "source": [
    "#df = qna_df.reindex(np.random.permutation(qna_df.index))"
   ]
  },
  {
   "cell_type": "code",
   "execution_count": 9,
   "metadata": {
    "scrolled": false
   },
   "outputs": [],
   "source": [
    "# Tokenization\n",
    "# Tokenization of the 'Question' column\n",
    "df['Tokenized_Question'] = df['question'].apply(lambda x: nltk.word_tokenize(x))\n",
    "df['Tokenized_Response'] = df['response'].apply(lambda x: nltk.word_tokenize(x))"
   ]
  },
  {
   "cell_type": "code",
   "execution_count": 10,
   "metadata": {},
   "outputs": [],
   "source": [
    "# Remove Stopwords\n",
    "stop_words = set(stopwords.words('english'))\n",
    "df['Tokenized_Question'] = df['Tokenized_Question'].apply(lambda x: [word for word in x if word not in stop_words])\n",
    "df['Tokenized_Response'] = df['Tokenized_Response'].apply(lambda x: [word for word in x if word not in stop_words])"
   ]
  },
  {
   "cell_type": "code",
   "execution_count": 11,
   "metadata": {},
   "outputs": [],
   "source": [
    "# Lemmatization\n",
    "lemmatizer = WordNetLemmatizer()\n",
    "df['Tokenized_Question'] = df['Tokenized_Question'].apply(lambda x: [lemmatizer.lemmatize(word) for word in x])\n",
    "df['Tokenized_Response'] = df['Tokenized_Response'].apply(lambda x: [lemmatizer.lemmatize(word) for word in x]) "
   ]
  },
  {
   "cell_type": "code",
   "execution_count": 13,
   "metadata": {
    "scrolled": true
   },
   "outputs": [
    {
     "data": {
      "text/html": [
       "<div>\n",
       "<style scoped>\n",
       "    .dataframe tbody tr th:only-of-type {\n",
       "        vertical-align: middle;\n",
       "    }\n",
       "\n",
       "    .dataframe tbody tr th {\n",
       "        vertical-align: top;\n",
       "    }\n",
       "\n",
       "    .dataframe thead th {\n",
       "        text-align: right;\n",
       "    }\n",
       "</style>\n",
       "<table border=\"1\" class=\"dataframe\">\n",
       "  <thead>\n",
       "    <tr style=\"text-align: right;\">\n",
       "      <th></th>\n",
       "      <th>tag</th>\n",
       "      <th>Tokenized_Question</th>\n",
       "      <th>Tokenized_Response</th>\n",
       "    </tr>\n",
       "  </thead>\n",
       "  <tbody>\n",
       "    <tr>\n",
       "      <th>0</th>\n",
       "      <td>cloud_computing</td>\n",
       "      <td>[fundamental, starting, point, understanding, ...</td>\n",
       "      <td>[fundamental, starting, point, understanding, ...</td>\n",
       "    </tr>\n",
       "    <tr>\n",
       "      <th>1</th>\n",
       "      <td>cloud_computing</td>\n",
       "      <td>[moringa, school, introduce, concept, cloud, c...</td>\n",
       "      <td>[moringa, school, introduces, concept, cloud, ...</td>\n",
       "    </tr>\n",
       "    <tr>\n",
       "      <th>2</th>\n",
       "      <td>cloud_computing</td>\n",
       "      <td>[cloud, computing, considered, essential, real...</td>\n",
       "      <td>[cloud, computing, considered, essential, real...</td>\n",
       "    </tr>\n",
       "    <tr>\n",
       "      <th>3</th>\n",
       "      <td>cloud_computing</td>\n",
       "      <td>[provide, overview, cloud, computing, program,...</td>\n",
       "      <td>[cloud, computing, program, moringa, school, o...</td>\n",
       "    </tr>\n",
       "    <tr>\n",
       "      <th>4</th>\n",
       "      <td>cloud_computing</td>\n",
       "      <td>[eligibility, requirement, cloud, computing, p...</td>\n",
       "      <td>[eligible, cloud, computing, program, student,...</td>\n",
       "    </tr>\n",
       "  </tbody>\n",
       "</table>\n",
       "</div>"
      ],
      "text/plain": [
       "               tag                                 Tokenized_Question  \\\n",
       "0  cloud_computing  [fundamental, starting, point, understanding, ...   \n",
       "1  cloud_computing  [moringa, school, introduce, concept, cloud, c...   \n",
       "2  cloud_computing  [cloud, computing, considered, essential, real...   \n",
       "3  cloud_computing  [provide, overview, cloud, computing, program,...   \n",
       "4  cloud_computing  [eligibility, requirement, cloud, computing, p...   \n",
       "\n",
       "                                  Tokenized_Response  \n",
       "0  [fundamental, starting, point, understanding, ...  \n",
       "1  [moringa, school, introduces, concept, cloud, ...  \n",
       "2  [cloud, computing, considered, essential, real...  \n",
       "3  [cloud, computing, program, moringa, school, o...  \n",
       "4  [eligible, cloud, computing, program, student,...  "
      ]
     },
     "execution_count": 13,
     "metadata": {},
     "output_type": "execute_result"
    }
   ],
   "source": [
    "# Display the DataFrame with tokenized and processed 'question' and 'response'\n",
    "df[['tag', 'Tokenized_Question', 'Tokenized_Response']].head()"
   ]
  },
  {
   "cell_type": "code",
   "execution_count": 45,
   "metadata": {},
   "outputs": [
    {
     "data": {
      "text/plain": [
       "['fundamental', 'starting', 'point', 'understanding', 'cloud', 'computing']"
      ]
     },
     "execution_count": 45,
     "metadata": {},
     "output_type": "execute_result"
    }
   ],
   "source": [
    "df['Tokenized_Question'].iloc[0]"
   ]
  },
  {
   "cell_type": "code",
   "execution_count": 14,
   "metadata": {},
   "outputs": [],
   "source": [
    "# Vectorization using TF-IDF for both 'question' and 'response'\n",
    "tfidf_vectorizer_combined = TfidfVectorizer()\n",
    "X_tfidf_combined = tfidf_vectorizer_combined.fit_transform(\n",
    "    df.apply(lambda row: ' '.join(row['Tokenized_Question'] + row['Tokenized_Response']), axis=1)\n",
    ")"
   ]
  },
  {
   "cell_type": "markdown",
   "metadata": {},
   "source": [
    "## XGBOOST MODEL"
   ]
  },
  {
   "cell_type": "code",
   "execution_count": 16,
   "metadata": {},
   "outputs": [
    {
     "name": "stdout",
     "output_type": "stream",
     "text": [
      "Accuracy: 0.39166666666666666\n",
      "Classification Report:\n",
      "                                                          precision    recall  f1-score   support\n",
      "\n",
      "                           Advanced_Data_Science_Topics       0.00      0.00      0.00         1\n",
      "                                                Contact       0.50      0.50      0.50         2\n",
      "                     Cybersecurity_Career_Opportunities       0.50      0.33      0.40         3\n",
      "                           Cybersecurity_Certifications       0.00      0.00      0.00         2\n",
      "                       Cybersecurity_Course_Information       0.00      0.00      0.00         1\n",
      "                                Data_Ethics_and_Privacy       0.00      0.00      0.00         2\n",
      "            Data_Science_Admission_Eligibility_Criteria       1.00      0.50      0.67         2\n",
      "                       Data_Science_Application_Process       0.00      0.00      0.00         0\n",
      "                  Data_Science_Applications_in_Business       0.00      0.00      0.00         2\n",
      "                                    Data_Science_Career       0.25      1.00      0.40         1\n",
      "                      Data_Science_Career_Opportunities       1.00      0.25      0.40         4\n",
      "                 Data_Science_Career_Transition_Support       0.00      0.00      0.00         1\n",
      "           Data_Science_Certification_and_Accreditation       0.00      0.00      0.00         0\n",
      "       Data_Science_Collaborative_Projects_and_Teamwork       0.00      0.00      0.00         2\n",
      "               Data_Science_Competitions_and_Challenges       1.00      0.33      0.50         3\n",
      "                  Data_Science_Course_Duration_and_Fees       0.00      0.00      0.00         0\n",
      "                           Data_Science_Course_Overview       0.17      1.00      0.29         1\n",
      "             Data_Science_Course_Pacing_and_Flexibility       0.00      0.00      0.00         1\n",
      "             Data_Science_Course_Schedule_and_Structure       0.00      0.00      0.00         1\n",
      "                                   Data_Science_Courses       0.33      0.50      0.40         2\n",
      "                        Data_Science_Curriculum_Outline       0.00      0.00      0.00         5\n",
      "                Data_Science_Cybersecurity_Introduction       0.00      0.00      0.00         1\n",
      "Data_Science_Networking_and_Collaboration_Opportunities       0.00      0.00      0.00         1\n",
      "         Data_Science_Online_and_Offline_Learning_Modes       1.00      1.00      1.00         1\n",
      "           Data_Science_Project_and_Hands-on_Experience       0.50      0.33      0.40         3\n",
      "                         Data_Science_Skill_Development       0.00      0.00      0.00         1\n",
      "                   Data_Science_Statistics_and_Analysis       0.50      1.00      0.67         1\n",
      "                  Data_Science_Student_Support_Services       0.00      0.00      0.00         0\n",
      "                             DevOps_Admissions_and_Fees       0.00      0.00      0.00         1\n",
      "                            DevOps_Career_Opportunities       1.00      0.50      0.67         2\n",
      "                              DevOps_Course_Information       1.00      0.67      0.80         3\n",
      "                                   Enrollment_Deadlines       0.00      0.00      0.00         3\n",
      "                                 Enrollment_Information       0.00      0.00      0.00         0\n",
      "                                                  Event       1.00      1.00      1.00         1\n",
      "                                          Financial Aid       1.00      0.50      0.67         4\n",
      "                        Full_Stack_Software_Engineering       0.25      1.00      0.40         1\n",
      "                    Instructor_Expertise_and_Background       0.00      0.00      0.00         1\n",
      "                      International_Student_Information       0.50      1.00      0.67         1\n",
      "                              Mobile_Development_Career       0.17      0.33      0.22         3\n",
      "                             Mobile_Development_Courses       1.00      1.00      1.00         1\n",
      "                                 Moringa_School_Courses       0.67      0.67      0.67         3\n",
      "                                    Moringa_School_News       0.00      0.00      0.00         2\n",
      "                 Mpesa_Mini_Apps_API_Course_Information       0.50      0.50      0.50         2\n",
      "                                            Partnership       0.50      1.00      0.67         2\n",
      "              Product_Design_UI/UX_Career_Opportunities       1.00      1.00      1.00         2\n",
      "                Product_Design_UI/UX_Course_Information       0.50      0.50      0.50         2\n",
      "                      Software_Engineering_Mobile_Track       1.00      0.25      0.40         4\n",
      "                         Student_Life_and_Break_Periods       0.00      0.00      0.00         4\n",
      "                                         ai_integration       0.00      0.00      0.00         1\n",
      "                                       aws_cloud_course       0.40      1.00      0.57         2\n",
      "                                 aws_cloud_practitioner       1.00      0.40      0.57         5\n",
      "                                        career_services       0.50      0.50      0.50         2\n",
      "                                        cloud_computing       1.00      1.00      1.00         2\n",
      "                                   cloud_developer_role       0.67      1.00      0.80         2\n",
      "               course_details_Front-End_web_development       1.00      1.00      1.00         2\n",
      "                                      detailed_schedule       0.00      0.00      0.00         1\n",
      "                                             enrollment       0.50      1.00      0.67         1\n",
      "                                    enrollment_deadline       0.00      0.00      0.00         0\n",
      "                                 enrollment_information       0.00      0.00      0.00         2\n",
      "                                      hr_data_analytics       0.50      1.00      0.67         1\n",
      "                                      interview_process       0.50      1.00      0.67         1\n",
      "                                     learning_resources       0.50      0.14      0.22         7\n",
      "                                        online_learning       1.00      1.00      1.00         1\n",
      "                               professional_advancement       0.00      0.00      0.00         2\n",
      "                                      student_community       0.14      0.50      0.22         2\n",
      "                                    tech_based_learning       0.00      0.00      0.00         0\n",
      "\n",
      "                                               accuracy                           0.39       120\n",
      "                                              macro avg       0.37      0.40      0.34       120\n",
      "                                           weighted avg       0.48      0.39      0.38       120\n",
      "\n"
     ]
    },
    {
     "name": "stderr",
     "output_type": "stream",
     "text": [
      "C:\\Users\\Dennis\\anaconda3\\envs\\learn-env\\lib\\site-packages\\sklearn\\metrics\\_classification.py:1221: UndefinedMetricWarning: Precision and F-score are ill-defined and being set to 0.0 in labels with no predicted samples. Use `zero_division` parameter to control this behavior.\n",
      "  _warn_prf(average, modifier, msg_start, len(result))\n",
      "C:\\Users\\Dennis\\anaconda3\\envs\\learn-env\\lib\\site-packages\\sklearn\\metrics\\_classification.py:1221: UndefinedMetricWarning: Recall and F-score are ill-defined and being set to 0.0 in labels with no true samples. Use `zero_division` parameter to control this behavior.\n",
      "  _warn_prf(average, modifier, msg_start, len(result))\n"
     ]
    }
   ],
   "source": [
    "# Split data into training and testing sets\n",
    "X_train, X_test, y_train, y_test = train_test_split(X_tfidf_combined, df['tag'], test_size=0.2, random_state=42)\n",
    "\n",
    "# Train a model \n",
    "model = XGBClassifier()\n",
    "model.fit(X_train, y_train)\n",
    "\n",
    "# Make predictions\n",
    "predictions = model.predict(X_test)\n",
    "\n",
    "# Evaluate the model\n",
    "print(\"Accuracy:\", accuracy_score(y_test, predictions))\n",
    "print(\"Classification Report:\\n\", classification_report(y_test, predictions))"
   ]
  },
  {
   "cell_type": "code",
   "execution_count": 41,
   "metadata": {},
   "outputs": [
    {
     "name": "stdout",
     "output_type": "stream",
     "text": [
      "Chatbot Response: moringa school supports graduates in their journey post education by providing ongoing mentorship  access to resources  and a supportive alumni community \n"
     ]
    }
   ],
   "source": [
    "from sklearn.metrics.pairwise import cosine_similarity\n",
    "\n",
    "def get_most_similar_response(user_input, df):\n",
    "    preprocessed_input = preprocess_input(user_input)\n",
    "\n",
    "    # Vectorize the user input\n",
    "    vectorized_input = tfidf_vectorizer_combined.transform([preprocessed_input])\n",
    "\n",
    "    # Vectorize all questions in the DataFrame\n",
    "    vectorized_questions = tfidf_vectorizer_combined.transform(\n",
    "        df.apply(lambda row: ' '.join(row['Tokenized_Question'] + row['Tokenized_Response']), axis=1)\n",
    "    )\n",
    "\n",
    "    # Calculate cosine similarity between the user input and all questions\n",
    "    similarities = cosine_similarity(vectorized_input, vectorized_questions).flatten()\n",
    "\n",
    "    # Get the index of the most similar question\n",
    "    most_similar_index = similarities.argmax()\n",
    "\n",
    "    # Retrieve the corresponding response\n",
    "    most_similar_response = df.loc[most_similar_index, 'response']\n",
    "\n",
    "    return most_similar_response\n",
    "\n",
    "# Example usage\n",
    "user_input = \"How does Moringa School support graduates in their journey post-education?\"\n",
    "chatbot_response = get_most_similar_response(user_input, df)\n",
    "print(\"Chatbot Response:\", chatbot_response)"
   ]
  },
  {
   "cell_type": "markdown",
   "metadata": {},
   "source": [
    "## Hyperparameter Tuning for XGBoost"
   ]
  },
  {
   "cell_type": "code",
   "execution_count": 29,
   "metadata": {},
   "outputs": [
    {
     "name": "stderr",
     "output_type": "stream",
     "text": [
      "C:\\Users\\Dennis\\anaconda3\\envs\\learn-env\\lib\\site-packages\\sklearn\\model_selection\\_split.py:670: UserWarning: The least populated class in y has only 1 members, which is less than n_splits=5.\n",
      "  warnings.warn((\"The least populated class in y has only %d\"\n"
     ]
    },
    {
     "name": "stdout",
     "output_type": "stream",
     "text": [
      "Best Parameters for XGBoost: {'learning_rate': 0.1, 'max_depth': 5, 'n_estimators': 50}\n",
      "Best Accuracy for XGBoost: 0.4385087719298246\n"
     ]
    }
   ],
   "source": [
    "# Define the parameter grid\n",
    "param_grid_xgb = {\n",
    "    'n_estimators': [50, 100, 200],\n",
    "    'max_depth': [3, 5, 7],\n",
    "    'learning_rate': [0.01, 0.1, 0.2]\n",
    "}\n",
    "\n",
    "# Initialize the XGBoost classifier\n",
    "xgb_model = XGBClassifier()\n",
    "\n",
    "# Initialize GridSearchCV\n",
    "grid_search_xgb = GridSearchCV(xgb_model, param_grid=param_grid_xgb, cv=5, scoring='accuracy')\n",
    "\n",
    "# Perform grid search\n",
    "grid_search_xgb.fit(X_train, y_train)\n",
    "\n",
    "# Print the best parameters and the corresponding accuracy\n",
    "print(\"Best Parameters for XGBoost:\", grid_search_xgb.best_params_)\n",
    "print(\"Best Accuracy for XGBoost:\", grid_search_xgb.best_score_)"
   ]
  },
  {
   "cell_type": "code",
   "execution_count": 42,
   "metadata": {},
   "outputs": [
    {
     "name": "stdout",
     "output_type": "stream",
     "text": [
      "Best Response: the aws cloud course at moringa school is designed to provide participants with a comprehensive understanding of cloud computing using amazon web services  aws  \n"
     ]
    }
   ],
   "source": [
    "def get_best_response(user_input, model, vectorizer, df):\n",
    "    preprocessed_input = preprocess_input(user_input)\n",
    "\n",
    "    # Vectorize the user input\n",
    "    vectorized_input = vectorizer.transform([preprocessed_input])\n",
    "\n",
    "    # Predict the category (tag) using the XGBoost model\n",
    "    predicted_category = model.predict(vectorized_input)[0]\n",
    "\n",
    "    # Filter based on the predicted category in the original DataFrame\n",
    "    response_df = df[df['tag'] == predicted_category]\n",
    "\n",
    "    if not response_df.empty:\n",
    "        # Retrieve the response associated with the predicted category\n",
    "        best_response = response_df.iloc[0]['response']\n",
    "        return best_response\n",
    "    else:\n",
    "        return \"I'm sorry, I don't have information on that topic.\"\n",
    "\n",
    "# Example usage\n",
    "user_input = \"What is the AWS Cloud course at Moringa School about?\"\n",
    "best_response = get_best_response(user_input, grid_search_xgb.best_estimator_, tfidf_vectorizer_combined, df)\n",
    "print(\"Best Response:\", best_response)"
   ]
  },
  {
   "cell_type": "code",
   "execution_count": null,
   "metadata": {},
   "outputs": [],
   "source": [
    "from sklearn.metrics.pairwise import cosine_similarity\n",
    "\n",
    "def get_most_similar_response(user_input, df):\n",
    "    preprocessed_input = preprocess_input(user_input)\n",
    "\n",
    "    # Vectorize the user input\n",
    "    vectorized_input = tfidf_vectorizer_combined.transform([preprocessed_input])\n",
    "\n",
    "    # Vectorize all questions in the DataFrame\n",
    "    vectorized_questions = tfidf_vectorizer_combined.transform(\n",
    "        df.apply(lambda row: ' '.join(row['Tokenized_Question'] + row['Tokenized_Response']), axis=1)\n",
    "    )\n",
    "\n",
    "    # Calculate cosine similarity between the user input and all questions\n",
    "    similarities = cosine_similarity(vectorized_input, vectorized_questions).flatten()\n",
    "\n",
    "    # Get the index of the most similar question\n",
    "    most_similar_index = similarities.argmax()\n",
    "\n",
    "    # Retrieve the corresponding response\n",
    "    most_similar_response = df.loc[most_similar_index, 'response']\n",
    "\n",
    "    return most_similar_response\n",
    "\n",
    "# Example usage\n",
    "user_input = \"How does Moringa School support graduates in their journey post-education?\"\n",
    "chatbot_response = get_most_similar_response(user_input, df)\n",
    "print(\"Chatbot Response:\", chatbot_response)"
   ]
  },
  {
   "cell_type": "code",
   "execution_count": 32,
   "metadata": {},
   "outputs": [
    {
     "name": "stdout",
     "output_type": "stream",
     "text": [
      "Accuracy of the Best XGBoost Model: 0.39166666666666666\n",
      "\n",
      "Classification Report for XGBoost:\n",
      "                                                         precision    recall  f1-score   support\n",
      "\n",
      "                           Advanced_Data_Science_Topics       0.00      0.00      0.00         1\n",
      "                                                Contact       0.50      0.50      0.50         2\n",
      "                     Cybersecurity_Career_Opportunities       0.50      0.33      0.40         3\n",
      "                           Cybersecurity_Certifications       0.00      0.00      0.00         2\n",
      "                       Cybersecurity_Course_Information       0.00      0.00      0.00         1\n",
      "                                Data_Ethics_and_Privacy       0.00      0.00      0.00         2\n",
      "            Data_Science_Admission_Eligibility_Criteria       1.00      0.50      0.67         2\n",
      "                       Data_Science_Application_Process       0.00      0.00      0.00         0\n",
      "                  Data_Science_Applications_in_Business       1.00      0.50      0.67         2\n",
      "                                    Data_Science_Career       0.20      1.00      0.33         1\n",
      "                      Data_Science_Career_Opportunities       0.00      0.00      0.00         4\n",
      "                 Data_Science_Career_Transition_Support       0.00      0.00      0.00         1\n",
      "           Data_Science_Certification_and_Accreditation       0.00      0.00      0.00         0\n",
      "       Data_Science_Collaborative_Projects_and_Teamwork       0.00      0.00      0.00         2\n",
      "               Data_Science_Competitions_and_Challenges       0.00      0.00      0.00         3\n",
      "                  Data_Science_Course_Duration_and_Fees       0.00      0.00      0.00         0\n",
      "                           Data_Science_Course_Overview       0.17      1.00      0.29         1\n",
      "             Data_Science_Course_Pacing_and_Flexibility       0.00      0.00      0.00         1\n",
      "             Data_Science_Course_Schedule_and_Structure       0.00      0.00      0.00         1\n",
      "                                   Data_Science_Courses       0.33      0.50      0.40         2\n",
      "                        Data_Science_Curriculum_Outline       0.00      0.00      0.00         5\n",
      "                Data_Science_Cybersecurity_Introduction       0.00      0.00      0.00         1\n",
      "Data_Science_Networking_and_Collaboration_Opportunities       0.00      0.00      0.00         1\n",
      "         Data_Science_Online_and_Offline_Learning_Modes       1.00      1.00      1.00         1\n",
      "           Data_Science_Project_and_Hands-on_Experience       0.67      0.67      0.67         3\n",
      "                         Data_Science_Skill_Development       0.00      0.00      0.00         1\n",
      "                   Data_Science_Statistics_and_Analysis       0.50      1.00      0.67         1\n",
      "                  Data_Science_Student_Support_Services       0.00      0.00      0.00         0\n",
      "                             DevOps_Admissions_and_Fees       0.00      0.00      0.00         1\n",
      "                            DevOps_Career_Opportunities       1.00      0.50      0.67         2\n",
      "                              DevOps_Course_Information       1.00      0.67      0.80         3\n",
      "                                   Enrollment_Deadlines       0.00      0.00      0.00         3\n",
      "                                 Enrollment_Information       0.00      0.00      0.00         0\n",
      "                                                  Event       1.00      1.00      1.00         1\n",
      "                                          Financial Aid       1.00      0.50      0.67         4\n",
      "                        Full_Stack_Software_Engineering       0.33      1.00      0.50         1\n",
      "                    Instructor_Expertise_and_Background       0.00      0.00      0.00         1\n",
      "                      International_Student_Information       0.33      1.00      0.50         1\n",
      "                              Mobile_Development_Career       0.17      0.33      0.22         3\n",
      "                             Mobile_Development_Courses       0.00      0.00      0.00         1\n",
      "                                 Moringa_School_Courses       0.67      0.67      0.67         3\n",
      "                                    Moringa_School_News       0.00      0.00      0.00         2\n",
      "                 Mpesa_Mini_Apps_API_Course_Information       0.50      0.50      0.50         2\n",
      "                                            Partnership       0.50      1.00      0.67         2\n",
      "              Product_Design_UI/UX_Career_Opportunities       1.00      1.00      1.00         2\n",
      "                Product_Design_UI/UX_Course_Information       0.50      0.50      0.50         2\n",
      "                      Software_Engineering_Mobile_Track       1.00      0.25      0.40         4\n",
      "                         Student_Life_and_Break_Periods       0.00      0.00      0.00         4\n",
      "                                         ai_integration       0.00      0.00      0.00         1\n",
      "                                       aws_cloud_course       0.40      1.00      0.57         2\n",
      "                                 aws_cloud_practitioner       1.00      0.40      0.57         5\n",
      "                                        career_services       0.50      0.50      0.50         2\n",
      "                                        cloud_computing       1.00      1.00      1.00         2\n",
      "                                   cloud_developer_role       0.67      1.00      0.80         2\n",
      "               course_details_Front-End_web_development       1.00      1.00      1.00         2\n",
      "                                      detailed_schedule       0.00      0.00      0.00         1\n",
      "                                             enrollment       0.50      1.00      0.67         1\n",
      "                                    enrollment_deadline       0.00      0.00      0.00         0\n",
      "                                 enrollment_information       0.00      0.00      0.00         2\n",
      "                                      hr_data_analytics       0.50      1.00      0.67         1\n",
      "                                      interview_process       0.50      1.00      0.67         1\n",
      "                                     learning_resources       0.50      0.14      0.22         7\n",
      "                                        online_learning       1.00      1.00      1.00         1\n",
      "                               professional_advancement       0.00      0.00      0.00         2\n",
      "                                      student_community       0.29      1.00      0.44         2\n",
      "                                    tech_based_learning       0.00      0.00      0.00         0\n",
      "\n",
      "                                               accuracy                           0.39       120\n",
      "                                              macro avg       0.34      0.39      0.33       120\n",
      "                                           weighted avg       0.43      0.39      0.37       120\n",
      "\n"
     ]
    }
   ],
   "source": [
    "# Predictions on the test set\n",
    "y_pred_xgb = grid_search_xgb.predict(X_test)\n",
    "\n",
    "# Evaluate the XGBoost model\n",
    "accuracy_xgb = grid_search_xgb.score(X_test, y_test)\n",
    "print(\"Accuracy of the Best XGBoost Model:\", accuracy_xgb)\n",
    "\n",
    "# Classification Report\n",
    "print(\"\\nClassification Report for XGBoost:\")\n",
    "print(classification_report(y_test, y_pred_xgb))"
   ]
  },
  {
   "cell_type": "markdown",
   "metadata": {},
   "source": [
    "## MULTINOMIAL MODEL"
   ]
  },
  {
   "cell_type": "code",
   "execution_count": 23,
   "metadata": {},
   "outputs": [
    {
     "data": {
      "text/plain": [
       "MultinomialNB()"
      ]
     },
     "execution_count": 23,
     "metadata": {},
     "output_type": "execute_result"
    }
   ],
   "source": [
    "# Train a multinomial model\n",
    "from sklearn.naive_bayes import MultinomialNB\n",
    "\n",
    "model = MultinomialNB()\n",
    "model.fit(X_train, y_train)"
   ]
  },
  {
   "cell_type": "code",
   "execution_count": 24,
   "metadata": {},
   "outputs": [],
   "source": [
    "# Make predictions\n",
    "predictions = model.predict(X_test)"
   ]
  },
  {
   "cell_type": "code",
   "execution_count": 25,
   "metadata": {},
   "outputs": [
    {
     "name": "stdout",
     "output_type": "stream",
     "text": [
      "Accuracy: 0.2833333333333333\n",
      "Classification Report:\n",
      "                                                          precision    recall  f1-score   support\n",
      "\n",
      "                           Advanced_Data_Science_Topics       0.00      0.00      0.00         1\n",
      "                                                Contact       0.00      0.00      0.00         2\n",
      "                     Cybersecurity_Career_Opportunities       0.00      0.00      0.00         3\n",
      "                           Cybersecurity_Certifications       0.00      0.00      0.00         2\n",
      "                       Cybersecurity_Course_Information       0.20      1.00      0.33         1\n",
      "                                Data_Ethics_and_Privacy       0.00      0.00      0.00         2\n",
      "            Data_Science_Admission_Eligibility_Criteria       0.00      0.00      0.00         2\n",
      "                  Data_Science_Applications_in_Business       0.00      0.00      0.00         2\n",
      "                                    Data_Science_Career       0.00      0.00      0.00         1\n",
      "                      Data_Science_Career_Opportunities       0.20      0.50      0.29         4\n",
      "                 Data_Science_Career_Transition_Support       0.00      0.00      0.00         1\n",
      "       Data_Science_Collaborative_Projects_and_Teamwork       0.00      0.00      0.00         2\n",
      "               Data_Science_Competitions_and_Challenges       0.00      0.00      0.00         3\n",
      "                           Data_Science_Course_Overview       0.05      1.00      0.09         1\n",
      "             Data_Science_Course_Pacing_and_Flexibility       0.00      0.00      0.00         1\n",
      "             Data_Science_Course_Schedule_and_Structure       0.00      0.00      0.00         1\n",
      "                                   Data_Science_Courses       0.00      0.00      0.00         2\n",
      "                        Data_Science_Curriculum_Outline       0.00      0.00      0.00         5\n",
      "                Data_Science_Cybersecurity_Introduction       0.00      0.00      0.00         1\n",
      "Data_Science_Networking_and_Collaboration_Opportunities       0.00      0.00      0.00         1\n",
      "         Data_Science_Online_and_Offline_Learning_Modes       0.00      0.00      0.00         1\n",
      "                     Data_Science_Pre-Work_Requirements       0.00      0.00      0.00         0\n",
      "           Data_Science_Project_and_Hands-on_Experience       0.00      0.00      0.00         3\n",
      "                         Data_Science_Skill_Development       0.00      0.00      0.00         1\n",
      "                   Data_Science_Statistics_and_Analysis       1.00      1.00      1.00         1\n",
      "                             DevOps_Admissions_and_Fees       0.00      0.00      0.00         1\n",
      "                            DevOps_Career_Opportunities       0.00      0.00      0.00         2\n",
      "                              DevOps_Course_Information       0.60      1.00      0.75         3\n",
      "                                   Enrollment_Deadlines       0.00      0.00      0.00         3\n",
      "                                 Enrollment_Information       0.00      0.00      0.00         0\n",
      "                                                  Event       1.00      1.00      1.00         1\n",
      "                                          Financial Aid       1.00      0.25      0.40         4\n",
      "                        Full_Stack_Software_Engineering       0.00      0.00      0.00         1\n",
      "                    Instructor_Expertise_and_Background       0.00      0.00      0.00         1\n",
      "                      International_Student_Information       0.00      0.00      0.00         1\n",
      "                              Mobile_Development_Career       0.00      0.00      0.00         3\n",
      "                             Mobile_Development_Courses       0.20      1.00      0.33         1\n",
      "                                 Moringa_School_Courses       1.00      0.33      0.50         3\n",
      "                                    Moringa_School_News       0.00      0.00      0.00         2\n",
      "                 Mpesa_Mini_Apps_API_Course_Information       1.00      0.50      0.67         2\n",
      "                                            Partnership       1.00      1.00      1.00         2\n",
      "              Product_Design_UI/UX_Career_Opportunities       1.00      1.00      1.00         2\n",
      "                Product_Design_UI/UX_Course_Information       0.67      1.00      0.80         2\n",
      "                      Software_Engineering_Mobile_Track       0.50      0.25      0.33         4\n",
      "                         Student_Life_and_Break_Periods       0.00      0.00      0.00         4\n",
      "                                         ai_integration       1.00      1.00      1.00         1\n",
      "                                       aws_cloud_course       0.25      0.50      0.33         2\n",
      "                                 aws_cloud_practitioner       0.00      0.00      0.00         5\n",
      "                                        career_services       1.00      1.00      1.00         2\n",
      "                                        cloud_computing       0.67      1.00      0.80         2\n",
      "                                   cloud_developer_role       1.00      1.00      1.00         2\n",
      "               course_details_Front-End_web_development       1.00      1.00      1.00         2\n",
      "                                      detailed_schedule       0.50      1.00      0.67         1\n",
      "                                             enrollment       0.00      0.00      0.00         1\n",
      "                                    enrollment_deadline       0.00      0.00      0.00         0\n",
      "                                 enrollment_information       0.00      0.00      0.00         2\n",
      "                                      hr_data_analytics       1.00      1.00      1.00         1\n",
      "                                      interview_process       1.00      1.00      1.00         1\n",
      "                                     learning_resources       0.00      0.00      0.00         7\n",
      "                                        online_learning       0.14      1.00      0.25         1\n",
      "                               professional_advancement       0.00      0.00      0.00         2\n",
      "                                      student_community       0.00      0.00      0.00         2\n",
      "                                    tech_based_learning       0.00      0.00      0.00         0\n",
      "\n",
      "                                               accuracy                           0.28       120\n",
      "                                              macro avg       0.27      0.32      0.26       120\n",
      "                                           weighted avg       0.27      0.28      0.25       120\n",
      "\n"
     ]
    },
    {
     "name": "stderr",
     "output_type": "stream",
     "text": [
      "C:\\Users\\Dennis\\anaconda3\\envs\\learn-env\\lib\\site-packages\\sklearn\\metrics\\_classification.py:1221: UndefinedMetricWarning: Precision and F-score are ill-defined and being set to 0.0 in labels with no predicted samples. Use `zero_division` parameter to control this behavior.\n",
      "  _warn_prf(average, modifier, msg_start, len(result))\n",
      "C:\\Users\\Dennis\\anaconda3\\envs\\learn-env\\lib\\site-packages\\sklearn\\metrics\\_classification.py:1221: UndefinedMetricWarning: Recall and F-score are ill-defined and being set to 0.0 in labels with no true samples. Use `zero_division` parameter to control this behavior.\n",
      "  _warn_prf(average, modifier, msg_start, len(result))\n"
     ]
    }
   ],
   "source": [
    "# Evaluate the model\n",
    "print(\"Accuracy:\", accuracy_score(y_test, predictions))\n",
    "print(\"Classification Report:\\n\", classification_report(y_test, predictions))"
   ]
  },
  {
   "cell_type": "code",
   "execution_count": 30,
   "metadata": {},
   "outputs": [],
   "source": [
    "def preprocess_input(user_input):\n",
    "    user_input = re.sub('[^a-zA-Z0-9]', ' ', user_input.lower())\n",
    "    tokenized_input = word_tokenize(user_input)\n",
    "    filtered_input = [word for word in tokenized_input if word.lower() not in stop_words]\n",
    "    lemmatized_input = [lemmatizer.lemmatize(word) for word in filtered_input]\n",
    "    return ' '.join(lemmatized_input)"
   ]
  },
  {
   "cell_type": "code",
   "execution_count": 45,
   "metadata": {},
   "outputs": [
    {
     "name": "stdout",
     "output_type": "stream",
     "text": [
      "Chatbot Response: Moringa School can help assess your needs and find tech talent for your business by connecting you with our pool of skilled graduates.\n"
     ]
    }
   ],
   "source": [
    "def get_chatbot_response(user_input, df):\n",
    "    preprocessed_input = preprocess_input(user_input)\n",
    "    vectorized_input = tfidf_vectorizer.transform([preprocessed_input])\n",
    "    category_prediction = model.predict(vectorized_input)[0]\n",
    "\n",
    "    # Filter based on the predicted category in the original DataFrame\n",
    "    response_df = df[df['Tag'] == category_prediction]\n",
    "\n",
    "    if not response_df.empty:\n",
    "        # Assuming you want a random response from the possible responses\n",
    "        chatbot_response = np.random.choice(response_df['Response'].iloc[0])\n",
    "        return chatbot_response\n",
    "    else:\n",
    "        return \"I'm sorry, I don't have information on that topic.\"\n",
    "\n",
    "# Example usage\n",
    "user_input = \"How does Moringa School support graduates in their journey post-education?\"\n",
    "chatbot_response = get_chatbot_response(user_input, df)\n",
    "print(\"Chatbot Response:\", chatbot_response)"
   ]
  },
  {
   "cell_type": "markdown",
   "metadata": {},
   "source": [
    "## Hyperparameter Tuning for Multinomial Naive Bayes"
   ]
  },
  {
   "cell_type": "code",
   "execution_count": 33,
   "metadata": {},
   "outputs": [
    {
     "name": "stderr",
     "output_type": "stream",
     "text": [
      "C:\\Users\\Dennis\\anaconda3\\envs\\learn-env\\lib\\site-packages\\sklearn\\model_selection\\_split.py:670: UserWarning: The least populated class in y has only 1 members, which is less than n_splits=5.\n",
      "  warnings.warn((\"The least populated class in y has only %d\"\n"
     ]
    },
    {
     "name": "stdout",
     "output_type": "stream",
     "text": [
      "Best Parameters for Multinomial Naive Bayes: {'alpha': 0.1}\n",
      "Best Accuracy for Multinomial Naive Bayes: 0.39677631578947364\n"
     ]
    }
   ],
   "source": [
    "# Define the parameter grid\n",
    "param_grid_nb = {\n",
    "    'alpha': [0.1, 0.5, 1.0, 2.0]\n",
    "}\n",
    "\n",
    "# Initialize the Multinomial Naive Bayes classifier\n",
    "nb_model = MultinomialNB()\n",
    "\n",
    "# Initialize GridSearchCV\n",
    "grid_search_nb = GridSearchCV(nb_model, param_grid=param_grid_nb, cv=5, scoring='accuracy')\n",
    "\n",
    "# Perform grid search\n",
    "grid_search_nb.fit(X_train, y_train)\n",
    "\n",
    "# Print the best parameters and the corresponding accuracy\n",
    "print(\"Best Parameters for Multinomial Naive Bayes:\", grid_search_nb.best_params_)\n",
    "print(\"Best Accuracy for Multinomial Naive Bayes:\", grid_search_nb.best_score_)"
   ]
  },
  {
   "cell_type": "markdown",
   "metadata": {},
   "source": [
    "## RandomForest Model"
   ]
  },
  {
   "cell_type": "code",
   "execution_count": 27,
   "metadata": {},
   "outputs": [],
   "source": [
    "from sklearn.ensemble import RandomForestClassifier\n",
    "\n",
    "# Split data into training and testing sets\n",
    "X_train, X_test, y_train, y_test = train_test_split(X_tfidf_combined, df['tag'], test_size=0.2, random_state=42)"
   ]
  },
  {
   "cell_type": "code",
   "execution_count": 69,
   "metadata": {},
   "outputs": [
    {
     "name": "stdout",
     "output_type": "stream",
     "text": [
      "Random Forest Model Accuracy: 0.4583333333333333\n",
      "Classification Report:\n",
      "                                                          precision    recall  f1-score   support\n",
      "\n",
      "                           Advanced_Data_Science_Topics       0.50      1.00      0.67         1\n",
      "                                                Contact       0.50      0.50      0.50         2\n",
      "                     Cybersecurity_Career_Opportunities       0.00      0.00      0.00         3\n",
      "                           Cybersecurity_Certifications       0.50      0.50      0.50         2\n",
      "                       Cybersecurity_Course_Information       0.50      1.00      0.67         1\n",
      "                                Data_Ethics_and_Privacy       1.00      0.50      0.67         2\n",
      "            Data_Science_Admission_Eligibility_Criteria       1.00      0.50      0.67         2\n",
      "                       Data_Science_Application_Process       0.00      0.00      0.00         0\n",
      "                  Data_Science_Applications_in_Business       0.00      0.00      0.00         2\n",
      "                                    Data_Science_Career       0.25      1.00      0.40         1\n",
      "                      Data_Science_Career_Opportunities       0.00      0.00      0.00         4\n",
      "                 Data_Science_Career_Transition_Support       0.00      0.00      0.00         1\n",
      "           Data_Science_Certification_and_Accreditation       0.00      0.00      0.00         0\n",
      "       Data_Science_Collaborative_Projects_and_Teamwork       0.00      0.00      0.00         2\n",
      "               Data_Science_Competitions_and_Challenges       0.00      0.00      0.00         3\n",
      "                  Data_Science_Course_Duration_and_Fees       0.00      0.00      0.00         0\n",
      "                           Data_Science_Course_Overview       0.14      1.00      0.25         1\n",
      "             Data_Science_Course_Pacing_and_Flexibility       0.00      0.00      0.00         1\n",
      "             Data_Science_Course_Schedule_and_Structure       0.25      1.00      0.40         1\n",
      "                                   Data_Science_Courses       0.00      0.00      0.00         2\n",
      "                        Data_Science_Curriculum_Outline       0.00      0.00      0.00         5\n",
      "                Data_Science_Cybersecurity_Introduction       1.00      1.00      1.00         1\n",
      "Data_Science_Networking_and_Collaboration_Opportunities       0.00      0.00      0.00         1\n",
      "         Data_Science_Online_and_Offline_Learning_Modes       1.00      1.00      1.00         1\n",
      "           Data_Science_Project_and_Hands-on_Experience       0.67      0.67      0.67         3\n",
      "                         Data_Science_Skill_Development       0.00      0.00      0.00         1\n",
      "                   Data_Science_Statistics_and_Analysis       1.00      1.00      1.00         1\n",
      "                  Data_Science_Student_Support_Services       0.00      0.00      0.00         0\n",
      "                             DevOps_Admissions_and_Fees       0.00      0.00      0.00         1\n",
      "                            DevOps_Career_Opportunities       1.00      0.50      0.67         2\n",
      "                              DevOps_Course_Information       0.75      1.00      0.86         3\n",
      "                                   Enrollment_Deadlines       0.00      0.00      0.00         3\n",
      "                                 Enrollment_Information       0.00      0.00      0.00         0\n",
      "                 Ethical_Considerations_in_Data_Science       0.00      0.00      0.00         0\n",
      "                                                  Event       1.00      1.00      1.00         1\n",
      "                                          Financial Aid       0.80      1.00      0.89         4\n",
      "                        Full_Stack_Software_Engineering       0.50      1.00      0.67         1\n",
      "                    Instructor_Expertise_and_Background       0.00      0.00      0.00         1\n",
      "                      International_Student_Information       0.50      1.00      0.67         1\n",
      "                              Mobile_Development_Career       1.00      0.33      0.50         3\n",
      "                             Mobile_Development_Courses       0.20      1.00      0.33         1\n",
      "                                 Moringa_School_Courses       0.67      0.67      0.67         3\n",
      "                                    Moringa_School_News       0.00      0.00      0.00         2\n",
      "                 Mpesa_Mini_Apps_API_Course_Information       1.00      0.50      0.67         2\n",
      "                                            Partnership       0.67      1.00      0.80         2\n",
      "              Product_Design_UI/UX_Career_Opportunities       1.00      1.00      1.00         2\n",
      "                Product_Design_UI/UX_Course_Information       0.67      1.00      0.80         2\n",
      "                      Software_Engineering_Mobile_Track       0.67      0.50      0.57         4\n",
      "                         Student_Life_and_Break_Periods       0.00      0.00      0.00         4\n",
      "                                         ai_integration       1.00      1.00      1.00         1\n",
      "                                       aws_cloud_course       0.33      1.00      0.50         2\n",
      "                                 aws_cloud_practitioner       1.00      0.20      0.33         5\n",
      "                                        career_services       1.00      1.00      1.00         2\n",
      "                                        cloud_computing       1.00      1.00      1.00         2\n",
      "                                   cloud_developer_role       1.00      1.00      1.00         2\n",
      "               course_details_Front-End_web_development       1.00      0.50      0.67         2\n",
      "                                      detailed_schedule       0.50      1.00      0.67         1\n",
      "                                             enrollment       0.00      0.00      0.00         1\n",
      "                                    enrollment_deadline       0.00      0.00      0.00         0\n",
      "                                 enrollment_information       0.00      0.00      0.00         2\n",
      "                                      hr_data_analytics       1.00      1.00      1.00         1\n",
      "                                      interview_process       0.50      1.00      0.67         1\n",
      "                                     learning_resources       0.00      0.00      0.00         7\n",
      "                                        online_learning       0.50      1.00      0.67         1\n",
      "                               professional_advancement       0.50      0.50      0.50         2\n",
      "                                      student_community       0.20      0.50      0.29         2\n",
      "                                    tech_based_learning       0.00      0.00      0.00         0\n",
      "\n",
      "                                               accuracy                           0.46       120\n",
      "                                              macro avg       0.42      0.49      0.41       120\n",
      "                                           weighted avg       0.46      0.46      0.42       120\n",
      "\n"
     ]
    },
    {
     "name": "stderr",
     "output_type": "stream",
     "text": [
      "C:\\Users\\Dennis\\anaconda3\\envs\\learn-env\\lib\\site-packages\\sklearn\\metrics\\_classification.py:1221: UndefinedMetricWarning: Precision and F-score are ill-defined and being set to 0.0 in labels with no predicted samples. Use `zero_division` parameter to control this behavior.\n",
      "  _warn_prf(average, modifier, msg_start, len(result))\n",
      "C:\\Users\\Dennis\\anaconda3\\envs\\learn-env\\lib\\site-packages\\sklearn\\metrics\\_classification.py:1221: UndefinedMetricWarning: Recall and F-score are ill-defined and being set to 0.0 in labels with no true samples. Use `zero_division` parameter to control this behavior.\n",
      "  _warn_prf(average, modifier, msg_start, len(result))\n"
     ]
    }
   ],
   "source": [
    "# Initialize the Random Forest classifier\n",
    "rf_model = RandomForestClassifier(n_estimators=100, random_state=42)\n",
    "\n",
    "# Train the model\n",
    "rf_model.fit(X_train, y_train)\n",
    "\n",
    "# Make predictions\n",
    "rf_predictions = rf_model.predict(X_test)\n",
    "\n",
    "# Evaluate the model\n",
    "print(\"Random Forest Model Accuracy:\", accuracy_score(y_test, rf_predictions))\n",
    "print(\"Classification Report:\\n\", classification_report(y_test, rf_predictions))"
   ]
  },
  {
   "cell_type": "markdown",
   "metadata": {},
   "source": [
    "## Hyperparameter Tuning for Random Forest"
   ]
  },
  {
   "cell_type": "code",
   "execution_count": 34,
   "metadata": {},
   "outputs": [
    {
     "name": "stderr",
     "output_type": "stream",
     "text": [
      "C:\\Users\\Dennis\\anaconda3\\envs\\learn-env\\lib\\site-packages\\sklearn\\model_selection\\_split.py:670: UserWarning: The least populated class in y has only 1 members, which is less than n_splits=5.\n",
      "  warnings.warn((\"The least populated class in y has only %d\"\n"
     ]
    },
    {
     "name": "stdout",
     "output_type": "stream",
     "text": [
      "Best Parameters for Random Forest: {'max_depth': None, 'min_samples_leaf': 1, 'min_samples_split': 5, 'n_estimators': 200}\n",
      "Best Accuracy for Random Forest: 0.5114912280701753\n"
     ]
    }
   ],
   "source": [
    "# Define the parameter grid\n",
    "param_grid_rf = {\n",
    "    'n_estimators': [50, 100, 200],\n",
    "    'max_depth': [None, 10, 20],\n",
    "    'min_samples_split': [2, 5, 10],\n",
    "    'min_samples_leaf': [1, 2, 4]\n",
    "}\n",
    "\n",
    "# Initialize the Random Forest classifier\n",
    "rf_model = RandomForestClassifier()\n",
    "\n",
    "# Initialize GridSearchCV\n",
    "grid_search_rf = GridSearchCV(rf_model, param_grid=param_grid_rf, cv=5, scoring='accuracy')\n",
    "\n",
    "# Perform grid search\n",
    "grid_search_rf.fit(X_train, y_train)\n",
    "\n",
    "# Print the best parameters and the corresponding accuracy\n",
    "print(\"Best Parameters for Random Forest:\", grid_search_rf.best_params_)\n",
    "print(\"Best Accuracy for Random Forest:\", grid_search_rf.best_score_)"
   ]
  },
  {
   "cell_type": "code",
   "execution_count": 46,
   "metadata": {},
   "outputs": [
    {
     "data": {
      "text/plain": [
       "RandomForestClassifier(min_samples_split=5, n_estimators=200)"
      ]
     },
     "execution_count": 46,
     "metadata": {},
     "output_type": "execute_result"
    }
   ],
   "source": [
    "# Initialize the Random Forest classifier\n",
    "rf_model = RandomForestClassifier(**grid_search_rf.best_params_)\n",
    "rf_model.fit(X_train, y_train)"
   ]
  },
  {
   "cell_type": "code",
   "execution_count": 47,
   "metadata": {},
   "outputs": [
    {
     "data": {
      "text/plain": [
       "0.43333333333333335"
      ]
     },
     "execution_count": 47,
     "metadata": {},
     "output_type": "execute_result"
    }
   ],
   "source": [
    "y_pred = rf_model.predict(X_test)\n",
    "rf_model.score(X_test, y_test)"
   ]
  },
  {
   "cell_type": "code",
   "execution_count": null,
   "metadata": {},
   "outputs": [],
   "source": [
    "# Make predictions\n",
    "rf_predictions = rf_model.predict(X_test)"
   ]
  },
  {
   "cell_type": "code",
   "execution_count": 68,
   "metadata": {},
   "outputs": [
    {
     "name": "stdout",
     "output_type": "stream",
     "text": [
      "Random Forest Model Accuracy: 0.43333333333333335\n",
      "Classification Report:\n",
      "                                                          precision    recall  f1-score   support\n",
      "\n",
      "                           Advanced_Data_Science_Topics       0.50      1.00      0.67         1\n",
      "                                                Contact       1.00      0.50      0.67         2\n",
      "                     Cybersecurity_Career_Opportunities       0.00      0.00      0.00         3\n",
      "                           Cybersecurity_Certifications       0.50      0.50      0.50         2\n",
      "                       Cybersecurity_Course_Information       0.50      1.00      0.67         1\n",
      "                                Data_Ethics_and_Privacy       1.00      0.50      0.67         2\n",
      "            Data_Science_Admission_Eligibility_Criteria       0.50      0.50      0.50         2\n",
      "                  Data_Science_Applications_in_Business       0.00      0.00      0.00         2\n",
      "                                    Data_Science_Career       0.33      1.00      0.50         1\n",
      "                      Data_Science_Career_Opportunities       0.00      0.00      0.00         4\n",
      "                 Data_Science_Career_Transition_Support       0.00      0.00      0.00         1\n",
      "           Data_Science_Certification_and_Accreditation       0.00      0.00      0.00         0\n",
      "       Data_Science_Collaborative_Projects_and_Teamwork       0.00      0.00      0.00         2\n",
      "               Data_Science_Competitions_and_Challenges       0.00      0.00      0.00         3\n",
      "                  Data_Science_Course_Duration_and_Fees       0.00      0.00      0.00         0\n",
      "                           Data_Science_Course_Overview       0.12      1.00      0.22         1\n",
      "             Data_Science_Course_Pacing_and_Flexibility       0.00      0.00      0.00         1\n",
      "             Data_Science_Course_Schedule_and_Structure       0.00      0.00      0.00         1\n",
      "                                   Data_Science_Courses       0.00      0.00      0.00         2\n",
      "                        Data_Science_Curriculum_Outline       0.00      0.00      0.00         5\n",
      "                Data_Science_Cybersecurity_Introduction       1.00      1.00      1.00         1\n",
      "Data_Science_Networking_and_Collaboration_Opportunities       0.00      0.00      0.00         1\n",
      "         Data_Science_Online_and_Offline_Learning_Modes       1.00      1.00      1.00         1\n",
      "           Data_Science_Project_and_Hands-on_Experience       0.67      0.67      0.67         3\n",
      "                         Data_Science_Skill_Development       0.00      0.00      0.00         1\n",
      "                   Data_Science_Statistics_and_Analysis       0.50      1.00      0.67         1\n",
      "                  Data_Science_Student_Support_Services       0.00      0.00      0.00         0\n",
      "                             DevOps_Admissions_and_Fees       0.00      0.00      0.00         1\n",
      "                            DevOps_Career_Opportunities       1.00      0.50      0.67         2\n",
      "                              DevOps_Course_Information       0.75      1.00      0.86         3\n",
      "                                   Enrollment_Deadlines       0.00      0.00      0.00         3\n",
      "                                 Enrollment_Information       0.00      0.00      0.00         0\n",
      "                 Ethical_Considerations_in_Data_Science       0.00      0.00      0.00         0\n",
      "                                                  Event       1.00      1.00      1.00         1\n",
      "                                          Financial Aid       1.00      0.75      0.86         4\n",
      "                        Full_Stack_Software_Engineering       0.33      1.00      0.50         1\n",
      "                    Instructor_Expertise_and_Background       0.00      0.00      0.00         1\n",
      "                      International_Student_Information       0.50      1.00      0.67         1\n",
      "                              Mobile_Development_Career       1.00      0.33      0.50         3\n",
      "                             Mobile_Development_Courses       0.20      1.00      0.33         1\n",
      "                                 Moringa_School_Courses       0.50      0.33      0.40         3\n",
      "                                    Moringa_School_News       0.33      0.50      0.40         2\n",
      "                 Mpesa_Mini_Apps_API_Course_Information       0.25      0.50      0.33         2\n",
      "                                            Partnership       0.67      1.00      0.80         2\n",
      "              Product_Design_UI/UX_Career_Opportunities       1.00      1.00      1.00         2\n",
      "                Product_Design_UI/UX_Course_Information       0.67      1.00      0.80         2\n",
      "                      Software_Engineering_Mobile_Track       0.67      0.50      0.57         4\n",
      "                         Student_Life_and_Break_Periods       0.00      0.00      0.00         4\n",
      "                                         ai_integration       1.00      1.00      1.00         1\n",
      "                                       aws_cloud_course       0.25      0.50      0.33         2\n",
      "                                 aws_cloud_practitioner       1.00      0.40      0.57         5\n",
      "                                        career_services       1.00      0.50      0.67         2\n",
      "                                        cloud_computing       0.67      1.00      0.80         2\n",
      "                                   cloud_developer_role       1.00      1.00      1.00         2\n",
      "               course_details_Front-End_web_development       1.00      1.00      1.00         2\n",
      "                                      detailed_schedule       0.00      0.00      0.00         1\n",
      "                                             enrollment       0.00      0.00      0.00         1\n",
      "                                    enrollment_deadline       0.00      0.00      0.00         0\n",
      "                                 enrollment_information       0.00      0.00      0.00         2\n",
      "                                      hr_data_analytics       1.00      1.00      1.00         1\n",
      "                                      interview_process       0.33      1.00      0.50         1\n",
      "                                     learning_resources       0.00      0.00      0.00         7\n",
      "                                        online_learning       1.00      1.00      1.00         1\n",
      "                               professional_advancement       0.33      0.50      0.40         2\n",
      "                                      student_community       0.17      0.50      0.25         2\n",
      "                                    tech_based_learning       0.00      0.00      0.00         0\n",
      "\n",
      "                                               accuracy                           0.43       120\n",
      "                                              macro avg       0.40      0.46      0.39       120\n",
      "                                           weighted avg       0.44      0.43      0.40       120\n",
      "\n"
     ]
    }
   ],
   "source": [
    "# Evaluate the model\n",
    "print(\"Random Forest Model Accuracy:\", accuracy_score(y_test, y_pred))\n",
    "print(\"Classification Report:\\n\", classification_report(y_test, y_pred))"
   ]
  },
  {
   "cell_type": "code",
   "execution_count": 52,
   "metadata": {},
   "outputs": [
    {
     "name": "stdout",
     "output_type": "stream",
     "text": [
      "Random Forest Model Accuracy: 0.4666666666666667\n",
      "Classification Report:\n",
      "                                                          precision    recall  f1-score   support\n",
      "\n",
      "                           Advanced_Data_Science_Topics       0.50      1.00      0.67         1\n",
      "                                                Contact       1.00      0.50      0.67         2\n",
      "                     Cybersecurity_Career_Opportunities       0.00      0.00      0.00         3\n",
      "                           Cybersecurity_Certifications       0.50      0.50      0.50         2\n",
      "                       Cybersecurity_Course_Information       0.50      1.00      0.67         1\n",
      "                                Data_Ethics_and_Privacy       1.00      0.50      0.67         2\n",
      "            Data_Science_Admission_Eligibility_Criteria       1.00      0.50      0.67         2\n",
      "                  Data_Science_Applications_in_Business       0.00      0.00      0.00         2\n",
      "                                    Data_Science_Career       0.25      1.00      0.40         1\n",
      "                      Data_Science_Career_Opportunities       0.00      0.00      0.00         4\n",
      "                 Data_Science_Career_Transition_Support       0.00      0.00      0.00         1\n",
      "           Data_Science_Certification_and_Accreditation       0.00      0.00      0.00         0\n",
      "       Data_Science_Collaborative_Projects_and_Teamwork       0.00      0.00      0.00         2\n",
      "               Data_Science_Competitions_and_Challenges       0.00      0.00      0.00         3\n",
      "                  Data_Science_Course_Duration_and_Fees       0.00      0.00      0.00         0\n",
      "                           Data_Science_Course_Overview       0.14      1.00      0.25         1\n",
      "             Data_Science_Course_Pacing_and_Flexibility       0.00      0.00      0.00         1\n",
      "             Data_Science_Course_Schedule_and_Structure       0.33      1.00      0.50         1\n",
      "                                   Data_Science_Courses       0.33      0.50      0.40         2\n",
      "                        Data_Science_Curriculum_Outline       0.00      0.00      0.00         5\n",
      "                Data_Science_Cybersecurity_Introduction       1.00      1.00      1.00         1\n",
      "Data_Science_Networking_and_Collaboration_Opportunities       0.00      0.00      0.00         1\n",
      "         Data_Science_Online_and_Offline_Learning_Modes       1.00      1.00      1.00         1\n",
      "           Data_Science_Project_and_Hands-on_Experience       1.00      0.67      0.80         3\n",
      "                         Data_Science_Skill_Development       0.00      0.00      0.00         1\n",
      "                   Data_Science_Statistics_and_Analysis       0.33      1.00      0.50         1\n",
      "                             DevOps_Admissions_and_Fees       0.00      0.00      0.00         1\n",
      "                            DevOps_Career_Opportunities       1.00      0.50      0.67         2\n",
      "                              DevOps_Course_Information       0.67      0.67      0.67         3\n",
      "                                   Enrollment_Deadlines       0.00      0.00      0.00         3\n",
      "                                 Enrollment_Information       0.00      0.00      0.00         0\n",
      "                 Ethical_Considerations_in_Data_Science       0.00      0.00      0.00         0\n",
      "                                                  Event       1.00      1.00      1.00         1\n",
      "                                          Financial Aid       1.00      0.75      0.86         4\n",
      "                        Full_Stack_Software_Engineering       0.50      1.00      0.67         1\n",
      "                    Instructor_Expertise_and_Background       1.00      1.00      1.00         1\n",
      "                      International_Student_Information       0.50      1.00      0.67         1\n",
      "                              Mobile_Development_Career       1.00      0.33      0.50         3\n",
      "                             Mobile_Development_Courses       0.20      1.00      0.33         1\n",
      "                                 Moringa_School_Courses       0.67      0.67      0.67         3\n",
      "                                    Moringa_School_News       0.33      0.50      0.40         2\n",
      "                 Mpesa_Mini_Apps_API_Course_Information       0.50      0.50      0.50         2\n",
      "                                            Partnership       0.67      1.00      0.80         2\n",
      "              Product_Design_UI/UX_Career_Opportunities       1.00      1.00      1.00         2\n",
      "                Product_Design_UI/UX_Course_Information       0.67      1.00      0.80         2\n",
      "                      Software_Engineering_Mobile_Track       0.67      0.50      0.57         4\n",
      "                         Student_Life_and_Break_Periods       0.00      0.00      0.00         4\n",
      "                                         ai_integration       1.00      1.00      1.00         1\n",
      "                                       aws_cloud_course       0.25      0.50      0.33         2\n",
      "                                 aws_cloud_practitioner       1.00      0.40      0.57         5\n",
      "                                        career_services       1.00      0.50      0.67         2\n",
      "                                        cloud_computing       0.67      1.00      0.80         2\n",
      "                                   cloud_developer_role       1.00      1.00      1.00         2\n",
      "               course_details_Front-End_web_development       1.00      1.00      1.00         2\n",
      "                                      detailed_schedule       1.00      1.00      1.00         1\n",
      "                                             enrollment       0.00      0.00      0.00         1\n",
      "                                    enrollment_deadline       0.00      0.00      0.00         0\n",
      "                                 enrollment_information       0.00      0.00      0.00         2\n",
      "                                      hr_data_analytics       1.00      1.00      1.00         1\n",
      "                                      interview_process       0.50      1.00      0.67         1\n",
      "                                     learning_resources       0.00      0.00      0.00         7\n",
      "                                        online_learning       0.50      1.00      0.67         1\n",
      "                               professional_advancement       1.00      0.50      0.67         2\n",
      "                                      student_community       0.20      0.50      0.29         2\n",
      "                                    tech_based_learning       0.00      0.00      0.00         0\n",
      "\n",
      "                                               accuracy                           0.47       120\n",
      "                                              macro avg       0.47      0.52      0.45       120\n",
      "                                           weighted avg       0.49      0.47      0.44       120\n",
      "\n"
     ]
    },
    {
     "name": "stderr",
     "output_type": "stream",
     "text": [
      "C:\\Users\\Dennis\\anaconda3\\envs\\learn-env\\lib\\site-packages\\sklearn\\metrics\\_classification.py:1221: UndefinedMetricWarning: Precision and F-score are ill-defined and being set to 0.0 in labels with no predicted samples. Use `zero_division` parameter to control this behavior.\n",
      "  _warn_prf(average, modifier, msg_start, len(result))\n",
      "C:\\Users\\Dennis\\anaconda3\\envs\\learn-env\\lib\\site-packages\\sklearn\\metrics\\_classification.py:1221: UndefinedMetricWarning: Recall and F-score are ill-defined and being set to 0.0 in labels with no true samples. Use `zero_division` parameter to control this behavior.\n",
      "  _warn_prf(average, modifier, msg_start, len(result))\n"
     ]
    }
   ],
   "source": [
    "# Initialize the Random Forest classifier\n",
    "rf_model = RandomForestClassifier(min_samples_split=5, n_estimators=200)\n",
    "\n",
    "# Train the model\n",
    "rf_model.fit(X_train, y_train)\n",
    "\n",
    "# Make predictions\n",
    "rf_predictions = rf_model.predict(X_test)\n",
    "\n",
    "# Evaluate the model\n",
    "print(\"Random Forest Model Accuracy:\", accuracy_score(y_test, rf_predictions))\n",
    "print(\"Classification Report:\\n\", classification_report(y_test, rf_predictions))"
   ]
  },
  {
   "cell_type": "code",
   "execution_count": null,
   "metadata": {},
   "outputs": [],
   "source": [
    "# Vectorization using TF-IDF for both 'question' and 'response'\n",
    "tfidf_vectorizer_combined = TfidfVectorizer()\n",
    "X_tfidf_combined = tfidf_vectorizer_combined.fit_transform(\n",
    "    df.apply(lambda row: ' '.join(row['Tokenized_Question'] + row['Tokenized_Response']), axis=1)\n",
    ")"
   ]
  },
  {
   "cell_type": "code",
   "execution_count": 65,
   "metadata": {},
   "outputs": [
    {
     "ename": "ValueError",
     "evalue": "Iterable over raw text documents expected, string object received.",
     "output_type": "error",
     "traceback": [
      "\u001b[1;31m---------------------------------------------------------------------------\u001b[0m",
      "\u001b[1;31mValueError\u001b[0m                                Traceback (most recent call last)",
      "\u001b[1;32m<ipython-input-65-0a0eda489df6>\u001b[0m in \u001b[0;36m<module>\u001b[1;34m\u001b[0m\n\u001b[0;32m     10\u001b[0m \u001b[0mtext\u001b[0m \u001b[1;33m=\u001b[0m \u001b[1;34m' '\u001b[0m\u001b[1;33m.\u001b[0m\u001b[0mjoin\u001b[0m\u001b[1;33m(\u001b[0m\u001b[1;33m[\u001b[0m\u001b[0mword\u001b[0m \u001b[1;32mfor\u001b[0m \u001b[0mword\u001b[0m \u001b[1;32min\u001b[0m \u001b[0mtext\u001b[0m \u001b[1;32mif\u001b[0m \u001b[0mword\u001b[0m \u001b[1;32mnot\u001b[0m \u001b[1;32min\u001b[0m \u001b[0mstop_words\u001b[0m\u001b[1;33m]\u001b[0m\u001b[1;33m)\u001b[0m\u001b[1;33m\u001b[0m\u001b[1;33m\u001b[0m\u001b[0m\n\u001b[0;32m     11\u001b[0m \u001b[1;33m\u001b[0m\u001b[0m\n\u001b[1;32m---> 12\u001b[1;33m \u001b[0mvectorized\u001b[0m \u001b[1;33m=\u001b[0m \u001b[0mtfidf_vectorizer_combined\u001b[0m\u001b[1;33m.\u001b[0m\u001b[0mtransform\u001b[0m\u001b[1;33m(\u001b[0m\u001b[0mtext\u001b[0m\u001b[1;33m)\u001b[0m\u001b[1;33m\u001b[0m\u001b[1;33m\u001b[0m\u001b[0m\n\u001b[0m",
      "\u001b[1;32m~\\anaconda3\\envs\\learn-env\\lib\\site-packages\\sklearn\\feature_extraction\\text.py\u001b[0m in \u001b[0;36mtransform\u001b[1;34m(self, raw_documents, copy)\u001b[0m\n\u001b[0;32m   1878\u001b[0m                    \"be removed in 0.24.\")\n\u001b[0;32m   1879\u001b[0m             \u001b[0mwarnings\u001b[0m\u001b[1;33m.\u001b[0m\u001b[0mwarn\u001b[0m\u001b[1;33m(\u001b[0m\u001b[0mmsg\u001b[0m\u001b[1;33m,\u001b[0m \u001b[0mFutureWarning\u001b[0m\u001b[1;33m)\u001b[0m\u001b[1;33m\u001b[0m\u001b[1;33m\u001b[0m\u001b[0m\n\u001b[1;32m-> 1880\u001b[1;33m         \u001b[0mX\u001b[0m \u001b[1;33m=\u001b[0m \u001b[0msuper\u001b[0m\u001b[1;33m(\u001b[0m\u001b[1;33m)\u001b[0m\u001b[1;33m.\u001b[0m\u001b[0mtransform\u001b[0m\u001b[1;33m(\u001b[0m\u001b[0mraw_documents\u001b[0m\u001b[1;33m)\u001b[0m\u001b[1;33m\u001b[0m\u001b[1;33m\u001b[0m\u001b[0m\n\u001b[0m\u001b[0;32m   1881\u001b[0m         \u001b[1;32mreturn\u001b[0m \u001b[0mself\u001b[0m\u001b[1;33m.\u001b[0m\u001b[0m_tfidf\u001b[0m\u001b[1;33m.\u001b[0m\u001b[0mtransform\u001b[0m\u001b[1;33m(\u001b[0m\u001b[0mX\u001b[0m\u001b[1;33m,\u001b[0m \u001b[0mcopy\u001b[0m\u001b[1;33m=\u001b[0m\u001b[1;32mFalse\u001b[0m\u001b[1;33m)\u001b[0m\u001b[1;33m\u001b[0m\u001b[1;33m\u001b[0m\u001b[0m\n\u001b[0;32m   1882\u001b[0m \u001b[1;33m\u001b[0m\u001b[0m\n",
      "\u001b[1;32m~\\anaconda3\\envs\\learn-env\\lib\\site-packages\\sklearn\\feature_extraction\\text.py\u001b[0m in \u001b[0;36mtransform\u001b[1;34m(self, raw_documents)\u001b[0m\n\u001b[0;32m   1242\u001b[0m         \"\"\"\n\u001b[0;32m   1243\u001b[0m         \u001b[1;32mif\u001b[0m \u001b[0misinstance\u001b[0m\u001b[1;33m(\u001b[0m\u001b[0mraw_documents\u001b[0m\u001b[1;33m,\u001b[0m \u001b[0mstr\u001b[0m\u001b[1;33m)\u001b[0m\u001b[1;33m:\u001b[0m\u001b[1;33m\u001b[0m\u001b[1;33m\u001b[0m\u001b[0m\n\u001b[1;32m-> 1244\u001b[1;33m             raise ValueError(\n\u001b[0m\u001b[0;32m   1245\u001b[0m                 \u001b[1;34m\"Iterable over raw text documents expected, \"\u001b[0m\u001b[1;33m\u001b[0m\u001b[1;33m\u001b[0m\u001b[0m\n\u001b[0;32m   1246\u001b[0m                 \"string object received.\")\n",
      "\u001b[1;31mValueError\u001b[0m: Iterable over raw text documents expected, string object received."
     ]
    }
   ],
   "source": [
    "text = ['how does moringa admision process work']\n",
    "# Tokenize each string in the list\n",
    "tokenized_text = [nltk.word_tokenize(sentence) for sentence in text]\n",
    "\n",
    "# Flatten the list of lists to get a list of words\n",
    "flattened_text = [word for sentence_tokens in tokenized_text for word in sentence_tokens]\n",
    "\n",
    "text = ' '.join([lemmatizer.lemmatize(word) for word in flattened_text])\n",
    "#text = text.lower().replace('[^a-zA-Z0-9]', ' ')\n",
    "text = ' '.join([word for word in text if word not in stop_words])\n",
    "                            \n",
    "vectorized = tfidf_vectorizer_combined.transform(text)"
   ]
  },
  {
   "cell_type": "code",
   "execution_count": 67,
   "metadata": {},
   "outputs": [
    {
     "data": {
      "text/plain": [
       "<1x1604 sparse matrix of type '<class 'numpy.float64'>'\n",
       "\twith 4 stored elements in Compressed Sparse Row format>"
      ]
     },
     "execution_count": 67,
     "metadata": {},
     "output_type": "execute_result"
    }
   ],
   "source": [
    "texts = ['how does moringa admission process work']\n",
    "\n",
    "# Tokenize and preprocess each string in the list\n",
    "tokenized_texts = [\n",
    "    ' '.join([lemmatizer.lemmatize(word) for word in nltk.word_tokenize(sentence) if word not in stop_words])\n",
    "    for sentence in texts\n",
    "]\n",
    "\n",
    "# Vectorize using TF-IDF\n",
    "vectorized = tfidf_vectorizer_combined.transform(tokenized_texts)\n",
    "vectorized"
   ]
  },
  {
   "cell_type": "code",
   "execution_count": null,
   "metadata": {},
   "outputs": [],
   "source": []
  }
 ],
 "metadata": {
  "kernelspec": {
   "display_name": "Python (learn-env)",
   "language": "python",
   "name": "learn-env"
  },
  "language_info": {
   "codemirror_mode": {
    "name": "ipython",
    "version": 3
   },
   "file_extension": ".py",
   "mimetype": "text/x-python",
   "name": "python",
   "nbconvert_exporter": "python",
   "pygments_lexer": "ipython3",
   "version": "3.8.5"
  }
 },
 "nbformat": 4,
 "nbformat_minor": 4
}
