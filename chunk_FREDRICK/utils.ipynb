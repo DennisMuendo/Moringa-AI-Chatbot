{
 "cells": [
  {
   "cell_type": "code",
   "execution_count": 99,
   "id": "b8110a5b-348d-41d9-98a5-201d8a80bb2a",
   "metadata": {
    "execution": {
     "iopub.execute_input": "2024-01-27T09:39:26.615656Z",
     "iopub.status.busy": "2024-01-27T09:39:26.615283Z",
     "iopub.status.idle": "2024-01-27T09:39:26.878084Z",
     "shell.execute_reply": "2024-01-27T09:39:26.877396Z",
     "shell.execute_reply.started": "2024-01-27T09:39:26.615629Z"
    },
    "tags": []
   },
   "outputs": [],
   "source": [
    "import tensorflow as tf\n",
    "from joblib import load\n",
    "import numpy as np\n",
    "\n",
    "model_path = \"chatbot.model\"\n",
    "vect_path = \"tfidf_vectorizer.joblib\"\n",
    "label_enc_path = \"label_encoder.joblib\"\n",
    "\n",
    "final_model = tf.keras.models.load_model(model_path)\n",
    "vectorizer = load(vect_path)\n",
    "label_encoder = load(label_enc_path)"
   ]
  },
  {
   "cell_type": "code",
   "execution_count": 100,
   "id": "6c71f6e1-b7f7-417a-ad28-930795e5083a",
   "metadata": {
    "execution": {
     "iopub.execute_input": "2024-01-27T09:24:56.966179Z",
     "iopub.status.busy": "2024-01-27T09:24:56.965814Z",
     "iopub.status.idle": "2024-01-27T09:24:56.980714Z",
     "shell.execute_reply": "2024-01-27T09:24:56.979941Z",
     "shell.execute_reply.started": "2024-01-27T09:24:56.966152Z"
    },
    "tags": []
   },
   "outputs": [
    {
     "data": {
      "text/plain": [
       "['remove', 'punctuations', 'and', 'return', 'lemmatized', 'tokens']"
      ]
     },
     "execution_count": 100,
     "metadata": {},
     "output_type": "execute_result"
    }
   ],
   "source": [
    "import string\n",
    "import nltk\n",
    "from nltk.corpus import stopwords\n",
    "from nltk.tokenize import word_tokenize\n",
    "\n",
    "def clean_text(sentence):\n",
    "    lower = sentence.lower()\n",
    "    ignoreLetters = ['?', '!', '.', ',', '/']\n",
    "    toks = word_tokenize(lower)\n",
    "    stop_words = set(stopwords.words('english'))\n",
    "    toks = [word for word in toks if word not in ignoreLetters]\n",
    "    sentence = [word for word in sentence if word not in stop_words]\n",
    "    return toks\n",
    "\n",
    "lemmer = nltk.stem.WordNetLemmatizer()\n",
    "\n",
    "def LemTokens(tokens):\n",
    "    \"\"\"Lemmatize tokens\"\"\"\n",
    "    return [lemmer.lemmatize(token) for token in tokens]\n",
    "\n",
    "remove_punc_dict = dict((ord(punct), None) for punct in string.punctuation)\n",
    "\n",
    "def LemNormalize(text):\n",
    "    \"\"\"Remove punctuations and return lemmatized tokens\"\"\"\n",
    "    return LemTokens(nltk.word_tokenize(text.lower().translate(remove_punc_dict)))\n",
    "\n",
    "# test\n",
    "clean_text(\"Remove punctuations and return lemmatized tokens ?\")"
   ]
  },
  {
   "cell_type": "code",
   "execution_count": 101,
   "id": "931c018c-512b-422e-b2f3-dec4f8a0e515",
   "metadata": {
    "execution": {
     "iopub.execute_input": "2024-01-27T09:39:30.813235Z",
     "iopub.status.busy": "2024-01-27T09:39:30.812812Z",
     "iopub.status.idle": "2024-01-27T09:39:30.898577Z",
     "shell.execute_reply": "2024-01-27T09:39:30.897552Z",
     "shell.execute_reply.started": "2024-01-27T09:39:30.813205Z"
    },
    "tags": []
   },
   "outputs": [
    {
     "name": "stdout",
     "output_type": "stream",
     "text": [
      "1/1 [==============================] - 0s 54ms/step\n",
      "\n",
      "Predicted classes: {3: 0.97002137, 5: 0.92485756, 6: 0.44791928}\n",
      "3: Data Science, 97%\n",
      "5: Enrollment, 92%\n",
      "6: Miscellaneous, 45%\n"
     ]
    }
   ],
   "source": [
    "# example\n",
    "text = \"How can i enroll in the data science course ?\"\n",
    "\n",
    "# clean text\n",
    "prep_text = clean_text(text)\n",
    "# vectorize the text\n",
    "vectorized_txt = vectorizer.transform(prep_text)\n",
    "# make prediction\n",
    "pred = final_model.predict([vectorized_txt])\n",
    "\n",
    "ERR_THRESH = 0.25\n",
    "\n",
    "results = {np.argmax(r): r[np.argmax(r)] for i, r in enumerate(pred) if any(r > ERR_THRESH)}\n",
    "results = dict(sorted(results.items(), key=lambda k: k[0]))\n",
    "\n",
    "print(f\"\\nPredicted classes: {results}\")\n",
    "for class_key, conf in results.items():\n",
    "    print(f\"{class_key}: {label_encoder.classes_[class_key]}, {round(conf*100)}%\")"
   ]
  },
  {
   "cell_type": "markdown",
   "id": "ae04a2c4",
   "metadata": {},
   "source": [
    "The following are utility functions needed for the bot to run:"
   ]
  },
  {
   "cell_type": "code",
   "execution_count": 102,
   "id": "3d57fbce",
   "metadata": {},
   "outputs": [],
   "source": [
    "def response(user_response):\n",
    "    \"\"\"returns response from AI\"\"\"\n",
    "    robot_response = \"\"\n",
    "    \n",
    "    TfidfVec = TfidfVectorizer(tokenizer=clean_text, stop_words='english')\n",
    "    tfidf = TfidfVec.fit_transform(sentence_tokens)\n",
    "    vals = cosine_similarity(tfidf[-1], tfidf)\n",
    "    idx = vals.argsort()[0][-2]\n",
    "    flat = vals.flatten()\n",
    "    flat.sort()\n",
    "    req_tfidf = flat[-2]\n",
    "    \n",
    "    if (req_tfidf == 0):\n",
    "        robot_response + \"I am sorry. I am unable to understand you!\"\n",
    "        return robot_response\n",
    "    else:\n",
    "        robot_response = robot_response + sentence_tokens[idx]\n",
    "        return robot_response"
   ]
  },
  {
   "cell_type": "code",
   "execution_count": 107,
   "id": "0ff57373-4de5-4944-a94c-498ece2223bb",
   "metadata": {},
   "outputs": [],
   "source": [
    "import json\n",
    "from difflib import SequenceMatcher\n",
    "\n",
    "\n",
    "ERR_THRESH = 0.25\n",
    "on_fail_response = \"I'm sorry, I wasn't able to understand. Kindly elaborate...\"\n",
    "\n",
    "with open(\"../Final_Intents.json\") as f:\n",
    "    intents = json.load(f)\n",
    "\n",
    "\n",
    "def get_response_list(class_: str = None) -> list[str]:\n",
    "    \"\"\"Returns a list of responses\n",
    "    \"\"\"\n",
    "    print(class_)\n",
    "    responses = []\n",
    "    for intent in intents:\n",
    "        # **\n",
    "        if class_ and intent[\"tag\"] == class_:\n",
    "            responses += intent[\"responses\"]\n",
    "        else:\n",
    "            responses += intent[\"responses\"]\n",
    "    return responses\n",
    "\n",
    "def classify_text(text: str) -> dict:\n",
    "    \"\"\" returns model text classification\n",
    "    \"\"\"\n",
    "    # clean text\n",
    "    prep_text = clean_text(text)\n",
    "    # vectorize the text\n",
    "    vectorized_txt = vectorizer.transform(prep_text)\n",
    "    # get predicted classes\n",
    "    pred = final_model.predict([vectorized_txt])\n",
    "    \n",
    "    results = {np.argmax(r): r[np.argmax(r)] \n",
    "               for i, r in enumerate(pred) if any(r > ERR_THRESH)}\n",
    "    # sort classes\n",
    "    results = dict(sorted(results.items(), key=lambda k: k[1], reverse=True))\n",
    "    \n",
    "    return results\n",
    "\n",
    "\n",
    "def similarity(input_str: str, pred_classes: dict) -> str:\n",
    "    \"\"\"Gets the most similar string\n",
    "    \"\"\"\n",
    "    max_ratio = 0\n",
    "    most_similar_str = None\n",
    "    class_key = list(pred_classes.keys())[0]\n",
    "    class_ = label_encoder.classes_[class_key]\n",
    "    print(f\"\\npredicted tags: {[(label_encoder.classes_[key], conf*100) for key, conf in pred_classes.items()]}\")\n",
    "    \n",
    "    for str_item in get_response_list(class_):\n",
    "        similarity_ratio = SequenceMatcher(None, input_str, str_item).ratio()\n",
    "        if similarity_ratio > max_ratio:\n",
    "            max_ratio = similarity_ratio\n",
    "            most_similar_str = str_item\n",
    "\n",
    "    return most_similar_str\n",
    "\n",
    "\n",
    "# entity classification\n",
    "def get_response(user_input: str) -> str:\n",
    "    \"\"\"Gets user query and returns bot response \n",
    "    \"\"\"\n",
    "    pred_classes = classify_text(user_input)\n",
    "    \n",
    "    if not len(pred_classes.keys()):\n",
    "        return on_fail_response\n",
    "    \n",
    "    return similarity(user_input, pred_classes)"
   ]
  },
  {
   "cell_type": "code",
   "execution_count": 109,
   "id": "7534d002",
   "metadata": {},
   "outputs": [
    {
     "name": "stdout",
     "output_type": "stream",
     "text": [
      "1/1 [==============================] - 0s 6ms/step\n",
      "\n",
      "predicted tags: [('Miscellaneous', 99.50372576713562), ('Enrollment', 92.48575568199158)]\n",
      "Miscellaneous\n"
     ]
    },
    {
     "data": {
      "text/plain": [
       "'For general inquiries, you can contact info@moringaschool.com.'"
      ]
     },
     "execution_count": 109,
     "metadata": {},
     "output_type": "execute_result"
    }
   ],
   "source": [
    "# test1\n",
    "get_response(\"How do I enroll in moringa school ?\")"
   ]
  },
  {
   "cell_type": "code",
   "execution_count": null,
   "id": "96344ec1",
   "metadata": {},
   "outputs": [],
   "source": []
  }
 ],
 "metadata": {
  "kernelspec": {
   "display_name": "saturn (Python 3)",
   "language": "python",
   "name": "python3"
  },
  "language_info": {
   "codemirror_mode": {
    "name": "ipython",
    "version": 3
   },
   "file_extension": ".py",
   "mimetype": "text/x-python",
   "name": "python",
   "nbconvert_exporter": "python",
   "pygments_lexer": "ipython3",
   "version": "3.10.6"
  }
 },
 "nbformat": 4,
 "nbformat_minor": 5
}
