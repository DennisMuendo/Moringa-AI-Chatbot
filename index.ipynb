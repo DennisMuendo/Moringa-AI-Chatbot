{
 "cells": [
  {
   "cell_type": "code",
   "execution_count": 3,
   "id": "e18a57f8",
   "metadata": {},
   "outputs": [],
   "source": [
    "import os\n",
    "import json\n",
    "import textwrap"
   ]
  },
  {
   "cell_type": "code",
   "execution_count": null,
   "id": "499e4365-e4ce-4c4a-ae6f-69511c77284d",
   "metadata": {},
   "outputs": [],
   "source": [
    "json_file = \"moringa_scraper/moringa_text_corpus.json\"\n",
    "\n",
    "with open(json_file, \"r\") as f:\n",
    "    json_corpus = json.load(f)\n",
    "\n",
    "all_text_lists = []\n",
    "\n",
    "i = 0\n",
    "\n",
    "for link, text_list in json_corpus.items():\n",
    "    if \"blog\" in link or \"apply\" in link:\n",
    "        continue\n",
    "    print(i,link)\n",
    "    all_text_lists += text_list\n",
    "    i += 1\n",
    "\n",
    "corpus = \"\\n\".join(all_text_lists)\n",
    "\n",
    "corpus = textwrap.fill(corpus, width=138)\n",
    "\n",
    "with open(\"moringa.txt\", \"w\") as file:\n",
    "    file.write(corpus)\n"
   ]
  },
  {
   "cell_type": "code",
   "execution_count": null,
   "id": "28ff3f6d-455d-419d-9ce4-9fe6b9bbd5fe",
   "metadata": {},
   "outputs": [],
   "source": [
    "members = [\"FREDRICK\", \"Peninah\", \"Kelvin\", \"Angela\", \"Samuel\", \"Dennis\", \"Mark\"]\n",
    "\n",
    "create_dirname = lambda member: f\"chunk_{member}\"\n",
    "\n",
    "for member in members:\n",
    "    directory_name = create_dirname(member)\n",
    "    os.makedirs(directory_name, exist_ok=True)"
   ]
  },
  {
   "cell_type": "code",
   "execution_count": null,
   "id": "5a1a9400-6703-405d-ab68-aa4bf82800a7",
   "metadata": {},
   "outputs": [],
   "source": [
    "max_words = len(corpus)\n",
    "chunk_len = max_words // len(members)\n",
    "\n",
    "i = 0\n",
    "j = i + chunk_len\n",
    "\n",
    "for member in members:\n",
    "    directory_name = create_dirname(member)\n",
    "    with open(f\"{directory_name}/chunk.txt\", \"w\") as f:\n",
    "        f.write(corpus[i:j])\n",
    "    i += chunk_len\n",
    "    j = i + chunk_len"
   ]
  },
  {
   "cell_type": "code",
   "execution_count": 25,
   "id": "36c9cdba",
   "metadata": {},
   "outputs": [
    {
     "name": "stdout",
     "output_type": "stream",
     "text": [
      "There are 72 tags in the data-set, each with the following keys:\n",
      "['tag', 'questions', 'responses']\n",
      "\n",
      "There are no Duplicates\n"
     ]
    }
   ],
   "source": [
    "member_dirs = [dir_ for dir_ in os.listdir() if dir_.startswith(\"chunk\")]\n",
    "\n",
    "intent_list = []\n",
    "\n",
    "for dir_ in member_dirs:\n",
    "    json_file = [json for json in os.listdir(dir_) if json.endswith(\".json\")][0]\n",
    "    with open(f\"{dir_}/{json_file}\", \"r\", encoding=\"utf-8\") as f:\n",
    "        json_data = json.load(f)\n",
    "        intent_list += json_data\n",
    "\n",
    "print(f\"There are {len(intent_list)} tags in the data-set, each with the following keys:\")\n",
    "print(list(intent_list[0].keys()))\n",
    "\n",
    "tag_names = [intent[\"tag\"] for intent in intent_list]\n",
    "print(\"\\nThere are no Duplicates\" if len(list(tag_names)) == len(set(tag_names)) else \"There are duplicates\")\n"
   ]
  },
  {
   "cell_type": "code",
   "execution_count": 28,
   "id": "c2f33251",
   "metadata": {},
   "outputs": [],
   "source": [
    "# comprehensive intent list\n",
    "with open(\"Final_Intents.json\", \"w\") as file:\n",
    "    json.dump(intent_list, file)"
   ]
  }
 ],
 "metadata": {
  "kernelspec": {
   "display_name": "saturn (Python 3)",
   "language": "python",
   "name": "python3"
  },
  "language_info": {
   "codemirror_mode": {
    "name": "ipython",
    "version": 3
   },
   "file_extension": ".py",
   "mimetype": "text/x-python",
   "name": "python",
   "nbconvert_exporter": "python",
   "pygments_lexer": "ipython3",
   "version": "3.10.6"
  }
 },
 "nbformat": 4,
 "nbformat_minor": 5
}
