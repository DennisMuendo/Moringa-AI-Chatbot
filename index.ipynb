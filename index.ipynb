{
 "cells": [
  {
   "cell_type": "code",
   "execution_count": 17,
   "id": "dd8a83b0",
   "metadata": {},
   "outputs": [
    {
     "name": "stdout",
     "output_type": "stream",
     "text": [
      "0 https://moringaschool.com/\n",
      "1 https://moringaschool.com/courses\n",
      "2 https://moringaschool.com/courses/software-engineering-course-online\n",
      "3 https://moringaschool.com/courses/software-engineering-course-online/#?utm_source=Website&utm_medium=Organic&utm_campaign=none&utm_content=course-prerequisites-section-cta&utm_term=Unknown\n",
      "4 https://moringaschool.com/courses/software-engineering-course\n",
      "5 https://moringaschool.com/courses/software-engineering-mobile\n",
      "6 https://moringaschool.com/courses/part-time-software-engineering\n",
      "7 https://moringaschool.com/courses/data-science-course\n",
      "8 https://moringaschool.com/courses/data-science-full-time-hybrid\n",
      "9 https://moringaschool.com/courses/data-science-course-part-time\n",
      "10 https://moringaschool.com/courses/data-science-course-part-time/#?utm_source=Website&utm_medium=Organic&utm_campaign=none&utm_content=course-prerequisites-section-cta&utm_term=Unknown\n",
      "11 https://moringaschool.com/courses/data-visualization-with-python\n",
      "12 https://moringaschool.com/courses/cybersecurity-prep\n",
      "13 https://moringaschool.com/courses/devops-engineering\n",
      "14 https://moringaschool.com/courses/cybersecurity-comptia-security-course\n",
      "15 https://moringaschool.com/courses/product-design-ux-ui-part-time-course\n",
      "16 https://moringaschool.com/courses/product-design-ux-ui-full-time\n",
      "17 https://moringaschool.com/courses/page/2\n",
      "18 https://moringaschool.com/corporate\n",
      "19 https://moringaschool.com/corporate/mpesa-mini-apps-api-development\n",
      "20 https://moringaschool.com/corporate/prompt-engineering-basics\n",
      "21 https://moringaschool.com/corporate/prompt-engineering-basics/?utm_source=Website&utm_medium=Organic&utm_campaign=none&utm_content=footer-section-cta&utm_term=Unknown\n",
      "22 https://moringaschool.com/corporate/data-analytics-for-hr-professionals-masterclass\n",
      "23 https://moringaschool.com/corporate/data-analytics-for-hr-professionals-masterclass/?utm_source=Website&utm_medium=Organic&utm_campaign=none&utm_content=footer-section-cta&utm_term=Unknown\n",
      "24 https://moringaschool.com/corporate/aws-cloud-practitioner-essentials\n",
      "25 https://moringaschool.com/corporate/power-up-your-analytics-a-power-bi-crash-course-for-professionals\n",
      "26 https://moringaschool.com/corporate-solutions\n",
      "27 https://moringaschool.com/corporate-training\n",
      "28 https://moringaschool.com/about-us\n",
      "29 https://moringaschool.com/careers\n",
      "30 https://moringaschool.com/faqs\n",
      "31 https://moringaschool.com/faqs/page/2\n",
      "32 https://moringaschool.com/financial-aid\n",
      "33 https://moringaschool.com/soma-student-loan\n",
      "34 https://moringaschool.com/hire-our-graduates\n",
      "35 https://moringaschool.com/events\n",
      "36 https://moringaschool.com/events/building-a-full-stack-application-with-react-and-django\n",
      "37 https://moringaschool.com/events/building-a-full-stack-application-with-react-and-django/#content\n",
      "38 https://moringaschool.com/events/data-cleaning-and-preprocessing-for-machine-learning\n",
      "39 https://moringaschool.com/events/data-cleaning-and-preprocessing-for-machine-learning/#content\n",
      "40 https://moringaschool.com/events/graduation\n",
      "41 https://moringaschool.com/events/graduation/#content\n",
      "42 https://moringaschool.com/international\n",
      "43 https://moringaschool.com/international/courses\n",
      "44 https://moringaschool.com/international/courses/software-engineering\n",
      "45 https://moringaschool.com/international/events\n",
      "46 https://moringaschool.com/international/events/partnership-launch-event-between-moringa-school-and-impact-hub-accra\n",
      "47 https://moringaschool.com/international/events/partnership-launch-event-between-moringa-school-and-impact-hub-accra/#content\n",
      "48 https://moringaschool.com/international/category/press-releases\n",
      "49 https://moringaschool.com/contact-us\n",
      "50 https://moringaschool.com/privacy-policy\n"
     ]
    }
   ],
   "source": [
    "import json\n",
    "import textwrap\n",
    "\n",
    "json_file = \"moringa_scraper/moringa_text_corpus.json\"\n",
    "\n",
    "with open(json_file, \"r\") as f:\n",
    "    json_corpus = json.load(f)\n",
    "\n",
    "all_text_lists = []\n",
    "\n",
    "i = 0\n",
    "\n",
    "for link, text_list in json_corpus.items():\n",
    "    if \"blog\" in link or \"apply\" in link:\n",
    "        continue\n",
    "    print(i,link)\n",
    "    all_text_lists += text_list\n",
    "    i += 1\n",
    "\n",
    "# all_text_lists= [text for text in all_text_lists if len(text.split(\" \")) > 4]\n",
    "\n",
    "corpus = \"\\n\".join(all_text_lists)\n",
    "\n",
    "corpus = textwrap.fill(corpus, width=138)\n",
    "\n",
    "with open(\"moringa.txt\", \"w\") as file:\n",
    "    file.write(corpus)\n"
   ]
  },
  {
   "cell_type": "code",
   "execution_count": 18,
   "id": "9db3877d",
   "metadata": {},
   "outputs": [],
   "source": [
    "import os\n",
    "\n",
    "members = [\"FREDRICK\", \"Peninah\", \"Kelvin\", \"Angela\", \"Samuel\", \"Dennis\", \"Mark\"]\n",
    "\n",
    "for member in members:\n",
    "    directory_name = f\"chunk_{member}\"\n",
    "    os.makedirs(directory_name, exist_ok=True)"
   ]
  },
  {
   "cell_type": "code",
   "execution_count": 19,
   "id": "8c8454ed",
   "metadata": {},
   "outputs": [],
   "source": [
    "max_words = len(corpus)\n",
    "chunk_len = max_words // len(members)\n",
    "\n",
    "i = 0\n",
    "j = i + chunk_len\n",
    "\n",
    "for member in members:\n",
    "    directory_name = f\"chunk_{member}\"\n",
    "\n",
    "    with open(f\"{directory_name}/chunk.txt\", \"w\") as f:\n",
    "        f.write(corpus[i:j])\n",
    "    i += chunk_len\n",
    "    j = i + chunk_len\n"
   ]
  }
 ],
 "metadata": {
  "kernelspec": {
   "display_name": "saturn (Python 3)",
   "language": "python",
   "name": "python3"
  },
  "language_info": {
   "codemirror_mode": {
    "name": "ipython",
    "version": 3
   },
   "file_extension": ".py",
   "mimetype": "text/x-python",
   "name": "python",
   "nbconvert_exporter": "python",
   "pygments_lexer": "ipython3",
   "version": "3.10.6"
  }
 },
 "nbformat": 4,
 "nbformat_minor": 5
}
