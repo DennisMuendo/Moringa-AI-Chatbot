{
 "cells": [
  {
   "cell_type": "code",
   "execution_count": 22,
   "id": "fbca0eaf",
   "metadata": {},
   "outputs": [],
   "source": [
    "import json\n",
    "\n",
    "\n",
    "json_file = \"moringa_scraper/moringa_text_corpus.json\"\n",
    "\n",
    "# open scraped file\n",
    "with open(json_file, \"r\", encoding=\"utf-8\") as f:\n",
    "    json_corpus = json.load(f)"
   ]
  },
  {
   "cell_type": "code",
   "execution_count": 24,
   "id": "ccf8b025",
   "metadata": {},
   "outputs": [],
   "source": [
    "# scraped links\n",
    "all_text_lists = []\n",
    "\n",
    "for link, text_list in json_corpus.items():\n",
    "    all_text_lists += text_list"
   ]
  },
  {
   "cell_type": "code",
   "execution_count": 29,
   "id": "b18585da",
   "metadata": {},
   "outputs": [
    {
     "data": {
      "text/plain": [
       "300810"
      ]
     },
     "execution_count": 29,
     "metadata": {},
     "output_type": "execute_result"
    }
   ],
   "source": [
    "corpus = \", \".join(all_text_lists)\n",
    "\n",
    "len(corpus.split(\" \"))"
   ]
  },
  {
   "cell_type": "code",
   "execution_count": 32,
   "id": "667860f7",
   "metadata": {},
   "outputs": [],
   "source": [
    "with open(\"moringa.txt\", \"w\", encoding=\"utf-8\") as file:\n",
    "    file.write(corpus)"
   ]
  }
 ],
 "metadata": {
  "kernelspec": {
   "display_name": "saturn (Python 3)",
   "language": "python",
   "name": "python3"
  },
  "language_info": {
   "codemirror_mode": {
    "name": "ipython",
    "version": 3
   },
   "file_extension": ".py",
   "mimetype": "text/x-python",
   "name": "python",
   "nbconvert_exporter": "python",
   "pygments_lexer": "ipython3",
   "version": "3.10.6"
  }
 },
 "nbformat": 4,
 "nbformat_minor": 5
}
