{
 "cells": [
  {
   "cell_type": "code",
   "execution_count": 2,
   "metadata": {},
   "outputs": [
    {
     "name": "stderr",
     "output_type": "stream",
     "text": [
      "[nltk_data] Downloading package wordnet to\n",
      "[nltk_data]     C:\\Users\\user\\AppData\\Roaming\\nltk_data...\n",
      "[nltk_data]   Package wordnet is already up-to-date!\n",
      "[nltk_data] Downloading package punkt to\n",
      "[nltk_data]     C:\\Users\\user\\AppData\\Roaming\\nltk_data...\n",
      "[nltk_data]   Package punkt is already up-to-date!\n"
     ]
    }
   ],
   "source": [
    "import json\n",
    "import pandas as pd\n",
    "\n",
    "from tensorflow.keras.preprocessing.text import Tokenizer\n",
    "import nltk\n",
    "from nltk.tokenize import word_tokenize\n",
    "from nltk.corpus import stopwords\n",
    "nltk.download('wordnet')\n",
    "nltk.download('punkt')\n",
    "from nltk.stem import WordNetLemmatizer\n",
    "from sklearn.feature_extraction.text import TfidfVectorizer\n",
    "from imblearn.over_sampling import SMOTE\n",
    "\n",
    "from sklearn.model_selection import train_test_split\n",
    "\n",
    "from sklearn.naive_bayes import MultinomialNB\n",
    "from sklearn.metrics import accuracy_score, classification_report\n",
    "\n",
    "\n",
    "\n",
    "from sklearn.preprocessing import OneHotEncoder\n",
    "\n"
   ]
  },
  {
   "cell_type": "markdown",
   "metadata": {},
   "source": [
    "# Model - Multinomial Naive Bayes"
   ]
  },
  {
   "cell_type": "markdown",
   "metadata": {},
   "source": [
    "We have chosen to use Multinomial Naive Bayes because of its simplicity and because it has been known to perfrom well with text data with high dimensionality. Multinomial Naive Bayes algorithm attempts to classify text into categories **(intents)** so that the chatbot can identify the intent of the user and narrow down to the most possible range of responses.The algorithm does this by relying on commonality; words are given weight for particular categories based on their frequency of appearance in that category. "
   ]
  },
  {
   "cell_type": "code",
   "execution_count": 1,
   "metadata": {},
   "outputs": [
    {
     "ename": "NameError",
     "evalue": "name 'json' is not defined",
     "output_type": "error",
     "traceback": [
      "\u001b[1;31m---------------------------------------------------------------------------\u001b[0m",
      "\u001b[1;31mNameError\u001b[0m                                 Traceback (most recent call last)",
      "\u001b[1;32m<ipython-input-1-8ff7b232e0f4>\u001b[0m in \u001b[0;36m<module>\u001b[1;34m\u001b[0m\n\u001b[0;32m      2\u001b[0m \u001b[1;33m\u001b[0m\u001b[0m\n\u001b[0;32m      3\u001b[0m \u001b[1;32mwith\u001b[0m \u001b[0mopen\u001b[0m\u001b[1;33m(\u001b[0m\u001b[1;34m'../Final_Intents.json'\u001b[0m\u001b[1;33m,\u001b[0m \u001b[1;34m'r'\u001b[0m\u001b[1;33m)\u001b[0m \u001b[1;32mas\u001b[0m \u001b[0mfile\u001b[0m\u001b[1;33m:\u001b[0m\u001b[1;33m\u001b[0m\u001b[1;33m\u001b[0m\u001b[0m\n\u001b[1;32m----> 4\u001b[1;33m     \u001b[0mdata\u001b[0m \u001b[1;33m=\u001b[0m \u001b[0mjson\u001b[0m\u001b[1;33m.\u001b[0m\u001b[0mload\u001b[0m\u001b[1;33m(\u001b[0m\u001b[0mfile\u001b[0m\u001b[1;33m)\u001b[0m\u001b[1;33m\u001b[0m\u001b[1;33m\u001b[0m\u001b[0m\n\u001b[0m\u001b[0;32m      5\u001b[0m \u001b[1;33m\u001b[0m\u001b[0m\n\u001b[0;32m      6\u001b[0m \u001b[1;31m# Convert the JSON data into a DataFrame, ignoring missing keys\u001b[0m\u001b[1;33m\u001b[0m\u001b[1;33m\u001b[0m\u001b[1;33m\u001b[0m\u001b[0m\n",
      "\u001b[1;31mNameError\u001b[0m: name 'json' is not defined"
     ]
    }
   ],
   "source": [
    "# Converting json into a dataframe\n",
    "\n",
    "with open('../Final_Intents.json', 'r') as file:\n",
    "    data = json.load(file)\n",
    "\n",
    "# Convert the JSON data into a DataFrame, ignoring missing keys\n",
    "df = pd.json_normalize(data, 'questions', ['tag', 'responses'], errors='ignore')\n",
    "\n",
    "# Rename the columns for clarity\n",
    "df.columns = ['Question', 'Tag', 'Response']\n",
    "\n"
   ]
  },
  {
   "cell_type": "code",
   "execution_count": 3,
   "metadata": {},
   "outputs": [
    {
     "data": {
      "text/html": [
       "<div>\n",
       "<style scoped>\n",
       "    .dataframe tbody tr th:only-of-type {\n",
       "        vertical-align: middle;\n",
       "    }\n",
       "\n",
       "    .dataframe tbody tr th {\n",
       "        vertical-align: top;\n",
       "    }\n",
       "\n",
       "    .dataframe thead th {\n",
       "        text-align: right;\n",
       "    }\n",
       "</style>\n",
       "<table border=\"1\" class=\"dataframe\">\n",
       "  <thead>\n",
       "    <tr style=\"text-align: right;\">\n",
       "      <th></th>\n",
       "      <th>Question</th>\n",
       "      <th>Tag</th>\n",
       "      <th>Response</th>\n",
       "    </tr>\n",
       "  </thead>\n",
       "  <tbody>\n",
       "    <tr>\n",
       "      <th>187</th>\n",
       "      <td>Are there hands-on labs and real-world project...</td>\n",
       "      <td>Part-time_Software Engineering</td>\n",
       "      <td>NaN</td>\n",
       "    </tr>\n",
       "    <tr>\n",
       "      <th>436</th>\n",
       "      <td>What documents do I need to submit for enrollm...</td>\n",
       "      <td>enrollment_deadline</td>\n",
       "      <td>[Enrollment deadlines vary for each class; for...</td>\n",
       "    </tr>\n",
       "    <tr>\n",
       "      <th>296</th>\n",
       "      <td>What does a UX researcher do?</td>\n",
       "      <td>Product_Design_UI/UX_Career_Opportunities</td>\n",
       "      <td>[A UX researcher conducts research with real u...</td>\n",
       "    </tr>\n",
       "    <tr>\n",
       "      <th>123</th>\n",
       "      <td>Can you provide information about the enrollme...</td>\n",
       "      <td>Enrollment_Information</td>\n",
       "      <td>[To enroll in courses at Moringa School, you c...</td>\n",
       "    </tr>\n",
       "    <tr>\n",
       "      <th>625</th>\n",
       "      <td>Is there an emphasis on responsible data repor...</td>\n",
       "      <td>Data_Ethics_and_Privacy</td>\n",
       "      <td>[Data ethics is an integral part of the curric...</td>\n",
       "    </tr>\n",
       "    <tr>\n",
       "      <th>268</th>\n",
       "      <td>What is the average salary for roles like SOC ...</td>\n",
       "      <td>Cybersecurity_Career_Opportunities</td>\n",
       "      <td>[Career opportunities include Cybersecurity Co...</td>\n",
       "    </tr>\n",
       "    <tr>\n",
       "      <th>461</th>\n",
       "      <td>Is financial aid available for this course?</td>\n",
       "      <td>Data_Science_Course_Duration_and_Fees</td>\n",
       "      <td>[The full-time course lasts for 25 weeks with ...</td>\n",
       "    </tr>\n",
       "    <tr>\n",
       "      <th>271</th>\n",
       "      <td>When do applications for the Cybersecurity Cou...</td>\n",
       "      <td>Cybersecurity_Course_Information</td>\n",
       "      <td>[The 18-week Cybersecurity Course covers cyber...</td>\n",
       "    </tr>\n",
       "  </tbody>\n",
       "</table>\n",
       "</div>"
      ],
      "text/plain": [
       "                                              Question  \\\n",
       "187  Are there hands-on labs and real-world project...   \n",
       "436  What documents do I need to submit for enrollm...   \n",
       "296                      What does a UX researcher do?   \n",
       "123  Can you provide information about the enrollme...   \n",
       "625  Is there an emphasis on responsible data repor...   \n",
       "268  What is the average salary for roles like SOC ...   \n",
       "461        Is financial aid available for this course?   \n",
       "271  When do applications for the Cybersecurity Cou...   \n",
       "\n",
       "                                           Tag  \\\n",
       "187             Part-time_Software Engineering   \n",
       "436                        enrollment_deadline   \n",
       "296  Product_Design_UI/UX_Career_Opportunities   \n",
       "123                     Enrollment_Information   \n",
       "625                    Data_Ethics_and_Privacy   \n",
       "268         Cybersecurity_Career_Opportunities   \n",
       "461      Data_Science_Course_Duration_and_Fees   \n",
       "271           Cybersecurity_Course_Information   \n",
       "\n",
       "                                              Response  \n",
       "187                                                NaN  \n",
       "436  [Enrollment deadlines vary for each class; for...  \n",
       "296  [A UX researcher conducts research with real u...  \n",
       "123  [To enroll in courses at Moringa School, you c...  \n",
       "625  [Data ethics is an integral part of the curric...  \n",
       "268  [Career opportunities include Cybersecurity Co...  \n",
       "461  [The full-time course lasts for 25 weeks with ...  \n",
       "271  [The 18-week Cybersecurity Course covers cyber...  "
      ]
     },
     "execution_count": 3,
     "metadata": {},
     "output_type": "execute_result"
    }
   ],
   "source": [
    "df.head()"
   ]
  },
  {
   "cell_type": "code",
   "execution_count": 4,
   "metadata": {},
   "outputs": [
    {
     "data": {
      "text/plain": [
       "Data_Science_Career_Opportunities                   15\n",
       "DevOps_Course_Information                           13\n",
       "Data_Science_Course_Overview                        12\n",
       "Data_Science_Project_and_Hands-on_Experience        12\n",
       "Data_Science_Curriculum_Outline                     12\n",
       "                                                    ..\n",
       "Data_Science_Industry_Relevance                      5\n",
       "Data_Science_Collaborative_Projects_and_Teamwork     5\n",
       "Ethical_Considerations_in_Data_Science               5\n",
       "Data_Science_Cybersecurity_Introduction              5\n",
       "Data_Ethics_and_Privacy                              5\n",
       "Name: Tag, Length: 75, dtype: int64"
      ]
     },
     "execution_count": 4,
     "metadata": {},
     "output_type": "execute_result"
    }
   ],
   "source": [
    "df['Tag'].value_counts()\n"
   ]
  },
  {
   "cell_type": "code",
   "execution_count": 5,
   "metadata": {},
   "outputs": [],
   "source": [
    "df = df.dropna()"
   ]
  },
  {
   "cell_type": "markdown",
   "metadata": {},
   "source": [
    "This shows a class imbalance because some \"tags\" appear more frequently than others.  This imbalance will affect the performance of our algorithm;it may struggle to properly learn and make accurate predictions for the minority class, leading to biased results. "
   ]
  },
  {
   "cell_type": "code",
   "execution_count": 9,
   "metadata": {},
   "outputs": [
    {
     "data": {
      "text/plain": [
       "<612x703 sparse matrix of type '<class 'numpy.float64'>'\n",
       "\twith 3591 stored elements in Compressed Sparse Row format>"
      ]
     },
     "execution_count": 9,
     "metadata": {},
     "output_type": "execute_result"
    }
   ],
   "source": [
    "# Text Cleaning\n",
    "# Remove any unnecessary characters, symbols, or special characters.\n",
    "# Convert text to lowercase to ensure uniformity.\n",
    "df['Question'] = df['Question'].str.lower().replace('[^a-zA-Z0-9]', ' ', regex=True)\n",
    "\n",
    "# Tokenization\n",
    "#  Split the text into individual words or tokens.\n",
    "df['Question'] = df['Question'].apply(word_tokenize)\n",
    "\n",
    "\n",
    "# Removing Stop Words\n",
    "stop_words = set(stopwords.words('english'))\n",
    "df['Question'] = df['Question'].apply(lambda x: [word for word in x if word not in stop_words])\n",
    "\n",
    "\n",
    "# Lemmatization\n",
    "# Reduce words to their root form to handle different variations.\n",
    "lemmatizer = WordNetLemmatizer()\n",
    "df['Question'] = df['Question'].apply(lambda x: [lemmatizer.lemmatize(word) for word in x])\n",
    "\n",
    "\n",
    "#Joining tokens\n",
    "# Combine the list of tokens back into a string \n",
    "df['Question'] = df['Question'].apply(lambda x: ' '.join(x))\n",
    "\n",
    "# ### Feature extraction\n",
    "# TF-IDF Vectorization\n",
    "tfidf_vectorizer = TfidfVectorizer()\n",
    "X_tfidf = tfidf_vectorizer.fit_transform(df['Question'])\n",
    "X_tfidf\n",
    "\n",
    "# # One-Hot Encoding 'tag'\n",
    "# encoder = OneHotEncoder(sparse=False)\n",
    "# y_one_hot = encoder.fit_transform(df['Tag'])\n"
   ]
  },
  {
   "cell_type": "code",
   "execution_count": 10,
   "metadata": {},
   "outputs": [
    {
     "name": "stdout",
     "output_type": "stream",
     "text": [
      "Accuracy: 0.65\n",
      "                                                         precision    recall  f1-score   support\n",
      "\n",
      "                           Advanced_Data_Science_Topics       0.57      1.00      0.73         4\n",
      "                                                Contact       1.00      0.33      0.50         3\n",
      "                     Cybersecurity_Career_Opportunities       0.50      1.00      0.67         1\n",
      "                           Cybersecurity_Certifications       0.29      1.00      0.44         2\n",
      "                       Cybersecurity_Course_Information       1.00      0.50      0.67         2\n",
      "                                Data_Ethics_and_Privacy       1.00      0.57      0.73         7\n",
      "            Data_Science_Admission_Eligibility_Criteria       1.00      1.00      1.00         3\n",
      "                       Data_Science_Application_Process       1.00      1.00      1.00         5\n",
      "                  Data_Science_Applications_in_Business       0.75      1.00      0.86         3\n",
      "                                    Data_Science_Career       0.00      0.00      1.00         2\n",
      "                      Data_Science_Career_Opportunities       0.00      0.00      1.00         1\n",
      "                 Data_Science_Career_Transition_Support       0.75      1.00      0.86         3\n",
      "           Data_Science_Certification_and_Accreditation       0.50      1.00      0.67         2\n",
      "       Data_Science_Collaborative_Projects_and_Teamwork       0.83      1.00      0.91         5\n",
      "               Data_Science_Competitions_and_Challenges       0.33      1.00      0.50         1\n",
      "                  Data_Science_Course_Duration_and_Fees       0.50      1.00      0.67         2\n",
      "                           Data_Science_Course_Overview       0.50      0.33      0.40         3\n",
      "             Data_Science_Course_Pacing_and_Flexibility       0.50      1.00      0.67         1\n",
      "             Data_Science_Course_Schedule_and_Structure       1.00      0.50      0.67         4\n",
      "                                   Data_Science_Courses       0.00      0.00      1.00         3\n",
      "                        Data_Science_Curriculum_Outline       1.00      0.00      0.00         6\n",
      "                Data_Science_Cybersecurity_Introduction       0.67      1.00      0.80         2\n",
      "                        Data_Science_Industry_Relevance       1.00      1.00      1.00         4\n",
      "Data_Science_Networking_and_Collaboration_Opportunities       0.67      0.67      0.67         3\n",
      "         Data_Science_Online_and_Offline_Learning_Modes       0.33      1.00      0.50         2\n",
      "                     Data_Science_Pre-Work_Requirements       0.80      1.00      0.89         4\n",
      "           Data_Science_Project_and_Hands-on_Experience       1.00      0.17      0.29         6\n",
      "                         Data_Science_Skill_Development       0.67      1.00      0.80         2\n",
      "         Data_Science_Software_Engineering_Fundamentals       1.00      1.00      1.00         3\n",
      "                   Data_Science_Statistics_and_Analysis       0.67      1.00      0.80         2\n",
      "                  Data_Science_Student_Support_Services       1.00      0.67      0.80         3\n",
      "                             DevOps_Admissions_and_Fees       1.00      0.33      0.50         3\n",
      "                            DevOps_Career_Opportunities       1.00      0.25      0.40         4\n",
      "                              DevOps_Course_Information       0.50      0.25      0.33         4\n",
      "                                   Enrollment_Deadlines       1.00      1.00      1.00         3\n",
      "                                 Enrollment_Information       0.25      1.00      0.40         1\n",
      "                 Ethical_Considerations_in_Data_Science       0.60      1.00      0.75         3\n",
      "                                                  Event       1.00      1.00      1.00         2\n",
      "                                          Financial Aid       0.50      0.33      0.40         3\n",
      "                        Full_Stack_Software_Engineering       1.00      1.00      1.00         2\n",
      "                    Instructor_Expertise_and_Background       0.60      1.00      0.75         3\n",
      "                      International_Student_Information       0.50      1.00      0.67         2\n",
      "                              Mobile_Development_Career       1.00      0.33      0.50         6\n",
      "                             Mobile_Development_Courses       0.14      1.00      0.25         1\n",
      "                                 Moringa_School_Courses       1.00      0.00      0.00         6\n",
      "                                    Moringa_School_News       1.00      1.00      1.00         1\n",
      "                            Moringa_School_Testimonials       0.50      0.67      0.57         3\n",
      "                 Mpesa_Mini_Apps_API_Course_Information       1.00      0.00      0.00         3\n",
      "                                            Partnership       0.50      0.50      0.50         2\n",
      "              Product_Design_UI/UX_Career_Opportunities       1.00      0.67      0.80         3\n",
      "                Product_Design_UI/UX_Course_Information       0.40      1.00      0.57         2\n",
      "                      Software_Engineering_Mobile_Track       0.50      1.00      0.67         1\n",
      "                         Student_Life_and_Break_Periods       1.00      1.00      1.00         3\n",
      "                                         ai_integration       1.00      0.80      0.89         5\n",
      "                                       aws_cloud_course       1.00      1.00      1.00         3\n",
      "                                 aws_cloud_practitioner       1.00      1.00      1.00         2\n",
      "                                        career_services       0.67      0.67      0.67         3\n",
      "                                        cloud_computing       1.00      0.67      0.80         6\n",
      "                                   cloud_developer_role       1.00      1.00      1.00         3\n",
      "               course_details_Front-End_web_development       0.75      0.75      0.75         4\n",
      "                                      detailed_schedule       0.75      0.60      0.67         5\n",
      "                                             enrollment       1.00      0.00      0.00         2\n",
      "                                 enrollment_information       0.33      0.33      0.33         3\n",
      "                                      hr_data_analytics       1.00      1.00      1.00         2\n",
      "                                      interview_process       0.50      1.00      0.67         1\n",
      "                                     learning_resources       0.67      0.50      0.57         4\n",
      "                                        online_learning       1.00      0.40      0.57         5\n",
      "                               professional_advancement       0.50      0.50      0.50         2\n",
      "                                      student_community       0.80      0.80      0.80         5\n",
      "                                    tech_based_learning       0.50      0.67      0.57         3\n",
      "\n",
      "                                               accuracy                           0.65       213\n",
      "                                              macro avg       0.72      0.71      0.68       213\n",
      "                                           weighted avg       0.79      0.65      0.66       213\n",
      "\n"
     ]
    }
   ],
   "source": [
    "from imblearn.over_sampling import RandomOverSampler\n",
    "\n",
    "\n",
    "ros = RandomOverSampler(random_state=42)\n",
    "X_resampled, y_resampled = ros.fit_resample(X_tfidf, df['Tag'])\n",
    "\n",
    "\n",
    "# Split the resampled data\n",
    "X_train, X_test, y_train, y_test = train_test_split(X_resampled,y_resampled, test_size=0.2, \n",
    "                                                    random_state=42)\n",
    "\n",
    "\n",
    "\n",
    "# instantiate\n",
    "model = MultinomialNB()\n",
    "model.fit(X_train, y_train)\n",
    "\n",
    "\n",
    "#Model evaluation\n",
    "\n",
    "\n",
    "y_pred = model.predict(X_test)\n",
    "accuracy = accuracy_score(y_test, y_pred)\n",
    "print(f\"Accuracy: {accuracy:.2f}\")\n",
    "print(classification_report(y_test, y_pred,zero_division=1))\n"
   ]
  },
  {
   "cell_type": "code",
   "execution_count": 11,
   "metadata": {
    "scrolled": true
   },
   "outputs": [
    {
     "name": "stdout",
     "output_type": "stream",
     "text": [
      "Cross-validated Accuracy: 0.39\n"
     ]
    }
   ],
   "source": [
    "from sklearn.model_selection import cross_val_score\n",
    "\n",
    "\n",
    "scores = cross_val_score(MultinomialNB(), X_tfidf, df['Tag'], cv=5)\n",
    "print(f\"Cross-validated Accuracy: {scores.mean():.2f}\")\n"
   ]
  },
  {
   "cell_type": "code",
   "execution_count": 13,
   "metadata": {},
   "outputs": [
    {
     "ename": "ValueError",
     "evalue": "Found input variables with inconsistent numbers of samples: [213, 612]",
     "output_type": "error",
     "traceback": [
      "\u001b[1;31m---------------------------------------------------------------------------\u001b[0m",
      "\u001b[1;31mValueError\u001b[0m                                Traceback (most recent call last)",
      "\u001b[1;32m<ipython-input-13-652d290d6a2f>\u001b[0m in \u001b[0;36m<module>\u001b[1;34m\u001b[0m\n\u001b[0;32m      1\u001b[0m \u001b[1;31m# Evaluate the model on the test set\u001b[0m\u001b[1;33m\u001b[0m\u001b[1;33m\u001b[0m\u001b[1;33m\u001b[0m\u001b[0m\n\u001b[1;32m----> 2\u001b[1;33m \u001b[0maccuracy\u001b[0m \u001b[1;33m=\u001b[0m \u001b[0mmodel\u001b[0m\u001b[1;33m.\u001b[0m\u001b[0mscore\u001b[0m\u001b[1;33m(\u001b[0m\u001b[0mX_tfidf\u001b[0m\u001b[1;33m,\u001b[0m \u001b[0my_test\u001b[0m\u001b[1;33m)\u001b[0m\u001b[1;33m\u001b[0m\u001b[1;33m\u001b[0m\u001b[0m\n\u001b[0m\u001b[0;32m      3\u001b[0m \u001b[1;33m\u001b[0m\u001b[0m\n\u001b[0;32m      4\u001b[0m \u001b[0mprint\u001b[0m\u001b[1;33m(\u001b[0m\u001b[1;34mf\"Accuracy on the test set: {accuracy:.2f}\"\u001b[0m\u001b[1;33m)\u001b[0m\u001b[1;33m\u001b[0m\u001b[1;33m\u001b[0m\u001b[0m\n",
      "\u001b[1;32m~\\anaconda3\\envs\\learn-env\\lib\\site-packages\\sklearn\\base.py\u001b[0m in \u001b[0;36mscore\u001b[1;34m(self, X, y, sample_weight)\u001b[0m\n\u001b[0;32m    704\u001b[0m         \u001b[1;32mfrom\u001b[0m \u001b[1;33m.\u001b[0m\u001b[0mmetrics\u001b[0m \u001b[1;32mimport\u001b[0m \u001b[0maccuracy_score\u001b[0m\u001b[1;33m\u001b[0m\u001b[1;33m\u001b[0m\u001b[0m\n\u001b[0;32m    705\u001b[0m \u001b[1;33m\u001b[0m\u001b[0m\n\u001b[1;32m--> 706\u001b[1;33m         \u001b[1;32mreturn\u001b[0m \u001b[0maccuracy_score\u001b[0m\u001b[1;33m(\u001b[0m\u001b[0my\u001b[0m\u001b[1;33m,\u001b[0m \u001b[0mself\u001b[0m\u001b[1;33m.\u001b[0m\u001b[0mpredict\u001b[0m\u001b[1;33m(\u001b[0m\u001b[0mX\u001b[0m\u001b[1;33m)\u001b[0m\u001b[1;33m,\u001b[0m \u001b[0msample_weight\u001b[0m\u001b[1;33m=\u001b[0m\u001b[0msample_weight\u001b[0m\u001b[1;33m)\u001b[0m\u001b[1;33m\u001b[0m\u001b[1;33m\u001b[0m\u001b[0m\n\u001b[0m\u001b[0;32m    707\u001b[0m \u001b[1;33m\u001b[0m\u001b[0m\n\u001b[0;32m    708\u001b[0m     \u001b[1;32mdef\u001b[0m \u001b[0m_more_tags\u001b[0m\u001b[1;33m(\u001b[0m\u001b[0mself\u001b[0m\u001b[1;33m)\u001b[0m\u001b[1;33m:\u001b[0m\u001b[1;33m\u001b[0m\u001b[1;33m\u001b[0m\u001b[0m\n",
      "\u001b[1;32m~\\anaconda3\\envs\\learn-env\\lib\\site-packages\\sklearn\\utils\\_param_validation.py\u001b[0m in \u001b[0;36mwrapper\u001b[1;34m(*args, **kwargs)\u001b[0m\n\u001b[0;32m    212\u001b[0m                     )\n\u001b[0;32m    213\u001b[0m                 ):\n\u001b[1;32m--> 214\u001b[1;33m                     \u001b[1;32mreturn\u001b[0m \u001b[0mfunc\u001b[0m\u001b[1;33m(\u001b[0m\u001b[1;33m*\u001b[0m\u001b[0margs\u001b[0m\u001b[1;33m,\u001b[0m \u001b[1;33m**\u001b[0m\u001b[0mkwargs\u001b[0m\u001b[1;33m)\u001b[0m\u001b[1;33m\u001b[0m\u001b[1;33m\u001b[0m\u001b[0m\n\u001b[0m\u001b[0;32m    215\u001b[0m             \u001b[1;32mexcept\u001b[0m \u001b[0mInvalidParameterError\u001b[0m \u001b[1;32mas\u001b[0m \u001b[0me\u001b[0m\u001b[1;33m:\u001b[0m\u001b[1;33m\u001b[0m\u001b[1;33m\u001b[0m\u001b[0m\n\u001b[0;32m    216\u001b[0m                 \u001b[1;31m# When the function is just a wrapper around an estimator, we allow\u001b[0m\u001b[1;33m\u001b[0m\u001b[1;33m\u001b[0m\u001b[1;33m\u001b[0m\u001b[0m\n",
      "\u001b[1;32m~\\anaconda3\\envs\\learn-env\\lib\\site-packages\\sklearn\\metrics\\_classification.py\u001b[0m in \u001b[0;36maccuracy_score\u001b[1;34m(y_true, y_pred, normalize, sample_weight)\u001b[0m\n\u001b[0;32m    218\u001b[0m \u001b[1;33m\u001b[0m\u001b[0m\n\u001b[0;32m    219\u001b[0m     \u001b[1;31m# Compute accuracy for each possible representation\u001b[0m\u001b[1;33m\u001b[0m\u001b[1;33m\u001b[0m\u001b[1;33m\u001b[0m\u001b[0m\n\u001b[1;32m--> 220\u001b[1;33m     \u001b[0my_type\u001b[0m\u001b[1;33m,\u001b[0m \u001b[0my_true\u001b[0m\u001b[1;33m,\u001b[0m \u001b[0my_pred\u001b[0m \u001b[1;33m=\u001b[0m \u001b[0m_check_targets\u001b[0m\u001b[1;33m(\u001b[0m\u001b[0my_true\u001b[0m\u001b[1;33m,\u001b[0m \u001b[0my_pred\u001b[0m\u001b[1;33m)\u001b[0m\u001b[1;33m\u001b[0m\u001b[1;33m\u001b[0m\u001b[0m\n\u001b[0m\u001b[0;32m    221\u001b[0m     \u001b[0mcheck_consistent_length\u001b[0m\u001b[1;33m(\u001b[0m\u001b[0my_true\u001b[0m\u001b[1;33m,\u001b[0m \u001b[0my_pred\u001b[0m\u001b[1;33m,\u001b[0m \u001b[0msample_weight\u001b[0m\u001b[1;33m)\u001b[0m\u001b[1;33m\u001b[0m\u001b[1;33m\u001b[0m\u001b[0m\n\u001b[0;32m    222\u001b[0m     \u001b[1;32mif\u001b[0m \u001b[0my_type\u001b[0m\u001b[1;33m.\u001b[0m\u001b[0mstartswith\u001b[0m\u001b[1;33m(\u001b[0m\u001b[1;34m\"multilabel\"\u001b[0m\u001b[1;33m)\u001b[0m\u001b[1;33m:\u001b[0m\u001b[1;33m\u001b[0m\u001b[1;33m\u001b[0m\u001b[0m\n",
      "\u001b[1;32m~\\anaconda3\\envs\\learn-env\\lib\\site-packages\\sklearn\\metrics\\_classification.py\u001b[0m in \u001b[0;36m_check_targets\u001b[1;34m(y_true, y_pred)\u001b[0m\n\u001b[0;32m     82\u001b[0m     \u001b[0my_pred\u001b[0m \u001b[1;33m:\u001b[0m \u001b[0marray\u001b[0m \u001b[1;32mor\u001b[0m \u001b[0mindicator\u001b[0m \u001b[0mmatrix\u001b[0m\u001b[1;33m\u001b[0m\u001b[1;33m\u001b[0m\u001b[0m\n\u001b[0;32m     83\u001b[0m     \"\"\"\n\u001b[1;32m---> 84\u001b[1;33m     \u001b[0mcheck_consistent_length\u001b[0m\u001b[1;33m(\u001b[0m\u001b[0my_true\u001b[0m\u001b[1;33m,\u001b[0m \u001b[0my_pred\u001b[0m\u001b[1;33m)\u001b[0m\u001b[1;33m\u001b[0m\u001b[1;33m\u001b[0m\u001b[0m\n\u001b[0m\u001b[0;32m     85\u001b[0m     \u001b[0mtype_true\u001b[0m \u001b[1;33m=\u001b[0m \u001b[0mtype_of_target\u001b[0m\u001b[1;33m(\u001b[0m\u001b[0my_true\u001b[0m\u001b[1;33m,\u001b[0m \u001b[0minput_name\u001b[0m\u001b[1;33m=\u001b[0m\u001b[1;34m\"y_true\"\u001b[0m\u001b[1;33m)\u001b[0m\u001b[1;33m\u001b[0m\u001b[1;33m\u001b[0m\u001b[0m\n\u001b[0;32m     86\u001b[0m     \u001b[0mtype_pred\u001b[0m \u001b[1;33m=\u001b[0m \u001b[0mtype_of_target\u001b[0m\u001b[1;33m(\u001b[0m\u001b[0my_pred\u001b[0m\u001b[1;33m,\u001b[0m \u001b[0minput_name\u001b[0m\u001b[1;33m=\u001b[0m\u001b[1;34m\"y_pred\"\u001b[0m\u001b[1;33m)\u001b[0m\u001b[1;33m\u001b[0m\u001b[1;33m\u001b[0m\u001b[0m\n",
      "\u001b[1;32m~\\anaconda3\\envs\\learn-env\\lib\\site-packages\\sklearn\\utils\\validation.py\u001b[0m in \u001b[0;36mcheck_consistent_length\u001b[1;34m(*arrays)\u001b[0m\n\u001b[0;32m    405\u001b[0m     \u001b[0muniques\u001b[0m \u001b[1;33m=\u001b[0m \u001b[0mnp\u001b[0m\u001b[1;33m.\u001b[0m\u001b[0munique\u001b[0m\u001b[1;33m(\u001b[0m\u001b[0mlengths\u001b[0m\u001b[1;33m)\u001b[0m\u001b[1;33m\u001b[0m\u001b[1;33m\u001b[0m\u001b[0m\n\u001b[0;32m    406\u001b[0m     \u001b[1;32mif\u001b[0m \u001b[0mlen\u001b[0m\u001b[1;33m(\u001b[0m\u001b[0muniques\u001b[0m\u001b[1;33m)\u001b[0m \u001b[1;33m>\u001b[0m \u001b[1;36m1\u001b[0m\u001b[1;33m:\u001b[0m\u001b[1;33m\u001b[0m\u001b[1;33m\u001b[0m\u001b[0m\n\u001b[1;32m--> 407\u001b[1;33m         raise ValueError(\n\u001b[0m\u001b[0;32m    408\u001b[0m             \u001b[1;34m\"Found input variables with inconsistent numbers of samples: %r\"\u001b[0m\u001b[1;33m\u001b[0m\u001b[1;33m\u001b[0m\u001b[0m\n\u001b[0;32m    409\u001b[0m             \u001b[1;33m%\u001b[0m \u001b[1;33m[\u001b[0m\u001b[0mint\u001b[0m\u001b[1;33m(\u001b[0m\u001b[0ml\u001b[0m\u001b[1;33m)\u001b[0m \u001b[1;32mfor\u001b[0m \u001b[0ml\u001b[0m \u001b[1;32min\u001b[0m \u001b[0mlengths\u001b[0m\u001b[1;33m]\u001b[0m\u001b[1;33m\u001b[0m\u001b[1;33m\u001b[0m\u001b[0m\n",
      "\u001b[1;31mValueError\u001b[0m: Found input variables with inconsistent numbers of samples: [213, 612]"
     ]
    }
   ],
   "source": [
    "# Evaluate the model on the test set\n",
    "accuracy = model.score(X_tfidf, y_test)\n",
    "\n",
    "print(f\"Accuracy on the test set: {accuracy:.2f}\")"
   ]
  },
  {
   "cell_type": "code",
   "execution_count": 14,
   "metadata": {},
   "outputs": [
    {
     "data": {
      "image/png": "[encoded data removed]",
      "text/plain": [
       "<Figure size 720x432 with 1 Axes>"
      ]
     },
     "metadata": {
      "needs_background": "light"
     },
     "output_type": "display_data"
    }
   ],
   "source": [
    "import matplotlib.pyplot as plt\n",
    "from sklearn.model_selection import learning_curve\n",
    "import numpy as np\n",
    "\n",
    "train_sizes, train_scores, val_scores = learning_curve(\n",
    "    MultinomialNB(), X_tfidf, df['Tag'], cv=5, scoring='accuracy', train_sizes=np.linspace(0.1, 1.0, 10)\n",
    ")\n",
    "\n",
    "plt.figure(figsize=(10, 6)) \n",
    "plt.plot(train_sizes, np.mean(train_scores, axis=1), label='Training score')\n",
    "plt.plot(train_sizes, np.mean(val_scores, axis=1), label='Validation score')\n",
    "plt.xlabel('Training examples')\n",
    "plt.ylabel('Score')\n",
    "plt.legend(loc='best')\n",
    "plt.show()\n"
   ]
  },
  {
   "cell_type": "markdown",
   "metadata": {},
   "source": [
    " model is likely experiencing overfitting. the high training score at the beginning indicates that  model is able to learn and memorize the patterns present in the training data. It suggests that the model is initially capable of fitting the training data well.The decreasing training score as more data is added may indicate that the model is becoming too complex and is fitting the noise in the data rather than the underlying patterns. The model is essentially memorizing the training set rather than learning to generalize.The plateau in the validation score indicates that, after a certain point, adding more data doesn't lead to a significant improvement in the model's ability to generalize to unseen data."
   ]
  },
  {
   "cell_type": "markdown",
   "metadata": {},
   "source": [
    "# Using cross validation for hyperparameter tuning"
   ]
  },
  {
   "cell_type": "code",
   "execution_count": null,
   "metadata": {},
   "outputs": [],
   "source": [
    "from sklearn.model_selection import GridSearchCV, cross_val_score\n",
    "\n",
    "from sklearn.metrics import make_scorer, accuracy_score, classification_report\n",
    "\n",
    "\n",
    "# Define the range of alpha values to search\n",
    "param_grid = {'alpha': [0.1, 1.0, 10.0]}\n",
    "\n",
    "# Create the model and perform Grid Search\n",
    "model = MultinomialNB()\n",
    "grid_search = GridSearchCV(model, param_grid, cv=7)\n",
    "grid_search.fit(X_train, y_train)\n",
    "\n",
    "\n",
    "# Print the best hyperparameters and the best score\n",
    "print(\"Best hyperparameters:\", grid_search.best_params_)\n",
    "print(\"Best score:\", grid_search.best_score_)"
   ]
  },
  {
   "cell_type": "code",
   "execution_count": null,
   "metadata": {},
   "outputs": [],
   "source": [
    "#  retrain\n",
    "# instantiate\n",
    "model = MultinomialNB(alpha=0.1)\n",
    "model.fit(X_train, y_train)\n",
    "\n",
    "\n",
    "#Model evaluation\n",
    "\n",
    "\n",
    "y_pred = model.predict(X_test)\n",
    "accuracy = accuracy_score(y_test, y_pred)\n",
    "print(f\"Accuracy: {accuracy:.2f}\")\n",
    "print(classification_report(y_test, y_pred,zero_division=1))\n"
   ]
  },
  {
   "cell_type": "code",
   "execution_count": null,
   "metadata": {},
   "outputs": [],
   "source": [
    "\n",
    "train_sizes, train_scores, val_scores = learning_curve(\n",
    "    MultinomialNB(alpha=0.1), X_tfidf, df['Tag'], cv=5, scoring='accuracy', train_sizes=np.linspace(0.1, 1.0, 10)\n",
    ")\n",
    "\n",
    "plt.figure(figsize=(10, 6)) \n",
    "plt.plot(train_sizes, np.mean(train_scores, axis=1), label='Training score')\n",
    "plt.plot(train_sizes, np.mean(val_scores, axis=1), label='Validation score')\n",
    "plt.xlabel('Training examples')\n",
    "plt.ylabel('Score')\n",
    "plt.legend(loc='best')\n",
    "plt.show()\n"
   ]
  },
  {
   "cell_type": "markdown",
   "metadata": {},
   "source": [
    "useful in many text analytics applications where sequences of words are relevant. you are essentially generating n-copies of everything.\n",
    "You could choose other smoothing techniques as well, but the important aspect is that Multinomial Naive Bayes treats each word of the document as a feature assuming the document is composed of unigrams whose probabilities are NOT dependent. "
   ]
  },
  {
   "cell_type": "code",
   "execution_count": null,
   "metadata": {},
   "outputs": [],
   "source": [
    "from sklearn.feature_extraction.text import CountVectorizer\n",
    "# Text Cleaning\n",
    "# Remove any unnecessary characters, symbols, or special characters.\n",
    "# Convert text to lowercase to ensure uniformity.\n",
    "df['Question'] = df['Question'].str.lower().replace('[^a-zA-Z0-9]', ' ', regex=True)\n",
    "\n",
    "# Tokenization\n",
    "# Split the text into individual words or tokens.\n",
    "df['Question'] = df['Question'].apply(word_tokenize)\n",
    "\n",
    "# N-gram Vectorization\n",
    "ngram_vectorizer = CountVectorizer(ngram_range=(1, 2))\n",
    "df['Question_ngrams'] = df['Question'].apply(lambda x: ' '.join(x))\n",
    "X_ngrams = ngram_vectorizer.fit_transform(df['Question_ngrams'])\n",
    "\n",
    "# Removing Stop Words\n",
    "stop_words = set(stopwords.words('english'))\n",
    "df['Question'] = df['Question'].apply(lambda x: [word for word in x if word not in stop_words])\n",
    "\n",
    "# Lemmatization\n",
    "# Reduce words to their root form to handle different variations.\n",
    "lemmatizer = WordNetLemmatizer()\n",
    "df['Question'] = df['Question'].apply(lambda x: [lemmatizer.lemmatize(word) for word in x])\n",
    "\n",
    "# Joining tokens\n",
    "# Combine the list of tokens back into a string\n",
    "df['Question'] = df['Question'].apply(lambda x: ' '.join(x))\n",
    "\n",
    "# Feature extraction\n",
    "# TF-IDF Vectorization\n",
    "tfidf_vectorizer = TfidfVectorizer()\n",
    "X_tfidf = tfidf_vectorizer.fit_transform(df['Question'])\n"
   ]
  },
  {
   "cell_type": "code",
   "execution_count": null,
   "metadata": {},
   "outputs": [],
   "source": [
    "# Concatenate X_ngrams and X_tfidf horizontally\n",
    "import scipy.sparse as sp\n",
    "X_combined = sp.hstack([X_ngrams, X_tfidf], format='csr')\n",
    "\n",
    "# Resample the combined data\n",
    "ros = RandomOverSampler(random_state=42)\n",
    "X_resampled, y_resampled = ros.fit_resample(X_combined, df['Tag'])\n",
    "\n",
    "# Split the resampled data\n",
    "X_train, X_test, y_train, y_test = train_test_split(X_resampled, y_resampled, test_size=0.2, random_state=42)\n",
    "\n",
    "# Instantiate the model\n",
    "model = MultinomialNB()\n",
    "\n",
    "# Fit the model on the training data\n",
    "model.fit(X_train, y_train)\n",
    "\n",
    "# Model evaluation\n",
    "y_pred = model.predict(X_test)\n",
    "accuracy = accuracy_score(y_test, y_pred)\n",
    "print(f\"Accuracy: {accuracy:.2f}\")\n",
    "print(classification_report(y_test, y_pred, zero_division=1))\n"
   ]
  },
  {
   "cell_type": "code",
   "execution_count": null,
   "metadata": {},
   "outputs": [],
   "source": [
    "\n",
    "# Plot learning curve\n",
    "train_sizes, train_scores, val_scores = learning_curve(\n",
    "    MultinomialNB(), X_resampled, y_resampled, cv=5, scoring='accuracy', train_sizes=np.linspace(0.1, 1.0, 10)\n",
    ")\n",
    "\n",
    "plt.figure(figsize=(10, 6)) \n",
    "plt.plot(train_sizes, np.mean(train_scores, axis=1), label='Training score')\n",
    "plt.plot(train_sizes, np.mean(val_scores, axis=1), label='Validation score')\n",
    "plt.xlabel('Training examples')\n",
    "plt.ylabel('Score')\n",
    "plt.legend(loc='best')\n",
    "plt.show()\n"
   ]
  },
  {
   "cell_type": "markdown",
   "metadata": {},
   "source": [
    "a type of ensemble learning in which multiple base models are trained independently in parallel on different subsets of the training data."
   ]
  },
  {
   "cell_type": "code",
   "execution_count": null,
   "metadata": {
    "scrolled": true
   },
   "outputs": [],
   "source": [
    "from sklearn.ensemble import BaggingClassifier\n",
    "\n",
    "model = BaggingClassifier(base_estimator=MultinomialNB(), n_estimators=10, random_state=42)\n",
    "model.fit(X_train, y_train)\n",
    "\n",
    "\n",
    "#Model evaluation\n",
    "\n",
    "\n",
    "y_pred = model.predict(X_test)\n",
    "accuracy = accuracy_score(y_test, y_pred)\n",
    "print(f\"Accuracy: {accuracy:.2f}\")\n",
    "print(classification_report(y_test, y_pred,zero_division=1))\n"
   ]
  },
  {
   "cell_type": "code",
   "execution_count": null,
   "metadata": {},
   "outputs": [],
   "source": [
    "\n",
    "# Plot Learning Curve\n",
    "train_sizes, train_scores, val_scores = learning_curve(\n",
    "    BaggingClassifier(estimator=MultinomialNB(), n_estimators=10, random_state=42),\n",
    "    X_resampled, y_resampled, cv=5, scoring='accuracy', train_sizes=np.linspace(0.1, 1.0, 10)\n",
    ")\n",
    "\n",
    "plt.figure(figsize=(10, 6)) \n",
    "plt.plot(train_sizes, np.mean(train_scores, axis=1), label='Training score')\n",
    "plt.plot(train_sizes, np.mean(val_scores, axis=1), label='Validation score')\n",
    "plt.xlabel('Training examples')\n",
    "plt.ylabel('Score')\n",
    "plt.legend(loc='best')\n",
    "plt.title('Learning Curve')\n",
    "plt.show()\n",
    "\n",
    "# Cross-validated accuracy\n",
    "cv_accuracy = cross_val_score(BaggingClassifier(estimator=MultinomialNB(), n_estimators=10, random_state=42),\n",
    "                              X_resampled, y_resampled, cv=5, scoring='accuracy')\n",
    "print(\"Cross-validated Accuracy:\", np.mean(cv_accuracy))\n"
   ]
  },
  {
   "cell_type": "markdown",
   "metadata": {},
   "source": [
    "# start here"
   ]
  },
  {
   "cell_type": "code",
   "execution_count": null,
   "metadata": {},
   "outputs": [],
   "source": [
    "import pandas as pd\n",
    "with open('../Final_Intents.json', 'r') as file:\n",
    "    intents = json.load(file)\n",
    "    \n",
    "intents_dict = {}\n",
    "\n",
    "questions = []\n",
    "tags = []\n",
    "for intent in intents:\n",
    "    for question in intent[\"questions\"]:\n",
    "        tags.append(intent[\"tag\"])\n",
    "        questions.append(question)\n",
    "\n",
    "intents_dict[\"questions\"] = questions\n",
    "intents_dict[\"tags\"] = tags\n",
    "\n",
    "\n",
    "df =  pd.DataFrame(intents_dict, columns=[\"questions\", \"tags\"])\n",
    "df"
   ]
  },
  {
   "cell_type": "code",
   "execution_count": null,
   "metadata": {},
   "outputs": [],
   "source": [
    "df['tags'].value_counts()"
   ]
  },
  {
   "cell_type": "code",
   "execution_count": null,
   "metadata": {},
   "outputs": [],
   "source": [
    "# Split the data into training and testing sets\n",
    "train_df, test_df = train_test_split(df, test_size=0.2, random_state=42)\n"
   ]
  },
  {
   "cell_type": "code",
   "execution_count": null,
   "metadata": {},
   "outputs": [],
   "source": [
    "# Text Preprocessing Loop\n",
    "text_column = ['questions']  \n",
    "\n",
    "for col in text_column:\n",
    "    # Text Cleaning\n",
    "    df[col] = df[col].str.lower().replace('[^a-zA-Z0-9]', ' ', regex=True)\n",
    "\n",
    "    # Tokenization\n",
    "    df[col] = df[col].apply(word_tokenize)\n",
    "\n",
    "    # Removing Stop Words\n",
    "    stop_words = set(stopwords.words('english'))\n",
    "    df[col] = df[col].apply(lambda x: [word for word in x if word not in stop_words])\n",
    "\n",
    "    # Lemmatization\n",
    "    lemmatizer = WordNetLemmatizer()\n",
    "    df[col] = df[col].apply(lambda x: [lemmatizer.lemmatize(word) for word in x])\n",
    "\n",
    "    #Joining tokens\n",
    "    # Combine the list of tokens back into a string \n",
    "#     df[col] = df[col].apply(lambda x: ' '.join(x))"
   ]
  },
  {
   "cell_type": "code",
   "execution_count": null,
   "metadata": {},
   "outputs": [],
   "source": [
    "df"
   ]
  },
  {
   "cell_type": "code",
   "execution_count": null,
   "metadata": {},
   "outputs": [],
   "source": []
  }
 ],
 "metadata": {
  "kernelspec": {
   "display_name": "Python (learn-env)",
   "language": "python",
   "name": "learn-env"
  },
  "language_info": {
   "codemirror_mode": {
    "name": "ipython",
    "version": 3
   },
   "file_extension": ".py",
   "mimetype": "text/x-python",
   "name": "python",
   "nbconvert_exporter": "python",
   "pygments_lexer": "ipython3",
   "version": "3.8.5"
  }
 },
 "nbformat": 4,
 "nbformat_minor": 4
}
