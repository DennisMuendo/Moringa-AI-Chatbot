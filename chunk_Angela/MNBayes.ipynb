{
 "cells": [
  {
   "cell_type": "markdown",
   "metadata": {},
   "source": [
    "# Model - Multinomial Naive Bayes"
   ]
  },
  {
   "cell_type": "markdown",
   "metadata": {},
   "source": [
    "We have chosen to use Multinomial Naive Bayes because of its simplicity and because it has been known to perform well with text data with high dimensionality. Multinomial Naive Bayes algorithm attempts to classify text into categories (intents) so that the chatbot can identify the intent of the user and narrow down to the most possible range of responses.The algorithm does this by relying on commonality; words are given weight for particular categories based on their frequency of appearance in that category."
   ]
  },
  {
   "cell_type": "code",
   "execution_count": 1,
   "metadata": {},
   "outputs": [
    {
     "name": "stderr",
     "output_type": "stream",
     "text": [
      "[nltk_data] Downloading package wordnet to\n",
      "[nltk_data]     C:\\Users\\user\\AppData\\Roaming\\nltk_data...\n",
      "[nltk_data]   Package wordnet is already up-to-date!\n",
      "[nltk_data] Downloading package punkt to\n",
      "[nltk_data]     C:\\Users\\user\\AppData\\Roaming\\nltk_data...\n",
      "[nltk_data]   Package punkt is already up-to-date!\n"
     ]
    }
   ],
   "source": [
    "import json\n",
    "import pandas as pd\n",
    "import numpy as np \n",
    "\n",
    "from tensorflow.keras.preprocessing.text import Tokenizer\n",
    "import nltk\n",
    "from nltk.tokenize import word_tokenize\n",
    "from nltk.corpus import stopwords\n",
    "nltk.download('wordnet')\n",
    "nltk.download('punkt')\n",
    "from nltk.stem import WordNetLemmatizer\n",
    "from sklearn.feature_extraction.text import TfidfVectorizer\n",
    "\n",
    "from sklearn.preprocessing import OneHotEncoder\n",
    "\n",
    "from imblearn.over_sampling import RandomOverSampler\n",
    "from sklearn.model_selection import train_test_split\n",
    "\n",
    "\n",
    "from sklearn.naive_bayes import MultinomialNB\n",
    "from sklearn.metrics import accuracy_score, classification_report\n",
    "\n",
    "import matplotlib.pyplot as plt\n",
    "\n"
   ]
  },
  {
   "cell_type": "code",
   "execution_count": 2,
   "metadata": {},
   "outputs": [
    {
     "data": {
      "text/html": [
       "<div>\n",
       "<style scoped>\n",
       "    .dataframe tbody tr th:only-of-type {\n",
       "        vertical-align: middle;\n",
       "    }\n",
       "\n",
       "    .dataframe tbody tr th {\n",
       "        vertical-align: top;\n",
       "    }\n",
       "\n",
       "    .dataframe thead th {\n",
       "        text-align: right;\n",
       "    }\n",
       "</style>\n",
       "<table border=\"1\" class=\"dataframe\">\n",
       "  <thead>\n",
       "    <tr style=\"text-align: right;\">\n",
       "      <th></th>\n",
       "      <th>QnA</th>\n",
       "      <th>tags</th>\n",
       "    </tr>\n",
       "  </thead>\n",
       "  <tbody>\n",
       "    <tr>\n",
       "      <th>0</th>\n",
       "      <td>UX Design part-time classes are scheduled from...</td>\n",
       "      <td>Product_Design_UI/UX_Career_Opportunities</td>\n",
       "    </tr>\n",
       "    <tr>\n",
       "      <th>1</th>\n",
       "      <td>Learning both front-end and back-end technolog...</td>\n",
       "      <td>Software_Engineering_Course_Content</td>\n",
       "    </tr>\n",
       "    <tr>\n",
       "      <th>2</th>\n",
       "      <td>Is there a waiting list for courses that are f...</td>\n",
       "      <td>enrollment</td>\n",
       "    </tr>\n",
       "    <tr>\n",
       "      <th>3</th>\n",
       "      <td>Do these projects simulate real-world data sci...</td>\n",
       "      <td>Data_Science_Project_and_Hands-on_Experience</td>\n",
       "    </tr>\n",
       "    <tr>\n",
       "      <th>4</th>\n",
       "      <td>Can I apply if I don’t have a background in da...</td>\n",
       "      <td>Data_Science_Application_Process</td>\n",
       "    </tr>\n",
       "    <tr>\n",
       "      <th>...</th>\n",
       "      <td>...</td>\n",
       "      <td>...</td>\n",
       "    </tr>\n",
       "    <tr>\n",
       "      <th>1291</th>\n",
       "      <td>Some projects offer opportunities for collabor...</td>\n",
       "      <td>Data_Science_Project_and_Hands-on_Experience</td>\n",
       "    </tr>\n",
       "    <tr>\n",
       "      <th>1292</th>\n",
       "      <td>How does the course encourage interaction with...</td>\n",
       "      <td>Data_Science_Networking_and_Collaboration_Oppo...</td>\n",
       "    </tr>\n",
       "    <tr>\n",
       "      <th>1293</th>\n",
       "      <td>Online learning is designed to be as interacti...</td>\n",
       "      <td>Data_Science_Online_and_Offline_Learning_Modes</td>\n",
       "    </tr>\n",
       "    <tr>\n",
       "      <th>1294</th>\n",
       "      <td>What documents do I need to submit for enrollm...</td>\n",
       "      <td>enrollment_deadline</td>\n",
       "    </tr>\n",
       "    <tr>\n",
       "      <th>1295</th>\n",
       "      <td>Can I switch between online and offline modes ...</td>\n",
       "      <td>Data_Science_Online_and_Offline_Learning_Modes</td>\n",
       "    </tr>\n",
       "  </tbody>\n",
       "</table>\n",
       "<p>1296 rows × 2 columns</p>\n",
       "</div>"
      ],
      "text/plain": [
       "                                                    QnA  \\\n",
       "0     UX Design part-time classes are scheduled from...   \n",
       "1     Learning both front-end and back-end technolog...   \n",
       "2     Is there a waiting list for courses that are f...   \n",
       "3     Do these projects simulate real-world data sci...   \n",
       "4     Can I apply if I don’t have a background in da...   \n",
       "...                                                 ...   \n",
       "1291  Some projects offer opportunities for collabor...   \n",
       "1292  How does the course encourage interaction with...   \n",
       "1293  Online learning is designed to be as interacti...   \n",
       "1294  What documents do I need to submit for enrollm...   \n",
       "1295  Can I switch between online and offline modes ...   \n",
       "\n",
       "                                                   tags  \n",
       "0             Product_Design_UI/UX_Career_Opportunities  \n",
       "1                   Software_Engineering_Course_Content  \n",
       "2                                            enrollment  \n",
       "3          Data_Science_Project_and_Hands-on_Experience  \n",
       "4                      Data_Science_Application_Process  \n",
       "...                                                 ...  \n",
       "1291       Data_Science_Project_and_Hands-on_Experience  \n",
       "1292  Data_Science_Networking_and_Collaboration_Oppo...  \n",
       "1293     Data_Science_Online_and_Offline_Learning_Modes  \n",
       "1294                                enrollment_deadline  \n",
       "1295     Data_Science_Online_and_Offline_Learning_Modes  \n",
       "\n",
       "[1296 rows x 2 columns]"
      ]
     },
     "execution_count": 2,
     "metadata": {},
     "output_type": "execute_result"
    }
   ],
   "source": [
    "with open('../Final_Intents.json', 'r') as file:\n",
    "    intents = json.load(file)\n",
    "\n",
    "# formatting json to ensure keys read responses only\n",
    "for entry in intents:\n",
    "    if \"answers\" in entry:\n",
    "        entry[\"responses\"] = entry.pop(\"answers\")\n",
    "\n",
    "intents_dict={}\n",
    "\n",
    "QnA = []\n",
    "tags = []\n",
    "\n",
    "for intent in intents:\n",
    "    for question in intent[\"questions\"]:\n",
    "        tags.append(intent[\"tag\"])\n",
    "        QnA.append(question)\n",
    "    for res in intent[\"responses\"]:\n",
    "        tags.append(intent[\"tag\"])\n",
    "        QnA.append(res)\n",
    "\n",
    "intents_dict[\"QnA\"] = QnA\n",
    "intents_dict[\"tags\"] = tags\n",
    "\n",
    "\n",
    "df =  pd.DataFrame(intents_dict, columns=[\"QnA\", \"tags\"])\n",
    "\n",
    "# set seed to ensure reproducibility when shuffling\n",
    "np.random.seed(42)\n",
    "# shuffle to reduce bias and imrpove generalization\n",
    "df = df.sample(frac=1).reset_index(drop=True)\n",
    "\n",
    "df"
   ]
  },
  {
   "cell_type": "code",
   "execution_count": 3,
   "metadata": {},
   "outputs": [
    {
     "data": {
      "text/plain": [
       "Data_Science_Career_Opportunities                 29\n",
       "DevOps_Course_Information                         25\n",
       "Data_Science_Project_and_Hands-on_Experience      24\n",
       "Data_Science_Curriculum_Outline                   24\n",
       "Data_Science_Course_Overview                      24\n",
       "                                                  ..\n",
       "Data_Science_Cybersecurity_Introduction           10\n",
       "Data_Science_Online_and_Offline_Learning_Modes    10\n",
       "Data_Science_Industry_Relevance                   10\n",
       "Data_Science_Competitions_and_Challenges          10\n",
       "Data_Ethics_and_Privacy                           10\n",
       "Name: tags, Length: 75, dtype: int64"
      ]
     },
     "execution_count": 3,
     "metadata": {},
     "output_type": "execute_result"
    }
   ],
   "source": [
    "df['tags'].value_counts()"
   ]
  },
  {
   "cell_type": "markdown",
   "metadata": {},
   "source": [
    "This shows a class imbalance because some \"tags\" appear more frequently than others. This imbalance will affect the performance of our algorithm;it may struggle to properly learn and make accurate predictions for the minority class, leading to biased results."
   ]
  },
  {
   "cell_type": "code",
   "execution_count": 4,
   "metadata": {},
   "outputs": [],
   "source": [
    "# Text Preprocessing\n",
    "# Text Cleaning\n",
    "df['QnA'] = df['QnA'].str.lower().replace('[^a-zA-Z0-9]', ' ', regex=True)\n",
    "# Tokenization\n",
    "df['QnA'] = df['QnA'].apply(word_tokenize)\n",
    "# Removing Stop Words\n",
    "stop_words = set(stopwords.words('english'))\n",
    "df['QnA'] =df['QnA'].apply(lambda x: [word for word in x if word not in stop_words])\n",
    "# Lemmatization\n",
    "lemmatizer = WordNetLemmatizer()\n",
    "df['QnA']= df['QnA'].apply(lambda x: [lemmatizer.lemmatize(word) for word in x])\n",
    "# Joining tokens\n",
    "# Combine the list of tokens back into a string \n",
    "df['QnA'] = df['QnA'].apply(lambda x: ' '.join(x))\n",
    "\n"
   ]
  },
  {
   "cell_type": "code",
   "execution_count": 5,
   "metadata": {},
   "outputs": [],
   "source": [
    "# Split the data into training and testing sets\n",
    "X_train, X_test, y_train, y_test = train_test_split(df['QnA'], df['tags'], test_size=0.2, random_state=42)"
   ]
  },
  {
   "cell_type": "code",
   "execution_count": 6,
   "metadata": {},
   "outputs": [],
   "source": [
    "#  TF-IDF Vectorization\n",
    "tfidf_vectorizer = TfidfVectorizer()\n",
    "X_train_tfidf = tfidf_vectorizer.fit_transform(X_train)\n",
    "X_test_tfidf = tfidf_vectorizer.transform(X_test)\n"
   ]
  },
  {
   "cell_type": "code",
   "execution_count": 7,
   "metadata": {},
   "outputs": [],
   "source": [
    "# Oversample the training data\n",
    "ros = RandomOverSampler(random_state=42)\n",
    "X_resampled, y_resampled = ros.fit_resample(X_train_tfidf, y_train)\n"
   ]
  },
  {
   "cell_type": "code",
   "execution_count": 8,
   "metadata": {},
   "outputs": [],
   "source": [
    "# One-hot encode the oversampled target variable\n",
    "ohe = OneHotEncoder()\n",
    "y_resampled_encoded = ohe.fit_transform(pd.DataFrame(y_resampled).values.reshape(-1, 1))\n"
   ]
  },
  {
   "cell_type": "code",
   "execution_count": 9,
   "metadata": {},
   "outputs": [
    {
     "name": "stdout",
     "output_type": "stream",
     "text": [
      "Accuracy: 0.58\n",
      "                                                         precision    recall  f1-score   support\n",
      "\n",
      "                           Advanced_Data_Science_Topics       1.00      0.67      0.80         3\n",
      "                                                Contact       1.00      1.00      1.00         3\n",
      "                     Cybersecurity_Career_Opportunities       1.00      0.17      0.29         6\n",
      "                           Cybersecurity_Certifications       0.60      1.00      0.75         3\n",
      "                       Cybersecurity_Course_Information       0.75      1.00      0.86         3\n",
      "                                Data_Ethics_and_Privacy       0.67      1.00      0.80         2\n",
      "            Data_Science_Admission_Eligibility_Criteria       0.25      1.00      0.40         2\n",
      "                       Data_Science_Application_Process       0.33      0.50      0.40         2\n",
      "                  Data_Science_Applications_in_Business       0.67      0.50      0.57         4\n",
      "                                    Data_Science_Career       0.00      0.00      1.00         2\n",
      "                      Data_Science_Career_Opportunities       0.33      0.20      0.25         5\n",
      "                 Data_Science_Career_Transition_Support       0.50      1.00      0.67         1\n",
      "           Data_Science_Certification_and_Accreditation       1.00      0.00      0.00         2\n",
      "       Data_Science_Collaborative_Projects_and_Teamwork       1.00      0.00      0.00         2\n",
      "                  Data_Science_Course_Duration_and_Fees       0.50      1.00      0.67         2\n",
      "                           Data_Science_Course_Overview       0.33      0.33      0.33         3\n",
      "             Data_Science_Course_Pacing_and_Flexibility       0.00      1.00      0.00         0\n",
      "             Data_Science_Course_Schedule_and_Structure       1.00      0.40      0.57         5\n",
      "                                   Data_Science_Courses       0.33      0.25      0.29         8\n",
      "                        Data_Science_Curriculum_Outline       0.25      1.00      0.40         1\n",
      "                Data_Science_Cybersecurity_Introduction       0.33      0.50      0.40         2\n",
      "                        Data_Science_Industry_Relevance       0.00      0.00      1.00         3\n",
      "Data_Science_Networking_and_Collaboration_Opportunities       0.33      0.67      0.44         3\n",
      "         Data_Science_Online_and_Offline_Learning_Modes       0.50      1.00      0.67         1\n",
      "                     Data_Science_Pre-Work_Requirements       1.00      1.00      1.00         3\n",
      "           Data_Science_Project_and_Hands-on_Experience       0.29      0.33      0.31         6\n",
      "                         Data_Science_Skill_Development       0.20      1.00      0.33         1\n",
      "         Data_Science_Software_Engineering_Fundamentals       0.50      1.00      0.67         1\n",
      "                   Data_Science_Statistics_and_Analysis       1.00      0.00      0.00         1\n",
      "                  Data_Science_Student_Support_Services       0.33      0.50      0.40         2\n",
      "                             DevOps_Admissions_and_Fees       0.50      0.75      0.60         4\n",
      "                            DevOps_Career_Opportunities       0.67      0.67      0.67         3\n",
      "                              DevOps_Course_Information       1.00      0.33      0.50         6\n",
      "                                   Enrollment_Deadlines       0.00      0.00      1.00         3\n",
      "                                 Enrollment_Information       0.67      1.00      0.80         2\n",
      "                 Ethical_Considerations_in_Data_Science       0.67      1.00      0.80         2\n",
      "                                                  Event       1.00      1.00      1.00         2\n",
      "                                          Financial Aid       0.75      0.50      0.60         6\n",
      "                        Full_Stack_Software_Engineering       0.00      0.00      1.00         6\n",
      "                    Instructor_Expertise_and_Background       0.00      0.00      1.00         2\n",
      "                      International_Student_Information       1.00      0.50      0.67         4\n",
      "                                     Mobile Development       1.00      0.67      0.80         3\n",
      "                              Mobile_Development_Career       1.00      0.00      0.00         1\n",
      "                             Mobile_Development_Courses       0.83      1.00      0.91         5\n",
      "                                 Moringa_School_Courses       0.67      0.67      0.67         6\n",
      "                            Moringa_School_Testimonials       1.00      0.50      0.67         2\n",
      "                 Mpesa_Mini_Apps_API_Course_Information       0.40      0.50      0.44         4\n",
      "                               Part-time_Course_Content       0.38      0.75      0.50         4\n",
      "                         Part-time_Software Engineering       0.50      0.50      0.50         4\n",
      "                                            Partnership       1.00      1.00      1.00         4\n",
      "              Product_Design_UI/UX_Career_Opportunities       0.70      1.00      0.82         7\n",
      "                Product_Design_UI/UX_Course_Information       1.00      0.17      0.29         6\n",
      "                    Software_Engineering_Course_Content       0.00      0.00      1.00         4\n",
      "                      Software_Engineering_Mobile_Track       1.00      1.00      1.00         2\n",
      "                         Student_Life_and_Break_Periods       0.00      0.00      1.00         1\n",
      "                                         ai_integration       0.83      1.00      0.91         5\n",
      "                                       aws_cloud_course       0.75      0.60      0.67         5\n",
      "                                 aws_cloud_practitioner       0.75      0.67      0.71         9\n",
      "                                        career_services       0.50      1.00      0.67         1\n",
      "                                        cloud_computing       0.60      1.00      0.75         3\n",
      "                                   cloud_developer_role       1.00      1.00      1.00         7\n",
      "               course_details_Front-End_web_development       0.80      0.67      0.73         6\n",
      "                                      detailed_schedule       0.50      0.67      0.57         3\n",
      "                                             enrollment       0.50      0.33      0.40         6\n",
      "                                    enrollment_deadline       0.33      0.25      0.29         4\n",
      "                                 enrollment_information       0.00      0.00      1.00         1\n",
      "                                      hr_data_analytics       1.00      1.00      1.00         4\n",
      "                                      interview_process       1.00      1.00      1.00         8\n",
      "                                     learning_resources       0.67      1.00      0.80         4\n",
      "                                        online_learning       1.00      0.00      0.00         4\n",
      "                               professional_advancement       0.67      0.50      0.57         4\n",
      "                                      student_community       0.71      1.00      0.83         5\n",
      "                                    tech_based_learning       0.40      0.33      0.36         6\n",
      "\n",
      "                                               accuracy                           0.58       260\n",
      "                                              macro avg       0.60      0.60      0.63       260\n",
      "                                           weighted avg       0.65      0.58      0.64       260\n",
      "\n"
     ]
    }
   ],
   "source": [
    "# instantiate\n",
    "model = MultinomialNB(alpha=0.1)\n",
    "model.fit(X_resampled, y_resampled)\n",
    "\n",
    "\n",
    "#Model evaluation\n",
    "y_pred = model.predict(X_test_tfidf)\n",
    "\n",
    "accuracy = accuracy_score(y_test, y_pred)\n",
    "print(f\"Accuracy: {accuracy:.2f}\")\n",
    "print(classification_report(y_test, y_pred,zero_division=1))\n",
    "\n"
   ]
  },
  {
   "cell_type": "code",
   "execution_count": 10,
   "metadata": {},
   "outputs": [
    {
     "name": "stdout",
     "output_type": "stream",
     "text": [
      "Accuracy on the test set: 0.58\n"
     ]
    }
   ],
   "source": [
    "# Evaluate the model on the test set\n",
    "accuracy = model.score(X_test_tfidf, y_test)\n",
    "\n",
    "print(f\"Accuracy on the test set: {accuracy:.2f}\")"
   ]
  },
  {
   "cell_type": "code",
   "execution_count": 11,
   "metadata": {},
   "outputs": [
    {
     "data": {
      "image/png": "[encoded data removed]",
      "text/plain": [
       "<Figure size 720x432 with 1 Axes>"
      ]
     },
     "metadata": {
      "needs_background": "light"
     },
     "output_type": "display_data"
    }
   ],
   "source": [
    "import matplotlib.pyplot as plt\n",
    "from sklearn.model_selection import learning_curve\n",
    "from sklearn.naive_bayes import MultinomialNB\n",
    "import numpy as np\n",
    "\n",
    "# Assuming you have X_train_tfidf and y_train in your training set\n",
    "train_sizes, train_scores, val_scores = learning_curve(\n",
    "    MultinomialNB(), X_train_tfidf, y_train, cv=5, scoring='accuracy', train_sizes=np.linspace(0.1, 1.0, 10)\n",
    ")\n",
    "\n",
    "plt.figure(figsize=(10, 6)) \n",
    "plt.plot(train_sizes, np.mean(train_scores, axis=1), label='Training score')\n",
    "plt.plot(train_sizes, np.mean(val_scores, axis=1), label='Validation score')\n",
    "plt.xlabel('Training examples')\n",
    "plt.ylabel('Score')\n",
    "plt.legend(loc='best')\n",
    "plt.show()\n"
   ]
  },
  {
   "cell_type": "markdown",
   "metadata": {},
   "source": [
    "The training score intially drops, but then rises then plateaus. This shows that the model is learning more complex patterns in the training data. The testing score increases then plateaus, showing that the  model is generalizing better to the testing set as training progresses. However, there is a large gap between the two scores, indicating that the model is facing limitations.\n",
    "\n"
   ]
  },
  {
   "cell_type": "code",
   "execution_count": null,
   "metadata": {},
   "outputs": [],
   "source": []
  },
  {
   "cell_type": "code",
   "execution_count": null,
   "metadata": {},
   "outputs": [],
   "source": [
    "# Text Preprocessing\n",
    "\n",
    "# Text Cleaning\n",
    "df['questions'] = df['questions'].str.lower().replace('[^a-zA-Z0-9]', ' ', regex=True)\n",
    "\n",
    "# Tokenization\n",
    "df['questions'] = df['questions'].apply(word_tokenize)\n",
    "\n",
    "# Removing Stop Words\n",
    "stop_words = set(stopwords.words('english'))\n",
    "df['questions'] = df['questions'].apply(lambda x: [word for word in x if word not in stop_words])\n",
    "\n",
    "# Lemmatization\n",
    "lemmatizer = WordNetLemmatizer()\n",
    "df['questions'] = df['questions'].apply(lambda x: [lemmatizer.lemmatize(word) for word in x])\n",
    "\n",
    "\n",
    "#Joining tokens\n",
    "# Combine the list of tokens back into a string \n",
    "df['questions'] = df['questions'].apply(lambda x: ' '.join(x))\n",
    "\n",
    "\n",
    "# ### Feature extraction\n",
    "# TF-IDF Vectorization\n",
    "tfidf_vectorizer = TfidfVectorizer()\n",
    "X_tfidf = tfidf_vectorizer.fit_transform(df['questions'])\n",
    "X_tfidf\n",
    "\n",
    "from imblearn.over_sampling import RandomOverSampler\n",
    "\n",
    "\n",
    "ros = RandomOverSampler(random_state=42)\n",
    "X_resampled, y_resampled = ros.fit_resample(X_tfidf, df['tags'])\n",
    "\n",
    "\n",
    "# Split the resampled data\n",
    "X_train, X_test, y_train, y_test = train_test_split(X_resampled,y_resampled, test_size=0.2, \n",
    "                                                    random_state=42)\n",
    "\n",
    "\n",
    "\n",
    "# instantiate\n",
    "model = MultinomialNB(alpha=0.1)\n",
    "model.fit(X_train, y_train)\n",
    "\n",
    "\n",
    "#Model evaluation\n",
    "\n",
    "\n",
    "y_pred = model.predict(X_test)\n",
    "accuracy = accuracy_score(y_test, y_pred)\n",
    "print(f\"Accuracy: {accuracy:.2f}\")\n",
    "print(classification_report(y_test, y_pred,zero_division=1))"
   ]
  },
  {
   "cell_type": "code",
   "execution_count": null,
   "metadata": {},
   "outputs": [],
   "source": [
    "import pandas as pd\n",
    "with open('../Final_Intents.json', 'r') as file:\n",
    "    intents = json.load(file)\n",
    "    \n",
    "intents_dict = {}\n",
    "\n",
    "questions = []\n",
    "tags = []\n",
    "for intent in intents:\n",
    "    for question in intent[\"questions\"]:\n",
    "        tags.append(intent[\"tag\"])\n",
    "        questions.append(question)\n",
    "\n",
    "intents_dict[\"questions\"] = questions\n",
    "intents_dict[\"tags\"] = tags\n",
    "\n",
    "\n",
    "df =  pd.DataFrame(intents_dict, columns=[\"questions\", \"tags\"])\n",
    "\n",
    "# set seed to ensure reproducibility when shuffling\n",
    "np.random.seed(42)\n",
    "# shuffle to reduce bias and imrpove generalization\n",
    "df = df.sample(frac=1).reset_index(drop=True)\n",
    "df"
   ]
  },
  {
   "cell_type": "code",
   "execution_count": null,
   "metadata": {},
   "outputs": [],
   "source": [
    "# Text Preprocessing\n",
    "\n",
    "# Text Cleaning\n",
    "df['questions'] = df['questions'].str.lower().replace('[^a-zA-Z0-9]', ' ', regex=True)\n",
    "\n",
    "# Tokenization\n",
    "df['questions'] = df['questions'].apply(word_tokenize)\n",
    "\n",
    "# Removing Stop Words\n",
    "stop_words = set(stopwords.words('english'))\n",
    "df['questions'] = df['questions'].apply(lambda x: [word for word in x if word not in stop_words])\n",
    "\n",
    "# Lemmatization\n",
    "lemmatizer = WordNetLemmatizer()\n",
    "df['questions'] = df['questions'].apply(lambda x: [lemmatizer.lemmatize(word) for word in x])\n",
    "\n",
    "\n",
    "#Joining tokens\n",
    "# Combine the list of tokens back into a string \n",
    "df['questions'] = df['questions'].apply(lambda x: ' '.join(x))\n",
    "\n"
   ]
  },
  {
   "cell_type": "code",
   "execution_count": null,
   "metadata": {},
   "outputs": [],
   "source": [
    "# ### Feature extraction\n",
    "# TF-IDF Vectorization\n",
    "tfidf_vectorizer = TfidfVectorizer()\n",
    "X_tfidf = tfidf_vectorizer.fit_transform(df['questions'])\n",
    "X_tfidf"
   ]
  },
  {
   "cell_type": "code",
   "execution_count": null,
   "metadata": {},
   "outputs": [],
   "source": [
    "from imblearn.over_sampling import RandomOverSampler\n",
    "\n",
    "\n",
    "ros = RandomOverSampler(random_state=42)\n",
    "X_resampled, y_resampled = ros.fit_resample(X_tfidf, df['tags'])\n",
    "\n",
    "\n",
    "# Split the resampled data\n",
    "X_train, X_test, y_train, y_test = train_test_split(X_resampled,y_resampled, test_size=0.2, \n",
    "                                                    random_state=42)\n",
    "\n",
    "\n",
    "\n",
    "# instantiate\n",
    "model = MultinomialNB()\n",
    "model.fit(X_train, y_train)\n",
    "\n",
    "\n",
    "#Model evaluation\n",
    "\n",
    "\n",
    "y_pred = model.predict(X_test)\n",
    "accuracy = accuracy_score(y_test, y_pred)\n",
    "print(f\"Accuracy: {accuracy:.2f}\")\n",
    "print(classification_report(y_test, y_pred,zero_division=1))"
   ]
  },
  {
   "cell_type": "code",
   "execution_count": null,
   "metadata": {},
   "outputs": [],
   "source": [
    "import matplotlib.pyplot as plt\n",
    "from sklearn.model_selection import learning_curve\n",
    "from sklearn.naive_bayes import MultinomialNB\n",
    "import numpy as np\n",
    "\n",
    "# Assuming you have X_train_tfidf and y_train in your training set\n",
    "train_sizes, train_scores, val_scores = learning_curve(\n",
    "    MultinomialNB(), X_train_tfidf, y_train, cv=5, scoring='accuracy', train_sizes=np.linspace(0.1, 1.0, 10)\n",
    ")\n",
    "\n",
    "plt.figure(figsize=(10, 6)) \n",
    "plt.plot(train_sizes, np.mean(train_scores, axis=1), label='Training score')\n",
    "plt.plot(train_sizes, np.mean(val_scores, axis=1), label='Validation score')\n",
    "plt.xlabel('Training examples')\n",
    "plt.ylabel('Score')\n",
    "plt.legend(loc='best')\n",
    "plt.show()\n"
   ]
  },
  {
   "cell_type": "code",
   "execution_count": null,
   "metadata": {},
   "outputs": [],
   "source": []
  }
 ],
 "metadata": {
  "kernelspec": {
   "display_name": "Python (learn-env)",
   "language": "python",
   "name": "learn-env"
  },
  "language_info": {
   "codemirror_mode": {
    "name": "ipython",
    "version": 3
   },
   "file_extension": ".py",
   "mimetype": "text/x-python",
   "name": "python",
   "nbconvert_exporter": "python",
   "pygments_lexer": "ipython3",
   "version": "3.8.5"
  }
 },
 "nbformat": 4,
 "nbformat_minor": 4
}
