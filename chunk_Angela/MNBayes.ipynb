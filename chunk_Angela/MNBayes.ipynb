{
 "cells": [
  {
   "cell_type": "markdown",
   "metadata": {},
   "source": [
    "# Model 1 - Multinomial Naive Bayes"
   ]
  },
  {
   "cell_type": "markdown",
   "metadata": {},
   "source": [
    "We have chosen to use Multinomial Naive Bayes because of its simplicity and because it has been known to perform well with text data with high dimensionality. Multinomial Naive Bayes algorithm attempts to classify text into categories (intents) so that the chatbot can identify the intent of the user and narrow down to the most possible range of responses.The algorithm does this by relying on commonality; words are given weight for particular categories based on their frequency of appearance in that category."
   ]
  },
  {
   "cell_type": "code",
   "execution_count": 16,
   "metadata": {},
   "outputs": [],
   "source": [
    "# Data manipulation and analysis\n",
    "import json\n",
    "import pandas as pd\n",
    "import numpy as np\n",
    "\n",
    "# Natural Language Processing\n",
    "from tensorflow.keras.preprocessing.text import Tokenizer\n",
    "from nltk.tokenize import word_tokenize\n",
    "from nltk.corpus import stopwords\n",
    "from nltk.stem import WordNetLemmatizer\n",
    "from sklearn.feature_extraction.text import TfidfVectorizer\n",
    "from sklearn.model_selection import cross_val_score, StratifiedKFold\n",
    "\n",
    "# Data preprocessing and encoding\n",
    "from sklearn.preprocessing import OneHotEncoder\n",
    "\n",
    "# Data balancing and splitting\n",
    "from imblearn.over_sampling import RandomOverSampler\n",
    "from sklearn.model_selection import train_test_split\n",
    "from sklearn.ensemble import BaggingClassifier\n",
    "\n",
    "# Machine Learning Models\n",
    "from sklearn.naive_bayes import MultinomialNB\n",
    "\n",
    "# Evaluation metrics\n",
    "from sklearn.metrics import accuracy_score, classification_report\n",
    "\n",
    "# Data Visualization\n",
    "import matplotlib.pyplot as plt\n",
    "\n",
    "# Learning Curve\n",
    "from sklearn.model_selection import learning_curve\n"
   ]
  },
  {
   "cell_type": "code",
   "execution_count": 3,
   "metadata": {},
   "outputs": [
    {
     "data": {
      "text/html": [
       "<div>\n",
       "<style scoped>\n",
       "    .dataframe tbody tr th:only-of-type {\n",
       "        vertical-align: middle;\n",
       "    }\n",
       "\n",
       "    .dataframe tbody tr th {\n",
       "        vertical-align: top;\n",
       "    }\n",
       "\n",
       "    .dataframe thead th {\n",
       "        text-align: right;\n",
       "    }\n",
       "</style>\n",
       "<table border=\"1\" class=\"dataframe\">\n",
       "  <thead>\n",
       "    <tr style=\"text-align: right;\">\n",
       "      <th></th>\n",
       "      <th>QnA</th>\n",
       "      <th>tags</th>\n",
       "    </tr>\n",
       "  </thead>\n",
       "  <tbody>\n",
       "    <tr>\n",
       "      <th>0</th>\n",
       "      <td>Is the data science course full-time or part-t...</td>\n",
       "      <td>Data Science</td>\n",
       "    </tr>\n",
       "    <tr>\n",
       "      <th>1</th>\n",
       "      <td>Coding assignments in the part-time course ran...</td>\n",
       "      <td>Software Engineering</td>\n",
       "    </tr>\n",
       "    <tr>\n",
       "      <th>2</th>\n",
       "      <td>Does Moringa School provide support for career...</td>\n",
       "      <td>Data Science</td>\n",
       "    </tr>\n",
       "    <tr>\n",
       "      <th>3</th>\n",
       "      <td>Are there any hands-on learning opportunities ...</td>\n",
       "      <td>Data Science</td>\n",
       "    </tr>\n",
       "    <tr>\n",
       "      <th>4</th>\n",
       "      <td>The course comprises five phases, with Phases ...</td>\n",
       "      <td>UI/UX</td>\n",
       "    </tr>\n",
       "    <tr>\n",
       "      <th>...</th>\n",
       "      <td>...</td>\n",
       "      <td>...</td>\n",
       "    </tr>\n",
       "    <tr>\n",
       "      <th>1035</th>\n",
       "      <td>Will I learn about the latest data science too...</td>\n",
       "      <td>Data Science</td>\n",
       "    </tr>\n",
       "    <tr>\n",
       "      <th>1036</th>\n",
       "      <td>Statistical knowledge is crucial for understan...</td>\n",
       "      <td>Data Science</td>\n",
       "    </tr>\n",
       "    <tr>\n",
       "      <th>1037</th>\n",
       "      <td>Release Managers play a crucial role in overse...</td>\n",
       "      <td>DevOps</td>\n",
       "    </tr>\n",
       "    <tr>\n",
       "      <th>1038</th>\n",
       "      <td>What tools and software are used for statistic...</td>\n",
       "      <td>Data Science</td>\n",
       "    </tr>\n",
       "    <tr>\n",
       "      <th>1039</th>\n",
       "      <td>The ideal candidates are aspiring mobile app d...</td>\n",
       "      <td>Mobile Development</td>\n",
       "    </tr>\n",
       "  </tbody>\n",
       "</table>\n",
       "<p>1040 rows × 2 columns</p>\n",
       "</div>"
      ],
      "text/plain": [
       "                                                    QnA                  tags\n",
       "0     Is the data science course full-time or part-t...          Data Science\n",
       "1     Coding assignments in the part-time course ran...  Software Engineering\n",
       "2     Does Moringa School provide support for career...          Data Science\n",
       "3     Are there any hands-on learning opportunities ...          Data Science\n",
       "4     The course comprises five phases, with Phases ...                 UI/UX\n",
       "...                                                 ...                   ...\n",
       "1035  Will I learn about the latest data science too...          Data Science\n",
       "1036  Statistical knowledge is crucial for understan...          Data Science\n",
       "1037  Release Managers play a crucial role in overse...                DevOps\n",
       "1038  What tools and software are used for statistic...          Data Science\n",
       "1039  The ideal candidates are aspiring mobile app d...    Mobile Development\n",
       "\n",
       "[1040 rows x 2 columns]"
      ]
     },
     "execution_count": 3,
     "metadata": {},
     "output_type": "execute_result"
    }
   ],
   "source": [
    "with open('../Final_Intents.json', 'r') as file:\n",
    "    intents = json.load(file)\n",
    "\n",
    "# formatting json to ensure keys read responses only\n",
    "for entry in intents:\n",
    "    if \"answers\" in entry:\n",
    "        entry[\"responses\"] = entry.pop(\"answers\")\n",
    "\n",
    "intents_dict={}\n",
    "\n",
    "QnA = []\n",
    "tags = []\n",
    "\n",
    "for intent in intents:\n",
    "    for question in intent[\"questions\"]:\n",
    "        tags.append(intent[\"tag\"])\n",
    "        QnA.append(question)\n",
    "    for res in intent[\"responses\"]:\n",
    "        tags.append(intent[\"tag\"])\n",
    "        QnA.append(res)\n",
    "\n",
    "intents_dict[\"QnA\"] = QnA\n",
    "intents_dict[\"tags\"] = tags\n",
    "\n",
    "\n",
    "df =  pd.DataFrame(intents_dict, columns=[\"QnA\", \"tags\"])\n",
    "\n",
    "# set seed to ensure reproducibility when shuffling\n",
    "np.random.seed(42)\n",
    "# shuffle to reduce bias and imrpove generalization\n",
    "df = df.sample(frac=1).reset_index(drop=True)\n",
    "\n",
    "df"
   ]
  },
  {
   "cell_type": "code",
   "execution_count": 4,
   "metadata": {},
   "outputs": [
    {
     "data": {
      "text/plain": [
       "Data Science            419\n",
       "Miscellaneous           131\n",
       "Software Engineering    122\n",
       "Enrollment               78\n",
       "Cloud Computing          60\n",
       "Mobile Development       60\n",
       "DevOps                   58\n",
       "Cybersecurity            54\n",
       "UI/UX                    38\n",
       "Contacts                 20\n",
       "Name: tags, dtype: int64"
      ]
     },
     "execution_count": 4,
     "metadata": {},
     "output_type": "execute_result"
    }
   ],
   "source": [
    "df['tags'].value_counts()"
   ]
  },
  {
   "cell_type": "markdown",
   "metadata": {},
   "source": [
    "This shows a class imbalance because some \"tags\" appear more frequently than others. This imbalance will affect the performance of our algorithm;it may struggle to properly learn and make accurate predictions for the minority class, leading to biased results."
   ]
  },
  {
   "cell_type": "code",
   "execution_count": 5,
   "metadata": {},
   "outputs": [],
   "source": [
    "# Text Preprocessing\n",
    "# Text Cleaning\n",
    "df['QnA'] = df['QnA'].str.lower().replace('[^a-zA-Z0-9]', ' ', regex=True)\n",
    "# Tokenization\n",
    "df['QnA'] = df['QnA'].apply(word_tokenize)\n",
    "# Removing Stop Words\n",
    "stop_words = set(stopwords.words('english'))\n",
    "df['QnA'] =df['QnA'].apply(lambda x: [word for word in x if word not in stop_words])\n",
    "# Lemmatization\n",
    "lemmatizer = WordNetLemmatizer()\n",
    "df['QnA']= df['QnA'].apply(lambda x: [lemmatizer.lemmatize(word) for word in x])\n",
    "# Joining tokens\n",
    "# Combine the list of tokens back into a string \n",
    "df['QnA'] = df['QnA'].apply(lambda x: ' '.join(x))\n",
    "\n"
   ]
  },
  {
   "cell_type": "code",
   "execution_count": 6,
   "metadata": {},
   "outputs": [],
   "source": [
    "# Split the data into training and testing sets\n",
    "X_train, X_test, y_train, y_test = train_test_split(df['QnA'], df['tags'], test_size=0.2, random_state=42)"
   ]
  },
  {
   "cell_type": "code",
   "execution_count": 7,
   "metadata": {},
   "outputs": [],
   "source": [
    "#  TF-IDF Vectorization\n",
    "tfidf_vectorizer = TfidfVectorizer()\n",
    "X_train_tfidf = tfidf_vectorizer.fit_transform(X_train)\n",
    "X_test_tfidf = tfidf_vectorizer.transform(X_test)\n"
   ]
  },
  {
   "cell_type": "code",
   "execution_count": 8,
   "metadata": {},
   "outputs": [],
   "source": [
    "# Oversample the training data\n",
    "ros = RandomOverSampler(random_state=42)\n",
    "X_resampled, y_resampled = ros.fit_resample(X_train_tfidf, y_train)\n"
   ]
  },
  {
   "cell_type": "code",
   "execution_count": 9,
   "metadata": {},
   "outputs": [],
   "source": [
    "# One-hot encode the oversampled target variable\n",
    "ohe = OneHotEncoder()\n",
    "y_resampled_encoded = ohe.fit_transform(pd.DataFrame(y_resampled).values.reshape(-1, 1))\n"
   ]
  },
  {
   "cell_type": "code",
   "execution_count": 12,
   "metadata": {},
   "outputs": [
    {
     "name": "stdout",
     "output_type": "stream",
     "text": [
      "Cross-Validation Scores: [0.95       0.95606061 0.95454545 0.9469697  0.9469697 ]\n",
      "Mean Accuracy: 0.9509090909090909\n",
      "Accuracy: 0.78\n",
      "                      precision    recall  f1-score   support\n",
      "\n",
      "     Cloud Computing       0.78      1.00      0.88         7\n",
      "            Contacts       1.00      0.50      0.67         4\n",
      "       Cybersecurity       0.57      0.50      0.53         8\n",
      "        Data Science       0.92      0.90      0.91        89\n",
      "              DevOps       0.56      0.62      0.59         8\n",
      "          Enrollment       0.69      0.79      0.73        14\n",
      "       Miscellaneous       0.66      0.58      0.61        33\n",
      "  Mobile Development       0.44      0.44      0.44         9\n",
      "Software Engineering       0.72      0.82      0.77        22\n",
      "               UI/UX       0.80      0.86      0.83        14\n",
      "\n",
      "            accuracy                           0.78       208\n",
      "           macro avg       0.71      0.70      0.70       208\n",
      "        weighted avg       0.78      0.78      0.78       208\n",
      "\n"
     ]
    }
   ],
   "source": [
    "# instantiate\n",
    "model = MultinomialNB(alpha=0.1)\n",
    "model.fit(X_resampled, y_resampled)\n",
    "\n",
    "# Model evaluation\n",
    "y_pred = model.predict(X_test_tfidf)\n",
    "\n",
    "accuracy = accuracy_score(y_test, y_pred)\n",
    "print(f\"Accuracy: {accuracy:.2f}\")\n",
    "print(classification_report(y_test, y_pred,zero_division=1))\n",
    "\n"
   ]
  },
  {
   "cell_type": "code",
   "execution_count": 13,
   "metadata": {},
   "outputs": [
    {
     "name": "stdout",
     "output_type": "stream",
     "text": [
      "Accuracy on the test set: 0.78\n"
     ]
    }
   ],
   "source": [
    "# Evaluate the model on the test set\n",
    "accuracy = model.score(X_test_tfidf, y_test)\n",
    "\n",
    "print(f\"Accuracy on the test set: {accuracy:.2f}\")"
   ]
  },
  {
   "cell_type": "code",
   "execution_count": 14,
   "metadata": {},
   "outputs": [
    {
     "name": "stdout",
     "output_type": "stream",
     "text": [
      "Cross-Validation Scores: [0.95       0.95606061 0.95454545 0.9469697  0.9469697 ]\n",
      "Mean Accuracy: 0.9509090909090909\n"
     ]
    }
   ],
   "source": [
    "cv = StratifiedKFold(n_splits=5, shuffle=True, random_state=42)\n",
    "cv_scores = cross_val_score(model, X_resampled, y_resampled, cv=cv, scoring='accuracy')\n",
    "# Print cross-validation scores\n",
    "print(\"Cross-Validation Scores:\", cv_scores)\n",
    "print(\"Mean Accuracy:\", np.mean(cv_scores))"
   ]
  },
  {
   "cell_type": "code",
   "execution_count": 15,
   "metadata": {},
   "outputs": [
    {
     "data": {
      "image/png": "[encoded data removed]",
      "text/plain": [
       "<Figure size 720x432 with 1 Axes>"
      ]
     },
     "metadata": {
      "needs_background": "light"
     },
     "output_type": "display_data"
    }
   ],
   "source": [
    "# Assuming you have X_train_tfidf and y_train in your training set\n",
    "train_sizes, train_scores, val_scores = learning_curve(\n",
    "    MultinomialNB(), X_train_tfidf, y_train, cv=5, scoring='accuracy', train_sizes=np.linspace(0.1, 1.0, 10)\n",
    ")\n",
    "\n",
    "plt.figure(figsize=(10, 6)) \n",
    "plt.plot(train_sizes, np.mean(train_scores, axis=1), label='Training score')\n",
    "plt.plot(train_sizes, np.mean(val_scores, axis=1), label='Validation score')\n",
    "plt.xlabel('Training examples')\n",
    "plt.ylabel('Score')\n",
    "plt.legend(loc='best')\n",
    "plt.show()\n"
   ]
  },
  {
   "cell_type": "markdown",
   "metadata": {},
   "source": [
    "With an accuracy score of .78, and a high mean accuracy of .95 across subsets of the data from cross validation, this suggests that the model is performing well. The training score is steadily increasing, showing that the model is able to learn complex patterns in the training data. The testing score is also steadily increasing, showing the model is also generalizing well to the testing set.However, there is still a significant gap between the two scores, showing that the model may be overfitting. \n",
    "\n",
    "We will try to improve performance by using ensemble methods. Ensemble methods are a type of learning in which multiple base models are trained independently in parallel on different subsets of the training data. Here, we will use Bagging Classifier because of its ability to reduce overfitting of data.\n",
    "\n"
   ]
  },
  {
   "cell_type": "markdown",
   "metadata": {},
   "source": [
    "# Model 2- Bagging Classifier"
   ]
  },
  {
   "cell_type": "code",
   "execution_count": 33,
   "metadata": {},
   "outputs": [
    {
     "name": "stdout",
     "output_type": "stream",
     "text": [
      "Accuracy: 0.76\n",
      "                      precision    recall  f1-score   support\n",
      "\n",
      "     Cloud Computing       1.00      1.00      1.00         7\n",
      "            Contacts       1.00      0.50      0.67         4\n",
      "       Cybersecurity       0.71      0.62      0.67         8\n",
      "        Data Science       0.96      0.79      0.86        89\n",
      "              DevOps       0.50      0.75      0.60         8\n",
      "          Enrollment       0.55      0.79      0.65        14\n",
      "       Miscellaneous       0.68      0.58      0.62        33\n",
      "  Mobile Development       0.40      0.67      0.50         9\n",
      "Software Engineering       0.63      0.86      0.73        22\n",
      "               UI/UX       0.93      0.93      0.93        14\n",
      "\n",
      "            accuracy                           0.76       208\n",
      "           macro avg       0.74      0.75      0.72       208\n",
      "        weighted avg       0.80      0.76      0.77       208\n",
      "\n"
     ]
    }
   ],
   "source": [
    "model = BaggingClassifier(estimator=MultinomialNB(), n_estimators=10, random_state=42)\n",
    "model.fit(X_resampled, y_resampled)\n",
    "\n",
    "\n",
    "#Model evaluation\n",
    "y_pred = model.predict(X_test_tfidf)\n",
    "accuracy = accuracy_score(y_test, y_pred)\n",
    "print(f\"Accuracy: {accuracy:.2f}\")\n",
    "print(classification_report(y_test, y_pred,zero_division=1))\n"
   ]
  },
  {
   "cell_type": "markdown",
   "metadata": {},
   "source": [
    "The clasisifer is performing worse than the Multinomial Naive Bayes model. "
   ]
  }
 ],
 "metadata": {
  "kernelspec": {
   "display_name": "Python (learn-env)",
   "language": "python",
   "name": "learn-env"
  },
  "language_info": {
   "codemirror_mode": {
    "name": "ipython",
    "version": 3
   },
   "file_extension": ".py",
   "mimetype": "text/x-python",
   "name": "python",
   "nbconvert_exporter": "python",
   "pygments_lexer": "ipython3",
   "version": "3.8.5"
  }
 },
 "nbformat": 4,
 "nbformat_minor": 4
}
